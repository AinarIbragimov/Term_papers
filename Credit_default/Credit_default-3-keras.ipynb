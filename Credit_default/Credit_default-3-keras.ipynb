{
 "cells": [
  {
   "cell_type": "code",
   "execution_count": 1,
   "metadata": {},
   "outputs": [],
   "source": [
    "# !pip install tensorflow\n",
    "# !pip install Keras"
   ]
  },
  {
   "cell_type": "code",
   "execution_count": 2,
   "metadata": {
    "ExecuteTime": {
     "end_time": "2020-10-24T02:44:18.049964Z",
     "start_time": "2020-10-24T02:44:15.613405Z"
    },
    "execution": {
     "iopub.execute_input": "2020-10-24T03:11:59.501253Z",
     "iopub.status.busy": "2020-10-24T03:11:59.500316Z",
     "iopub.status.idle": "2020-10-24T03:12:07.563032Z",
     "shell.execute_reply": "2020-10-24T03:12:07.562226Z"
    },
    "papermill": {
     "duration": 8.084149,
     "end_time": "2020-10-24T03:12:07.563199",
     "exception": false,
     "start_time": "2020-10-24T03:11:59.479050",
     "status": "completed"
    },
    "tags": []
   },
   "outputs": [],
   "source": [
    "# Import required libraries\n",
    "import pandas as pd\n",
    "import numpy as np \n",
    "import matplotlib.pyplot as plt\n",
    "import sklearn\n",
    "import tensorflow as tf\n",
    "\n",
    "# Import necessary modules\n",
    "from sklearn.preprocessing import MinMaxScaler\n",
    "from sklearn.model_selection import train_test_split, cross_val_score, StratifiedKFold\n",
    "from sklearn.metrics import classification_report, f1_score\n",
    "from sklearn.metrics import mean_squared_error\n",
    "from math import sqrt\n",
    "\n",
    "# Keras specific\n",
    "import keras\n",
    "from keras.models import Sequential\n",
    "from keras.layers import Dense\n",
    "from keras.utils import to_categorical "
   ]
  },
  {
   "cell_type": "code",
   "execution_count": 3,
   "metadata": {
    "ExecuteTime": {
     "end_time": "2020-10-24T02:44:18.087824Z",
     "start_time": "2020-10-24T02:44:18.05192Z"
    },
    "execution": {
     "iopub.execute_input": "2020-10-24T03:12:07.596682Z",
     "iopub.status.busy": "2020-10-24T03:12:07.594666Z",
     "iopub.status.idle": "2020-10-24T03:12:07.669287Z",
     "shell.execute_reply": "2020-10-24T03:12:07.668660Z"
    },
    "papermill": {
     "duration": 0.095015,
     "end_time": "2020-10-24T03:12:07.669429",
     "exception": false,
     "start_time": "2020-10-24T03:12:07.574414",
     "status": "completed"
    },
    "tags": []
   },
   "outputs": [
    {
     "data": {
      "text/plain": [
       "0    5387\n",
       "1    2113\n",
       "Name: Credit Default, dtype: int64"
      ]
     },
     "execution_count": 3,
     "metadata": {},
     "output_type": "execute_result"
    }
   ],
   "source": [
    "TRAIN_FILEPATH = 'train.csv'\n",
    "TEST_FILEPATH = 'test.csv'\n",
    "\n",
    "train_df = pd.read_csv(TRAIN_FILEPATH)\n",
    "test_df = pd.read_csv(TEST_FILEPATH)\n",
    "\n",
    "target = 'Credit Default'\n",
    "train_df[target].value_counts()"
   ]
  },
  {
   "cell_type": "code",
   "execution_count": 4,
   "metadata": {
    "ExecuteTime": {
     "end_time": "2020-10-24T02:44:18.100123Z",
     "start_time": "2020-10-24T02:44:18.089819Z"
    },
    "execution": {
     "iopub.execute_input": "2020-10-24T03:12:07.705744Z",
     "iopub.status.busy": "2020-10-24T03:12:07.701174Z",
     "iopub.status.idle": "2020-10-24T03:12:07.709383Z",
     "shell.execute_reply": "2020-10-24T03:12:07.708704Z"
    },
    "papermill": {
     "duration": 0.028162,
     "end_time": "2020-10-24T03:12:07.709525",
     "exception": false,
     "start_time": "2020-10-24T03:12:07.681363",
     "status": "completed"
    },
    "tags": []
   },
   "outputs": [],
   "source": [
    "def clean_df(df):\n",
    "    ann_inc_median = df['Annual Income'].median()\n",
    "    cred_score_median = df['Credit Score'].median()\n",
    "\n",
    "    max_open_cred_max = df['Maximum Open Credit'].max()\n",
    "    curr_loan_max = df.loc[df['Current Loan Amount'] < 1 * 10**8, 'Current Loan Amount'].max()\n",
    "\n",
    "    df['Annual Income'] = df['Annual Income'].fillna(ann_inc_median)\n",
    "    df['Years in current job'] = df['Years in current job'].fillna('< 1 year')\n",
    "    df = df.drop(columns=['Months since last delinquent'])\n",
    "    df['Bankruptcies'] = df['Bankruptcies'].fillna(0)\n",
    "    df['Credit Score'] = df['Credit Score'].fillna(cred_score_median)\n",
    "    df.loc[df['Annual Income'] > 4 * 10**6, 'Annual Income'] = ann_inc_median\n",
    "    df.loc[df['Maximum Open Credit'] > max_open_cred_max, 'Maximum Open Credit'] = max_open_cred_max\n",
    "    df.loc[df['Current Loan Amount'] == 1 * 10**8, 'Current Loan Amount'] = curr_loan_max\n",
    "    df.loc[df['Credit Score'] >= 3000, 'Credit Score'] //= 10\n",
    "    \n",
    "    return df"
   ]
  },
  {
   "cell_type": "code",
   "execution_count": 5,
   "metadata": {
    "ExecuteTime": {
     "end_time": "2020-10-24T02:44:18.15103Z",
     "start_time": "2020-10-24T02:44:18.101829Z"
    },
    "execution": {
     "iopub.execute_input": "2020-10-24T03:12:07.740638Z",
     "iopub.status.busy": "2020-10-24T03:12:07.739720Z",
     "iopub.status.idle": "2020-10-24T03:12:07.820026Z",
     "shell.execute_reply": "2020-10-24T03:12:07.819176Z"
    },
    "papermill": {
     "duration": 0.098944,
     "end_time": "2020-10-24T03:12:07.820182",
     "exception": false,
     "start_time": "2020-10-24T03:12:07.721238",
     "status": "completed"
    },
    "tags": []
   },
   "outputs": [],
   "source": [
    "# Немного чистим\n",
    "train_df = clean_df(train_df)\n",
    "test_df = clean_df(test_df)\n",
    "\n",
    "# Преобразуем категории в отдельные признаки\n",
    "train_df = pd.get_dummies(train_df, drop_first=True)\n",
    "test_df = pd.get_dummies(test_df, drop_first=True)\n",
    "train_df.drop('Purpose_renewable energy', axis=1, inplace = True)"
   ]
  },
  {
   "cell_type": "code",
   "execution_count": 6,
   "metadata": {
    "execution": {
     "iopub.execute_input": "2020-10-24T03:12:07.852926Z",
     "iopub.status.busy": "2020-10-24T03:12:07.852102Z",
     "iopub.status.idle": "2020-10-24T03:12:07.872808Z",
     "shell.execute_reply": "2020-10-24T03:12:07.872136Z"
    },
    "papermill": {
     "duration": 0.03861,
     "end_time": "2020-10-24T03:12:07.872963",
     "exception": false,
     "start_time": "2020-10-24T03:12:07.834353",
     "status": "completed"
    },
    "tags": []
   },
   "outputs": [
    {
     "name": "stdout",
     "output_type": "stream",
     "text": [
      "<class 'pandas.core.frame.DataFrame'>\n",
      "RangeIndex: 7500 entries, 0 to 7499\n",
      "Data columns (total 39 columns):\n",
      " #   Column                          Non-Null Count  Dtype  \n",
      "---  ------                          --------------  -----  \n",
      " 0   Annual Income                   7500 non-null   float64\n",
      " 1   Tax Liens                       7500 non-null   float64\n",
      " 2   Number of Open Accounts         7500 non-null   float64\n",
      " 3   Years of Credit History         7500 non-null   float64\n",
      " 4   Maximum Open Credit             7500 non-null   float64\n",
      " 5   Number of Credit Problems       7500 non-null   float64\n",
      " 6   Bankruptcies                    7500 non-null   float64\n",
      " 7   Current Loan Amount             7500 non-null   float64\n",
      " 8   Current Credit Balance          7500 non-null   float64\n",
      " 9   Monthly Debt                    7500 non-null   float64\n",
      " 10  Credit Score                    7500 non-null   float64\n",
      " 11  Credit Default                  7500 non-null   int64  \n",
      " 12  Home Ownership_Home Mortgage    7500 non-null   uint8  \n",
      " 13  Home Ownership_Own Home         7500 non-null   uint8  \n",
      " 14  Home Ownership_Rent             7500 non-null   uint8  \n",
      " 15  Years in current job_10+ years  7500 non-null   uint8  \n",
      " 16  Years in current job_2 years    7500 non-null   uint8  \n",
      " 17  Years in current job_3 years    7500 non-null   uint8  \n",
      " 18  Years in current job_4 years    7500 non-null   uint8  \n",
      " 19  Years in current job_5 years    7500 non-null   uint8  \n",
      " 20  Years in current job_6 years    7500 non-null   uint8  \n",
      " 21  Years in current job_7 years    7500 non-null   uint8  \n",
      " 22  Years in current job_8 years    7500 non-null   uint8  \n",
      " 23  Years in current job_9 years    7500 non-null   uint8  \n",
      " 24  Years in current job_< 1 year   7500 non-null   uint8  \n",
      " 25  Purpose_buy a car               7500 non-null   uint8  \n",
      " 26  Purpose_buy house               7500 non-null   uint8  \n",
      " 27  Purpose_debt consolidation      7500 non-null   uint8  \n",
      " 28  Purpose_educational expenses    7500 non-null   uint8  \n",
      " 29  Purpose_home improvements       7500 non-null   uint8  \n",
      " 30  Purpose_major purchase          7500 non-null   uint8  \n",
      " 31  Purpose_medical bills           7500 non-null   uint8  \n",
      " 32  Purpose_moving                  7500 non-null   uint8  \n",
      " 33  Purpose_other                   7500 non-null   uint8  \n",
      " 34  Purpose_small business          7500 non-null   uint8  \n",
      " 35  Purpose_take a trip             7500 non-null   uint8  \n",
      " 36  Purpose_vacation                7500 non-null   uint8  \n",
      " 37  Purpose_wedding                 7500 non-null   uint8  \n",
      " 38  Term_Short Term                 7500 non-null   uint8  \n",
      "dtypes: float64(11), int64(1), uint8(27)\n",
      "memory usage: 901.0 KB\n"
     ]
    }
   ],
   "source": [
    "train_df.info()"
   ]
  },
  {
   "cell_type": "code",
   "execution_count": 7,
   "metadata": {
    "ExecuteTime": {
     "end_time": "2020-10-24T02:44:18.168583Z",
     "start_time": "2020-10-24T02:44:18.152623Z"
    },
    "execution": {
     "iopub.execute_input": "2020-10-24T03:12:07.906715Z",
     "iopub.status.busy": "2020-10-24T03:12:07.905801Z",
     "iopub.status.idle": "2020-10-24T03:12:07.931660Z",
     "shell.execute_reply": "2020-10-24T03:12:07.932271Z"
    },
    "papermill": {
     "duration": 0.047168,
     "end_time": "2020-10-24T03:12:07.932453",
     "exception": false,
     "start_time": "2020-10-24T03:12:07.885285",
     "status": "completed"
    },
    "tags": []
   },
   "outputs": [
    {
     "data": {
      "text/plain": [
       "((7500, 38), (2500, 38))"
      ]
     },
     "execution_count": 7,
     "metadata": {},
     "output_type": "execute_result"
    }
   ],
   "source": [
    "X = train_df.drop(target, axis=1)\n",
    "y = train_df[target]\n",
    "\n",
    "# Scaler\n",
    "scaler = MinMaxScaler()\n",
    "\n",
    "X = scaler.fit_transform(X)\n",
    "test_df = scaler.fit_transform(test_df)\n",
    "\n",
    "X.shape, test_df.shape"
   ]
  },
  {
   "cell_type": "code",
   "execution_count": 8,
   "metadata": {
    "execution": {
     "iopub.execute_input": "2020-10-24T03:12:07.965003Z",
     "iopub.status.busy": "2020-10-24T03:12:07.963998Z",
     "iopub.status.idle": "2020-10-24T03:12:09.272080Z",
     "shell.execute_reply": "2020-10-24T03:12:09.271273Z"
    },
    "papermill": {
     "duration": 1.326896,
     "end_time": "2020-10-24T03:12:09.272263",
     "exception": false,
     "start_time": "2020-10-24T03:12:07.945367",
     "status": "completed"
    },
    "tags": []
   },
   "outputs": [],
   "source": [
    "# from collections import Counter\n",
    "from imblearn.over_sampling import ADASYN\n",
    "# print('Original dataset shape %s' % Counter(y_train))\n",
    "ada = ADASYN(random_state=42)\n",
    "X, y = ada.fit_resample(X, y)\n",
    "# print('Resampled dataset shape %s' % Counter(y_train))"
   ]
  },
  {
   "cell_type": "code",
   "execution_count": 9,
   "metadata": {
    "ExecuteTime": {
     "end_time": "2020-10-24T02:44:18.175562Z",
     "start_time": "2020-10-24T02:44:18.170576Z"
    },
    "execution": {
     "iopub.execute_input": "2020-10-24T03:12:09.307771Z",
     "iopub.status.busy": "2020-10-24T03:12:09.306673Z",
     "iopub.status.idle": "2020-10-24T03:12:09.312781Z",
     "shell.execute_reply": "2020-10-24T03:12:09.311979Z"
    },
    "papermill": {
     "duration": 0.02587,
     "end_time": "2020-10-24T03:12:09.312949",
     "exception": false,
     "start_time": "2020-10-24T03:12:09.287079",
     "status": "completed"
    },
    "tags": []
   },
   "outputs": [
    {
     "name": "stdout",
     "output_type": "stream",
     "text": [
      "2\n"
     ]
    }
   ],
   "source": [
    "# one hot encode outputs\n",
    "y = to_categorical(y)\n",
    "\n",
    "count_classes = y.shape[1]\n",
    "print(count_classes)"
   ]
  },
  {
   "cell_type": "code",
   "execution_count": 10,
   "metadata": {
    "ExecuteTime": {
     "end_time": "2020-10-24T02:44:18.268816Z",
     "start_time": "2020-10-24T02:44:18.177558Z"
    },
    "execution": {
     "iopub.execute_input": "2020-10-24T03:12:09.351243Z",
     "iopub.status.busy": "2020-10-24T03:12:09.350214Z",
     "iopub.status.idle": "2020-10-24T03:12:09.513645Z",
     "shell.execute_reply": "2020-10-24T03:12:09.512500Z"
    },
    "papermill": {
     "duration": 0.186952,
     "end_time": "2020-10-24T03:12:09.513849",
     "exception": false,
     "start_time": "2020-10-24T03:12:09.326897",
     "status": "completed"
    },
    "tags": []
   },
   "outputs": [],
   "source": [
    "# Задаём слои\n",
    "model = Sequential()\n",
    "model.add(Dense(64, activation='relu', input_dim=38))\n",
    "model.add(Dense(256, activation='relu'))\n",
    "model.add(Dense(128, activation='relu'))\n",
    "model.add(Dense(2, activation='softmax'))\n",
    "\n",
    "# Compile the model\n",
    "model.compile(optimizer='adam', \n",
    "              loss='binary_crossentropy', \n",
    "              metrics=[tf.keras.metrics.BinaryAccuracy()])"
   ]
  },
  {
   "cell_type": "code",
   "execution_count": 11,
   "metadata": {
    "ExecuteTime": {
     "end_time": "2020-10-24T02:44:23.672035Z",
     "start_time": "2020-10-24T02:44:18.271725Z"
    },
    "execution": {
     "iopub.execute_input": "2020-10-24T03:12:09.551791Z",
     "iopub.status.busy": "2020-10-24T03:12:09.550859Z",
     "iopub.status.idle": "2020-10-24T03:13:17.588896Z",
     "shell.execute_reply": "2020-10-24T03:13:17.587864Z"
    },
    "papermill": {
     "duration": 68.060337,
     "end_time": "2020-10-24T03:13:17.589070",
     "exception": false,
     "start_time": "2020-10-24T03:12:09.528733",
     "status": "completed"
    },
    "tags": []
   },
   "outputs": [
    {
     "name": "stdout",
     "output_type": "stream",
     "text": [
      "Epoch 1/100\n",
      "323/323 [==============================] - 3s 2ms/step - loss: 0.6541 - binary_accuracy: 0.5658\n",
      "Epoch 2/100\n",
      "323/323 [==============================] - 0s 1ms/step - loss: 0.6140 - binary_accuracy: 0.6210\n",
      "Epoch 3/100\n",
      "323/323 [==============================] - 0s 1ms/step - loss: 0.6126 - binary_accuracy: 0.6202\n",
      "Epoch 4/100\n",
      "323/323 [==============================] - 0s 1ms/step - loss: 0.6043 - binary_accuracy: 0.6340\n",
      "Epoch 5/100\n",
      "323/323 [==============================] - 0s 1ms/step - loss: 0.5988 - binary_accuracy: 0.6445\n",
      "Epoch 6/100\n",
      "323/323 [==============================] - 0s 1ms/step - loss: 0.5985 - binary_accuracy: 0.6409\n",
      "Epoch 7/100\n",
      "323/323 [==============================] - 0s 909us/step - loss: 0.5901 - binary_accuracy: 0.6530\n",
      "Epoch 8/100\n",
      "323/323 [==============================] - 0s 892us/step - loss: 0.5774 - binary_accuracy: 0.6638\n",
      "Epoch 9/100\n",
      "323/323 [==============================] - 0s 889us/step - loss: 0.5791 - binary_accuracy: 0.6581\n",
      "Epoch 10/100\n",
      "323/323 [==============================] - 0s 1ms/step - loss: 0.5637 - binary_accuracy: 0.6693\n",
      "Epoch 11/100\n",
      "323/323 [==============================] - 0s 1ms/step - loss: 0.5644 - binary_accuracy: 0.6642\n",
      "Epoch 12/100\n",
      "323/323 [==============================] - 0s 1ms/step - loss: 0.5568 - binary_accuracy: 0.6716\n",
      "Epoch 13/100\n",
      "323/323 [==============================] - 0s 982us/step - loss: 0.5527 - binary_accuracy: 0.6815\n",
      "Epoch 14/100\n",
      "323/323 [==============================] - 0s 904us/step - loss: 0.5431 - binary_accuracy: 0.6858\n",
      "Epoch 15/100\n",
      "323/323 [==============================] - 0s 945us/step - loss: 0.5462 - binary_accuracy: 0.6874\n",
      "Epoch 16/100\n",
      "323/323 [==============================] - 0s 1ms/step - loss: 0.5272 - binary_accuracy: 0.6998\n",
      "Epoch 17/100\n",
      "323/323 [==============================] - 0s 932us/step - loss: 0.5202 - binary_accuracy: 0.7101\n",
      "Epoch 18/100\n",
      "323/323 [==============================] - 0s 889us/step - loss: 0.5192 - binary_accuracy: 0.7054\n",
      "Epoch 19/100\n",
      "323/323 [==============================] - 0s 895us/step - loss: 0.5125 - binary_accuracy: 0.7083\n",
      "Epoch 20/100\n",
      "323/323 [==============================] - 0s 902us/step - loss: 0.5131 - binary_accuracy: 0.7144\n",
      "Epoch 21/100\n",
      "323/323 [==============================] - 0s 883us/step - loss: 0.5103 - binary_accuracy: 0.7160\n",
      "Epoch 22/100\n",
      "323/323 [==============================] - 0s 883us/step - loss: 0.5039 - binary_accuracy: 0.7144\n",
      "Epoch 23/100\n",
      "323/323 [==============================] - 0s 892us/step - loss: 0.4895 - binary_accuracy: 0.7322\n",
      "Epoch 24/100\n",
      "323/323 [==============================] - 0s 1ms/step - loss: 0.4912 - binary_accuracy: 0.7292\n",
      "Epoch 25/100\n",
      "323/323 [==============================] - 0s 1ms/step - loss: 0.4810 - binary_accuracy: 0.7304\n",
      "Epoch 26/100\n",
      "323/323 [==============================] - 0s 1ms/step - loss: 0.4792 - binary_accuracy: 0.7366\n",
      "Epoch 27/100\n",
      "323/323 [==============================] - 0s 920us/step - loss: 0.4636 - binary_accuracy: 0.7476\n",
      "Epoch 28/100\n",
      "323/323 [==============================] - 0s 936us/step - loss: 0.4570 - binary_accuracy: 0.7514\n",
      "Epoch 29/100\n",
      "323/323 [==============================] - 0s 961us/step - loss: 0.4504 - binary_accuracy: 0.7552\n",
      "Epoch 30/100\n",
      "323/323 [==============================] - 0s 945us/step - loss: 0.4483 - binary_accuracy: 0.7597\n",
      "Epoch 31/100\n",
      "323/323 [==============================] - 0s 916us/step - loss: 0.4517 - binary_accuracy: 0.7511\n",
      "Epoch 32/100\n",
      "323/323 [==============================] - 0s 966us/step - loss: 0.4423 - binary_accuracy: 0.7575\n",
      "Epoch 33/100\n",
      "323/323 [==============================] - 0s 1ms/step - loss: 0.4302 - binary_accuracy: 0.7693\n",
      "Epoch 34/100\n",
      "323/323 [==============================] - 0s 1ms/step - loss: 0.4324 - binary_accuracy: 0.7696\n",
      "Epoch 35/100\n",
      "323/323 [==============================] - 0s 945us/step - loss: 0.4245 - binary_accuracy: 0.7748\n",
      "Epoch 36/100\n",
      "323/323 [==============================] - 0s 897us/step - loss: 0.4262 - binary_accuracy: 0.7715\n",
      "Epoch 37/100\n",
      "323/323 [==============================] - 0s 947us/step - loss: 0.4092 - binary_accuracy: 0.7849\n",
      "Epoch 38/100\n",
      "323/323 [==============================] - 0s 906us/step - loss: 0.3980 - binary_accuracy: 0.7927\n",
      "Epoch 39/100\n",
      "323/323 [==============================] - 0s 926us/step - loss: 0.4059 - binary_accuracy: 0.7887\n",
      "Epoch 40/100\n",
      "323/323 [==============================] - 0s 907us/step - loss: 0.3947 - binary_accuracy: 0.7925\n",
      "Epoch 41/100\n",
      "323/323 [==============================] - 0s 933us/step - loss: 0.3921 - binary_accuracy: 0.7973\n",
      "Epoch 42/100\n",
      "323/323 [==============================] - 0s 954us/step - loss: 0.3797 - binary_accuracy: 0.8073\n",
      "Epoch 43/100\n",
      "323/323 [==============================] - 0s 877us/step - loss: 0.3749 - binary_accuracy: 0.8073\n",
      "Epoch 44/100\n",
      "323/323 [==============================] - 0s 884us/step - loss: 0.3677 - binary_accuracy: 0.8131\n",
      "Epoch 45/100\n",
      "323/323 [==============================] - 0s 940us/step - loss: 0.3595 - binary_accuracy: 0.8150\n",
      "Epoch 46/100\n",
      "323/323 [==============================] - 0s 940us/step - loss: 0.3594 - binary_accuracy: 0.8183\n",
      "Epoch 47/100\n",
      "323/323 [==============================] - 0s 895us/step - loss: 0.3494 - binary_accuracy: 0.8271\n",
      "Epoch 48/100\n",
      "323/323 [==============================] - 0s 1ms/step - loss: 0.3522 - binary_accuracy: 0.8176\n",
      "Epoch 49/100\n",
      "323/323 [==============================] - 0s 917us/step - loss: 0.3423 - binary_accuracy: 0.8323\n",
      "Epoch 50/100\n",
      "323/323 [==============================] - 0s 1ms/step - loss: 0.3458 - binary_accuracy: 0.8249\n",
      "Epoch 51/100\n",
      "323/323 [==============================] - 0s 1ms/step - loss: 0.3394 - binary_accuracy: 0.8284\n",
      "Epoch 52/100\n",
      "323/323 [==============================] - 0s 866us/step - loss: 0.3324 - binary_accuracy: 0.8302\n",
      "Epoch 53/100\n",
      "323/323 [==============================] - 0s 867us/step - loss: 0.3222 - binary_accuracy: 0.8408\n",
      "Epoch 54/100\n",
      "323/323 [==============================] - 0s 935us/step - loss: 0.3141 - binary_accuracy: 0.8455\n",
      "Epoch 55/100\n",
      "323/323 [==============================] - 0s 873us/step - loss: 0.3177 - binary_accuracy: 0.8448\n",
      "Epoch 56/100\n",
      "323/323 [==============================] - 0s 1ms/step - loss: 0.3139 - binary_accuracy: 0.8469\n",
      "Epoch 57/100\n",
      "323/323 [==============================] - 0s 849us/step - loss: 0.3112 - binary_accuracy: 0.8502\n",
      "Epoch 58/100\n",
      "323/323 [==============================] - 0s 870us/step - loss: 0.3126 - binary_accuracy: 0.8542\n",
      "Epoch 59/100\n",
      "323/323 [==============================] - 0s 1ms/step - loss: 0.2999 - binary_accuracy: 0.8577\n",
      "Epoch 60/100\n",
      "323/323 [==============================] - 0s 1ms/step - loss: 0.2950 - binary_accuracy: 0.8581\n",
      "Epoch 61/100\n",
      "323/323 [==============================] - 0s 1ms/step - loss: 0.2830 - binary_accuracy: 0.8631\n",
      "Epoch 62/100\n",
      "323/323 [==============================] - 0s 1ms/step - loss: 0.2795 - binary_accuracy: 0.8644\n",
      "Epoch 63/100\n",
      "323/323 [==============================] - 0s 1ms/step - loss: 0.2798 - binary_accuracy: 0.8645\n",
      "Epoch 64/100\n",
      "323/323 [==============================] - 0s 1ms/step - loss: 0.2818 - binary_accuracy: 0.8648\n",
      "Epoch 65/100\n",
      "323/323 [==============================] - 0s 1ms/step - loss: 0.2847 - binary_accuracy: 0.8593\n",
      "Epoch 66/100\n",
      "323/323 [==============================] - 0s 1ms/step - loss: 0.2667 - binary_accuracy: 0.8749\n",
      "Epoch 67/100\n",
      "323/323 [==============================] - 0s 1ms/step - loss: 0.2641 - binary_accuracy: 0.8717\n",
      "Epoch 68/100\n",
      "323/323 [==============================] - 0s 994us/step - loss: 0.2763 - binary_accuracy: 0.8697\n",
      "Epoch 69/100\n",
      "323/323 [==============================] - 0s 1ms/step - loss: 0.2565 - binary_accuracy: 0.8783\n",
      "Epoch 70/100\n",
      "323/323 [==============================] - 0s 1ms/step - loss: 0.2518 - binary_accuracy: 0.8851\n",
      "Epoch 71/100\n",
      "323/323 [==============================] - 0s 1ms/step - loss: 0.2491 - binary_accuracy: 0.8873\n",
      "Epoch 72/100\n",
      "323/323 [==============================] - 0s 1ms/step - loss: 0.2496 - binary_accuracy: 0.8815\n",
      "Epoch 73/100\n",
      "323/323 [==============================] - ETA: 0s - loss: 0.2575 - binary_accuracy: 0.887 - 0s 1ms/step - loss: 0.2581 - binary_accuracy: 0.8865\n",
      "Epoch 74/100\n",
      "323/323 [==============================] - 0s 1ms/step - loss: 0.2393 - binary_accuracy: 0.8903\n",
      "Epoch 75/100\n"
     ]
    },
    {
     "name": "stdout",
     "output_type": "stream",
     "text": [
      "323/323 [==============================] - 0s 2ms/step - loss: 0.2250 - binary_accuracy: 0.8966\n",
      "Epoch 76/100\n",
      "323/323 [==============================] - 1s 2ms/step - loss: 0.2345 - binary_accuracy: 0.8956\n",
      "Epoch 77/100\n",
      "323/323 [==============================] - 0s 1ms/step - loss: 0.2556 - binary_accuracy: 0.8842\n",
      "Epoch 78/100\n",
      "323/323 [==============================] - 0s 1ms/step - loss: 0.2508 - binary_accuracy: 0.8834\n",
      "Epoch 79/100\n",
      "323/323 [==============================] - 0s 2ms/step - loss: 0.2217 - binary_accuracy: 0.8961\n",
      "Epoch 80/100\n",
      "323/323 [==============================] - 1s 2ms/step - loss: 0.2115 - binary_accuracy: 0.9028\n",
      "Epoch 81/100\n",
      "323/323 [==============================] - 0s 1ms/step - loss: 0.2042 - binary_accuracy: 0.9077\n",
      "Epoch 82/100\n",
      "323/323 [==============================] - 0s 1ms/step - loss: 0.2102 - binary_accuracy: 0.9065\n",
      "Epoch 83/100\n",
      "323/323 [==============================] - 0s 1ms/step - loss: 0.2135 - binary_accuracy: 0.9025\n",
      "Epoch 84/100\n",
      "323/323 [==============================] - 0s 1ms/step - loss: 0.2120 - binary_accuracy: 0.9081\n",
      "Epoch 85/100\n",
      "323/323 [==============================] - 0s 1ms/step - loss: 0.2047 - binary_accuracy: 0.9114\n",
      "Epoch 86/100\n",
      "323/323 [==============================] - 1s 2ms/step - loss: 0.2119 - binary_accuracy: 0.9039\n",
      "Epoch 87/100\n",
      "323/323 [==============================] - 1s 2ms/step - loss: 0.2096 - binary_accuracy: 0.9054\n",
      "Epoch 88/100\n",
      "323/323 [==============================] - 1s 2ms/step - loss: 0.2027 - binary_accuracy: 0.9128\n",
      "Epoch 89/100\n",
      "323/323 [==============================] - 1s 2ms/step - loss: 0.1912 - binary_accuracy: 0.9155\n",
      "Epoch 90/100\n",
      "323/323 [==============================] - 1s 2ms/step - loss: 0.1937 - binary_accuracy: 0.9146A: 0s - loss: 0.1936 - binary_accuracy: 0.914\n",
      "Epoch 91/100\n",
      "323/323 [==============================] - 1s 2ms/step - loss: 0.1797 - binary_accuracy: 0.9234\n",
      "Epoch 92/100\n",
      "323/323 [==============================] - 1s 2ms/step - loss: 0.1954 - binary_accuracy: 0.9214\n",
      "Epoch 93/100\n",
      "323/323 [==============================] - 1s 3ms/step - loss: 0.1863 - binary_accuracy: 0.9165\n",
      "Epoch 94/100\n",
      "323/323 [==============================] - 1s 3ms/step - loss: 0.1717 - binary_accuracy: 0.9256\n",
      "Epoch 95/100\n",
      "323/323 [==============================] - 1s 3ms/step - loss: 0.1867 - binary_accuracy: 0.9205\n",
      "Epoch 96/100\n",
      "323/323 [==============================] - 1s 2ms/step - loss: 0.1645 - binary_accuracy: 0.9320\n",
      "Epoch 97/100\n",
      "323/323 [==============================] - 1s 4ms/step - loss: 0.1668 - binary_accuracy: 0.9265\n",
      "Epoch 98/100\n",
      "323/323 [==============================] - 1s 4ms/step - loss: 0.1772 - binary_accuracy: 0.9218\n",
      "Epoch 99/100\n",
      "323/323 [==============================] - 1s 4ms/step - loss: 0.1809 - binary_accuracy: 0.9249\n",
      "Epoch 100/100\n",
      "323/323 [==============================] - 1s 4ms/step - loss: 0.1648 - binary_accuracy: 0.9325\n"
     ]
    }
   ],
   "source": [
    "# Обучени модели\n",
    "model.fit(X, y, epochs=100)\n",
    "\n",
    "# Предсказание\n",
    "pred_test = model.predict(test_df)\n",
    "y_pred_test = np.rint(pred_test[:,1])\n",
    "\n",
    "# Выгрузка\n",
    "submit = pd.read_csv('sample_submission.csv')\n",
    "submit['Credit Default'] = y_pred_test.astype('int8')\n",
    "submit.to_csv('Credit_default_prediction3.csv', index=False)"
   ]
  },
  {
   "cell_type": "code",
   "execution_count": null,
   "metadata": {
    "papermill": {
     "duration": 0.64581,
     "end_time": "2020-10-24T03:13:18.858254",
     "exception": false,
     "start_time": "2020-10-24T03:13:18.212444",
     "status": "completed"
    },
    "tags": []
   },
   "outputs": [],
   "source": []
  },
  {
   "cell_type": "code",
   "execution_count": null,
   "metadata": {},
   "outputs": [],
   "source": []
  }
 ],
 "metadata": {
  "kernelspec": {
   "display_name": "Python 3",
   "language": "python",
   "name": "python3"
  },
  "language_info": {
   "codemirror_mode": {
    "name": "ipython",
    "version": 3
   },
   "file_extension": ".py",
   "mimetype": "text/x-python",
   "name": "python",
   "nbconvert_exporter": "python",
   "pygments_lexer": "ipython3",
   "version": "3.7.9"
  },
  "papermill": {
   "duration": 85.493509,
   "end_time": "2020-10-24T03:13:19.657755",
   "environment_variables": {},
   "exception": null,
   "input_path": "__notebook__.ipynb",
   "output_path": "__notebook__.ipynb",
   "parameters": {},
   "start_time": "2020-10-24T03:11:54.164246",
   "version": "2.1.0"
  }
 },
 "nbformat": 4,
 "nbformat_minor": 4
}
