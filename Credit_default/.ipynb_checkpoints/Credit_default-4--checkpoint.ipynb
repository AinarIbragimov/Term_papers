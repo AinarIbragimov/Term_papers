{
 "cells": [
  {
   "cell_type": "code",
   "execution_count": 1,
   "metadata": {
    "scrolled": true
   },
   "outputs": [],
   "source": [
    "# !pip install catboost\n",
    "from catboost import CatBoost"
   ]
  },
  {
   "cell_type": "code",
   "execution_count": 2,
   "metadata": {},
   "outputs": [],
   "source": [
    "import pandas as pd\n",
    "import numpy as np\n",
    "\n",
    "import matplotlib\n",
    "import matplotlib.pyplot as plt\n",
    "import seaborn as sns\n",
    "\n",
    "from sklearn.model_selection import train_test_split, StratifiedKFold, ShuffleSplit, cross_val_score, learning_curve\n",
    "from sklearn.model_selection import KFold, GridSearchCV, RandomizedSearchCV\n",
    "from sklearn.metrics import classification_report, f1_score, precision_score, recall_score\n",
    "\n",
    "import catboost as catb\n",
    "\n",
    "from scipy.stats import shapiro\n",
    "from scipy.stats import probplot\n",
    "from scipy.stats import mannwhitneyu\n",
    "from scipy.stats import chi2_contingency\n",
    "\n",
    "import warnings\n",
    "warnings.simplefilter('ignore')"
   ]
  },
  {
   "cell_type": "code",
   "execution_count": 3,
   "metadata": {},
   "outputs": [],
   "source": [
    "TRAIN_DATASET_PATH = 'train.csv'\n",
    "TEST_DATASET_PATH = 'test.csv'\n",
    "train = pd.read_csv(TRAIN_DATASET_PATH) # загружаем тренировочный датасет в датафрейм df_train\n",
    "test = pd.read_csv(TEST_DATASET_PATH) # загружаем тестовый датасет в датафрейм df_test"
   ]
  },
  {
   "cell_type": "code",
   "execution_count": 4,
   "metadata": {},
   "outputs": [],
   "source": [
    "TARGET_NAME = 'Credit Default'\n",
    "BASE_FEATURE_NAMES = train.columns.drop(TARGET_NAME).tolist()\n",
    "\n",
    "NUMB_FEATURE_NAMES = ['Annual Income','Tax Liens','Number of Open Accounts','Years of Credit History',\n",
    "                     'Maximum Open Credit','Number of Credit Problems','Months since last delinquent',\n",
    "                     'Bankruptcies','Current Loan Amount','Current Credit Balance','Monthly Debt','Credit Score']\n",
    "\n",
    "CAT_FEATURE_NAMES = ['Years in current job','Home Ownership','Purpose','Term']"
   ]
  },
  {
   "cell_type": "code",
   "execution_count": 5,
   "metadata": {},
   "outputs": [
    {
     "data": {
      "text/html": [
       "<div>\n",
       "<style scoped>\n",
       "    .dataframe tbody tr th:only-of-type {\n",
       "        vertical-align: middle;\n",
       "    }\n",
       "\n",
       "    .dataframe tbody tr th {\n",
       "        vertical-align: top;\n",
       "    }\n",
       "\n",
       "    .dataframe thead th {\n",
       "        text-align: right;\n",
       "    }\n",
       "</style>\n",
       "<table border=\"1\" class=\"dataframe\">\n",
       "  <thead>\n",
       "    <tr style=\"text-align: right;\">\n",
       "      <th></th>\n",
       "      <th>Home Ownership</th>\n",
       "      <th>Annual Income</th>\n",
       "      <th>Years in current job</th>\n",
       "      <th>Tax Liens</th>\n",
       "      <th>Number of Open Accounts</th>\n",
       "      <th>Years of Credit History</th>\n",
       "      <th>Maximum Open Credit</th>\n",
       "      <th>Number of Credit Problems</th>\n",
       "      <th>Months since last delinquent</th>\n",
       "      <th>Bankruptcies</th>\n",
       "      <th>Purpose</th>\n",
       "      <th>Term</th>\n",
       "      <th>Current Loan Amount</th>\n",
       "      <th>Current Credit Balance</th>\n",
       "      <th>Monthly Debt</th>\n",
       "      <th>Credit Score</th>\n",
       "      <th>Credit Default</th>\n",
       "    </tr>\n",
       "  </thead>\n",
       "  <tbody>\n",
       "    <tr>\n",
       "      <th>0</th>\n",
       "      <td>Own Home</td>\n",
       "      <td>482087.0</td>\n",
       "      <td>NaN</td>\n",
       "      <td>0.0</td>\n",
       "      <td>11.0</td>\n",
       "      <td>26.3</td>\n",
       "      <td>685960.0</td>\n",
       "      <td>1.0</td>\n",
       "      <td>NaN</td>\n",
       "      <td>1.0</td>\n",
       "      <td>debt consolidation</td>\n",
       "      <td>Short Term</td>\n",
       "      <td>99999999.0</td>\n",
       "      <td>47386.0</td>\n",
       "      <td>7914.0</td>\n",
       "      <td>749.0</td>\n",
       "      <td>0</td>\n",
       "    </tr>\n",
       "    <tr>\n",
       "      <th>1</th>\n",
       "      <td>Own Home</td>\n",
       "      <td>1025487.0</td>\n",
       "      <td>10+ years</td>\n",
       "      <td>0.0</td>\n",
       "      <td>15.0</td>\n",
       "      <td>15.3</td>\n",
       "      <td>1181730.0</td>\n",
       "      <td>0.0</td>\n",
       "      <td>NaN</td>\n",
       "      <td>0.0</td>\n",
       "      <td>debt consolidation</td>\n",
       "      <td>Long Term</td>\n",
       "      <td>264968.0</td>\n",
       "      <td>394972.0</td>\n",
       "      <td>18373.0</td>\n",
       "      <td>737.0</td>\n",
       "      <td>1</td>\n",
       "    </tr>\n",
       "    <tr>\n",
       "      <th>2</th>\n",
       "      <td>Home Mortgage</td>\n",
       "      <td>751412.0</td>\n",
       "      <td>8 years</td>\n",
       "      <td>0.0</td>\n",
       "      <td>11.0</td>\n",
       "      <td>35.0</td>\n",
       "      <td>1182434.0</td>\n",
       "      <td>0.0</td>\n",
       "      <td>NaN</td>\n",
       "      <td>0.0</td>\n",
       "      <td>debt consolidation</td>\n",
       "      <td>Short Term</td>\n",
       "      <td>99999999.0</td>\n",
       "      <td>308389.0</td>\n",
       "      <td>13651.0</td>\n",
       "      <td>742.0</td>\n",
       "      <td>0</td>\n",
       "    </tr>\n",
       "    <tr>\n",
       "      <th>3</th>\n",
       "      <td>Own Home</td>\n",
       "      <td>805068.0</td>\n",
       "      <td>6 years</td>\n",
       "      <td>0.0</td>\n",
       "      <td>8.0</td>\n",
       "      <td>22.5</td>\n",
       "      <td>147400.0</td>\n",
       "      <td>1.0</td>\n",
       "      <td>NaN</td>\n",
       "      <td>1.0</td>\n",
       "      <td>debt consolidation</td>\n",
       "      <td>Short Term</td>\n",
       "      <td>121396.0</td>\n",
       "      <td>95855.0</td>\n",
       "      <td>11338.0</td>\n",
       "      <td>694.0</td>\n",
       "      <td>0</td>\n",
       "    </tr>\n",
       "    <tr>\n",
       "      <th>4</th>\n",
       "      <td>Rent</td>\n",
       "      <td>776264.0</td>\n",
       "      <td>8 years</td>\n",
       "      <td>0.0</td>\n",
       "      <td>13.0</td>\n",
       "      <td>13.6</td>\n",
       "      <td>385836.0</td>\n",
       "      <td>1.0</td>\n",
       "      <td>NaN</td>\n",
       "      <td>0.0</td>\n",
       "      <td>debt consolidation</td>\n",
       "      <td>Short Term</td>\n",
       "      <td>125840.0</td>\n",
       "      <td>93309.0</td>\n",
       "      <td>7180.0</td>\n",
       "      <td>719.0</td>\n",
       "      <td>0</td>\n",
       "    </tr>\n",
       "    <tr>\n",
       "      <th>5</th>\n",
       "      <td>Rent</td>\n",
       "      <td>NaN</td>\n",
       "      <td>7 years</td>\n",
       "      <td>0.0</td>\n",
       "      <td>12.0</td>\n",
       "      <td>14.6</td>\n",
       "      <td>366784.0</td>\n",
       "      <td>0.0</td>\n",
       "      <td>NaN</td>\n",
       "      <td>0.0</td>\n",
       "      <td>other</td>\n",
       "      <td>Long Term</td>\n",
       "      <td>337304.0</td>\n",
       "      <td>165680.0</td>\n",
       "      <td>18692.0</td>\n",
       "      <td>NaN</td>\n",
       "      <td>1</td>\n",
       "    </tr>\n",
       "    <tr>\n",
       "      <th>6</th>\n",
       "      <td>Home Mortgage</td>\n",
       "      <td>1511108.0</td>\n",
       "      <td>10+ years</td>\n",
       "      <td>0.0</td>\n",
       "      <td>9.0</td>\n",
       "      <td>20.3</td>\n",
       "      <td>388124.0</td>\n",
       "      <td>0.0</td>\n",
       "      <td>73.0</td>\n",
       "      <td>0.0</td>\n",
       "      <td>home improvements</td>\n",
       "      <td>Short Term</td>\n",
       "      <td>99999999.0</td>\n",
       "      <td>51623.0</td>\n",
       "      <td>2317.0</td>\n",
       "      <td>745.0</td>\n",
       "      <td>0</td>\n",
       "    </tr>\n",
       "    <tr>\n",
       "      <th>7</th>\n",
       "      <td>Rent</td>\n",
       "      <td>1040060.0</td>\n",
       "      <td>10+ years</td>\n",
       "      <td>0.0</td>\n",
       "      <td>13.0</td>\n",
       "      <td>12.0</td>\n",
       "      <td>330374.0</td>\n",
       "      <td>0.0</td>\n",
       "      <td>18.0</td>\n",
       "      <td>0.0</td>\n",
       "      <td>other</td>\n",
       "      <td>Short Term</td>\n",
       "      <td>250888.0</td>\n",
       "      <td>89015.0</td>\n",
       "      <td>19761.0</td>\n",
       "      <td>705.0</td>\n",
       "      <td>1</td>\n",
       "    </tr>\n",
       "    <tr>\n",
       "      <th>8</th>\n",
       "      <td>Home Mortgage</td>\n",
       "      <td>NaN</td>\n",
       "      <td>5 years</td>\n",
       "      <td>0.0</td>\n",
       "      <td>17.0</td>\n",
       "      <td>15.7</td>\n",
       "      <td>0.0</td>\n",
       "      <td>1.0</td>\n",
       "      <td>NaN</td>\n",
       "      <td>1.0</td>\n",
       "      <td>home improvements</td>\n",
       "      <td>Short Term</td>\n",
       "      <td>129734.0</td>\n",
       "      <td>19.0</td>\n",
       "      <td>17.0</td>\n",
       "      <td>NaN</td>\n",
       "      <td>0</td>\n",
       "    </tr>\n",
       "    <tr>\n",
       "      <th>9</th>\n",
       "      <td>Home Mortgage</td>\n",
       "      <td>NaN</td>\n",
       "      <td>1 year</td>\n",
       "      <td>0.0</td>\n",
       "      <td>10.0</td>\n",
       "      <td>24.6</td>\n",
       "      <td>511302.0</td>\n",
       "      <td>0.0</td>\n",
       "      <td>6.0</td>\n",
       "      <td>0.0</td>\n",
       "      <td>debt consolidation</td>\n",
       "      <td>Long Term</td>\n",
       "      <td>572880.0</td>\n",
       "      <td>205333.0</td>\n",
       "      <td>17613.0</td>\n",
       "      <td>NaN</td>\n",
       "      <td>1</td>\n",
       "    </tr>\n",
       "  </tbody>\n",
       "</table>\n",
       "</div>"
      ],
      "text/plain": [
       "  Home Ownership  Annual Income Years in current job  Tax Liens  \\\n",
       "0       Own Home       482087.0                  NaN        0.0   \n",
       "1       Own Home      1025487.0            10+ years        0.0   \n",
       "2  Home Mortgage       751412.0              8 years        0.0   \n",
       "3       Own Home       805068.0              6 years        0.0   \n",
       "4           Rent       776264.0              8 years        0.0   \n",
       "5           Rent            NaN              7 years        0.0   \n",
       "6  Home Mortgage      1511108.0            10+ years        0.0   \n",
       "7           Rent      1040060.0            10+ years        0.0   \n",
       "8  Home Mortgage            NaN              5 years        0.0   \n",
       "9  Home Mortgage            NaN               1 year        0.0   \n",
       "\n",
       "   Number of Open Accounts  Years of Credit History  Maximum Open Credit  \\\n",
       "0                     11.0                     26.3             685960.0   \n",
       "1                     15.0                     15.3            1181730.0   \n",
       "2                     11.0                     35.0            1182434.0   \n",
       "3                      8.0                     22.5             147400.0   \n",
       "4                     13.0                     13.6             385836.0   \n",
       "5                     12.0                     14.6             366784.0   \n",
       "6                      9.0                     20.3             388124.0   \n",
       "7                     13.0                     12.0             330374.0   \n",
       "8                     17.0                     15.7                  0.0   \n",
       "9                     10.0                     24.6             511302.0   \n",
       "\n",
       "   Number of Credit Problems  Months since last delinquent  Bankruptcies  \\\n",
       "0                        1.0                           NaN           1.0   \n",
       "1                        0.0                           NaN           0.0   \n",
       "2                        0.0                           NaN           0.0   \n",
       "3                        1.0                           NaN           1.0   \n",
       "4                        1.0                           NaN           0.0   \n",
       "5                        0.0                           NaN           0.0   \n",
       "6                        0.0                          73.0           0.0   \n",
       "7                        0.0                          18.0           0.0   \n",
       "8                        1.0                           NaN           1.0   \n",
       "9                        0.0                           6.0           0.0   \n",
       "\n",
       "              Purpose        Term  Current Loan Amount  \\\n",
       "0  debt consolidation  Short Term           99999999.0   \n",
       "1  debt consolidation   Long Term             264968.0   \n",
       "2  debt consolidation  Short Term           99999999.0   \n",
       "3  debt consolidation  Short Term             121396.0   \n",
       "4  debt consolidation  Short Term             125840.0   \n",
       "5               other   Long Term             337304.0   \n",
       "6   home improvements  Short Term           99999999.0   \n",
       "7               other  Short Term             250888.0   \n",
       "8   home improvements  Short Term             129734.0   \n",
       "9  debt consolidation   Long Term             572880.0   \n",
       "\n",
       "   Current Credit Balance  Monthly Debt  Credit Score  Credit Default  \n",
       "0                 47386.0        7914.0         749.0               0  \n",
       "1                394972.0       18373.0         737.0               1  \n",
       "2                308389.0       13651.0         742.0               0  \n",
       "3                 95855.0       11338.0         694.0               0  \n",
       "4                 93309.0        7180.0         719.0               0  \n",
       "5                165680.0       18692.0           NaN               1  \n",
       "6                 51623.0        2317.0         745.0               0  \n",
       "7                 89015.0       19761.0         705.0               1  \n",
       "8                    19.0          17.0           NaN               0  \n",
       "9                205333.0       17613.0           NaN               1  "
      ]
     },
     "execution_count": 5,
     "metadata": {},
     "output_type": "execute_result"
    }
   ],
   "source": [
    "train.head(10)"
   ]
  },
  {
   "cell_type": "markdown",
   "metadata": {},
   "source": [
    "Распределение значений целевой переменной"
   ]
  },
  {
   "cell_type": "code",
   "execution_count": 6,
   "metadata": {},
   "outputs": [
    {
     "data": {
      "image/png": "[encoded data removed]",
      "text/plain": [
       "<Figure size 576x360 with 1 Axes>"
      ]
     },
     "metadata": {
      "needs_background": "light"
     },
     "output_type": "display_data"
    }
   ],
   "source": [
    "plt.figure(figsize=(8, 5))\n",
    "\n",
    "sns.countplot(x=TARGET_NAME, data=train)\n",
    "\n",
    "plt.title('Target variable distribution')\n",
    "plt.show()"
   ]
  },
  {
   "cell_type": "code",
   "execution_count": null,
   "metadata": {},
   "outputs": [],
   "source": []
  },
  {
   "cell_type": "code",
   "execution_count": 7,
   "metadata": {},
   "outputs": [
    {
     "ename": "NameError",
     "evalue": "name 'corr' is not defined",
     "output_type": "error",
     "traceback": [
      "\u001b[1;31m---------------------------------------------------------------------------\u001b[0m",
      "\u001b[1;31mNameError\u001b[0m                                 Traceback (most recent call last)",
      "\u001b[1;32m<ipython-input-7-31c26aa31621>\u001b[0m in \u001b[0;36m<module>\u001b[1;34m\u001b[0m\n\u001b[0;32m      3\u001b[0m \u001b[0msns\u001b[0m\u001b[1;33m.\u001b[0m\u001b[0mset\u001b[0m\u001b[1;33m(\u001b[0m\u001b[0mfont_scale\u001b[0m\u001b[1;33m=\u001b[0m\u001b[1;36m0.8\u001b[0m\u001b[1;33m)\u001b[0m\u001b[1;33m\u001b[0m\u001b[1;33m\u001b[0m\u001b[0m\n\u001b[0;32m      4\u001b[0m \u001b[1;33m\u001b[0m\u001b[0m\n\u001b[1;32m----> 5\u001b[1;33m \u001b[0mmask\u001b[0m \u001b[1;33m=\u001b[0m \u001b[0mnp\u001b[0m\u001b[1;33m.\u001b[0m\u001b[0mzeros_like\u001b[0m\u001b[1;33m(\u001b[0m\u001b[0mcorr\u001b[0m\u001b[1;33m,\u001b[0m \u001b[0mdtype\u001b[0m\u001b[1;33m=\u001b[0m\u001b[0mnp\u001b[0m\u001b[1;33m.\u001b[0m\u001b[0mbool\u001b[0m\u001b[1;33m)\u001b[0m\u001b[1;33m\u001b[0m\u001b[1;33m\u001b[0m\u001b[0m\n\u001b[0m\u001b[0;32m      6\u001b[0m \u001b[0mmask\u001b[0m\u001b[1;33m[\u001b[0m\u001b[0mnp\u001b[0m\u001b[1;33m.\u001b[0m\u001b[0mtriu_indices_from\u001b[0m\u001b[1;33m(\u001b[0m\u001b[0mmask\u001b[0m\u001b[1;33m)\u001b[0m\u001b[1;33m]\u001b[0m \u001b[1;33m=\u001b[0m \u001b[1;32mTrue\u001b[0m\u001b[1;33m\u001b[0m\u001b[1;33m\u001b[0m\u001b[0m\n\u001b[0;32m      7\u001b[0m \u001b[0mcorr_matrix\u001b[0m \u001b[1;33m=\u001b[0m \u001b[0mtrain\u001b[0m\u001b[1;33m.\u001b[0m\u001b[0mcorr\u001b[0m\u001b[1;33m(\u001b[0m\u001b[1;33m)\u001b[0m\u001b[1;33m\u001b[0m\u001b[1;33m\u001b[0m\u001b[0m\n",
      "\u001b[1;31mNameError\u001b[0m: name 'corr' is not defined"
     ]
    },
    {
     "data": {
      "text/plain": [
       "<Figure size 1080x720 with 0 Axes>"
      ]
     },
     "metadata": {},
     "output_type": "display_data"
    }
   ],
   "source": [
    "plt.figure(figsize = (15,10))\n",
    "\n",
    "sns.set(font_scale=0.8)\n",
    "\n",
    "mask = np.zeros_like(corr, dtype=np.bool)\n",
    "mask[np.triu_indices_from(mask)] = True\n",
    "corr_matrix = train.corr()\n",
    "corr_matrix = np.round(corr_matrix, 2)\n",
    "corr_matrix[np.abs(corr_matrix) < 0.3] = 0\n",
    "\n",
    "sns.heatmap(corr_matrix,mask=mask,  annot=True, linewidths=.5, cmap='coolwarm')\n",
    "\n",
    "plt.title('Correlation matrix')\n",
    "plt.show()"
   ]
  },
  {
   "cell_type": "code",
   "execution_count": 8,
   "metadata": {},
   "outputs": [
    {
     "data": {
      "image/png": "[encoded data removed]",
      "text/plain": [
       "<Figure size 720x576 with 1 Axes>"
      ]
     },
     "metadata": {},
     "output_type": "display_data"
    }
   ],
   "source": [
    "plt.figure(figsize=(10, 8))\n",
    "\n",
    "sns.countplot(x=\"Years in current job\", hue=TARGET_NAME, data=train)\n",
    "plt.title('\\\"Years in current job\\\" grouped by target variable')\n",
    "plt.legend(title='Target', loc='upper right')\n",
    "\n",
    "plt.show()"
   ]
  },
  {
   "cell_type": "markdown",
   "metadata": {},
   "source": [
    "Исследование пропусков и заполнение пропусков"
   ]
  },
  {
   "cell_type": "code",
   "execution_count": 9,
   "metadata": {},
   "outputs": [
    {
     "data": {
      "text/plain": [
       "Home Ownership                     0\n",
       "Annual Income                   1557\n",
       "Years in current job             371\n",
       "Tax Liens                          0\n",
       "Number of Open Accounts            0\n",
       "Years of Credit History            0\n",
       "Maximum Open Credit                0\n",
       "Number of Credit Problems          0\n",
       "Months since last delinquent    4081\n",
       "Bankruptcies                      14\n",
       "Purpose                            0\n",
       "Term                               0\n",
       "Current Loan Amount                0\n",
       "Current Credit Balance             0\n",
       "Monthly Debt                       0\n",
       "Credit Score                    1557\n",
       "Credit Default                     0\n",
       "dtype: int64"
      ]
     },
     "execution_count": 9,
     "metadata": {},
     "output_type": "execute_result"
    }
   ],
   "source": [
    "train.isna().sum()"
   ]
  },
  {
   "cell_type": "code",
   "execution_count": 10,
   "metadata": {},
   "outputs": [],
   "source": [
    "class FeatureCorrector:\n",
    "    \n",
    "    def __init__(self):\n",
    "        \n",
    "        self.maximum_open_credit_max = None\n",
    "        self.current_loan_amount_max = None\n",
    "        self.medians = None\n",
    "        self.year_mode = None\n",
    "        self.mask_year = None\n",
    "        self.mask_deliq = None\n",
    "        self.mask_term = None\n",
    "        \n",
    "    def fit(self, df):\n",
    "        \n",
    "        self.max_open_credit_max = df['Maximum Open Credit'].quantile(0.85)\n",
    "        self.cur_loan_amount_max = 800000 #df['Current Loan Amount'].quantile(0.9)\n",
    "        self.medians = df.median()\n",
    "        self.year_mode = df['Years in current job'].mode().astype(str)[0]\n",
    "        self.mask_deliq = {True : 0, False: 1}\n",
    "        self.mask_term = {'Short Term': 0, 'Long Term': 1}\n",
    "        \n",
    "        \n",
    "    def transform(self, df):\n",
    "        \n",
    "        # Annual Income\n",
    "        \n",
    "        df['Annual_Income_is_NaN'] = 0\n",
    "        df.loc[df['Annual Income'].isnull() == True, 'Annual_Income_is_NaN'] = 1\n",
    "        \n",
    "        df['Annual Income'].fillna(self.medians['Annual Income'], inplace=True)\n",
    "        \n",
    "        # Years in current job\n",
    "        \n",
    "        df['Years in current job'] = df['Years in current job'].fillna(self.year_mode)\n",
    "        \n",
    "        # Home Ownership\n",
    "        \n",
    "        df.loc[train[\"Home Ownership\"] == \"Have Mortgage\", \"Home Ownership\"] = \"Home Mortgage\"\n",
    "        \n",
    "        # Tax Liens\n",
    "        \n",
    "        df.loc[df['Tax Liens'] > 0, 'Tax Liens'] = 1\n",
    "        \n",
    "        # Months since last delinquent\n",
    "        \n",
    "        df['Months since last delinquent'] = df['Months since last delinquent'].isna().map(self.mask_deliq)\n",
    "        \n",
    "        # Bankruptcies\n",
    "        \n",
    "        df[\"Bankruptcies\"].fillna(0, inplace=True)\n",
    "        \n",
    "        # Term\n",
    "        \n",
    "        df['Term'] = df['Term'].map(self.mask_term)\n",
    "        \n",
    "        # Current Loan Amount\n",
    "        \n",
    "        df.loc[df['Current Loan Amount'] > self.cur_loan_amount_max , 'Current Loan Amount'] = self.cur_loan_amount_max\n",
    "        df['Current Loan Amount'].fillna(self.medians['Current Loan Amount'])\n",
    "        \n",
    "        # Maximum Open Credit\n",
    "        \n",
    "        df.loc[df['Maximum Open Credit'] > self.max_open_credit_max, 'Maximum Open Credit'] = self.max_open_credit_max\n",
    "        \n",
    "        # Credit Score\n",
    "        \n",
    "        df.loc[df['Credit Score'] > 1000, 'Credit Score'] = df['Credit Score'] / 10\n",
    "        df['Credit Score'].fillna(self.medians['Credit Score'], inplace=True)\n",
    "        \n",
    "        # convert to int64\n",
    "        \n",
    "        df['Tax Liens'] = df['Tax Liens'].astype('int64')\n",
    "        df['Bankruptcies'] = df['Bankruptcies'].astype('int64')\n",
    "        df['Number of Credit Problems'] = df['Number of Credit Problems'].astype('int64')\n",
    "        \n",
    "        return df"
   ]
  },
  {
   "cell_type": "code",
   "execution_count": 11,
   "metadata": {},
   "outputs": [],
   "source": [
    "corrector = FeatureCorrector()\n",
    "\n",
    "corrector.fit(train)\n",
    "\n",
    "train = corrector.transform(train)\n",
    "test = corrector.transform(test)"
   ]
  },
  {
   "cell_type": "code",
   "execution_count": 12,
   "metadata": {},
   "outputs": [
    {
     "name": "stdout",
     "output_type": "stream",
     "text": [
      "<class 'pandas.core.frame.DataFrame'>\n",
      "RangeIndex: 7500 entries, 0 to 7499\n",
      "Data columns (total 18 columns):\n",
      " #   Column                        Non-Null Count  Dtype  \n",
      "---  ------                        --------------  -----  \n",
      " 0   Home Ownership                7500 non-null   object \n",
      " 1   Annual Income                 7500 non-null   float64\n",
      " 2   Years in current job          7500 non-null   object \n",
      " 3   Tax Liens                     7500 non-null   int64  \n",
      " 4   Number of Open Accounts       7500 non-null   float64\n",
      " 5   Years of Credit History       7500 non-null   float64\n",
      " 6   Maximum Open Credit           7500 non-null   float64\n",
      " 7   Number of Credit Problems     7500 non-null   int64  \n",
      " 8   Months since last delinquent  7500 non-null   int64  \n",
      " 9   Bankruptcies                  7500 non-null   int64  \n",
      " 10  Purpose                       7500 non-null   object \n",
      " 11  Term                          7500 non-null   int64  \n",
      " 12  Current Loan Amount           7500 non-null   float64\n",
      " 13  Current Credit Balance        7500 non-null   float64\n",
      " 14  Monthly Debt                  7500 non-null   float64\n",
      " 15  Credit Score                  7500 non-null   float64\n",
      " 16  Credit Default                7500 non-null   int64  \n",
      " 17  Annual_Income_is_NaN          7500 non-null   int64  \n",
      "dtypes: float64(8), int64(7), object(3)\n",
      "memory usage: 1.0+ MB\n"
     ]
    }
   ],
   "source": [
    "train.info()"
   ]
  },
  {
   "cell_type": "code",
   "execution_count": 13,
   "metadata": {},
   "outputs": [
    {
     "data": {
      "text/plain": [
       "0"
      ]
     },
     "execution_count": 13,
     "metadata": {},
     "output_type": "execute_result"
    }
   ],
   "source": [
    "train.isna().sum().sum()"
   ]
  },
  {
   "cell_type": "code",
   "execution_count": 14,
   "metadata": {},
   "outputs": [
    {
     "data": {
      "text/plain": [
       "0"
      ]
     },
     "execution_count": 14,
     "metadata": {},
     "output_type": "execute_result"
    }
   ],
   "source": [
    "test.isna().sum().sum()"
   ]
  },
  {
   "cell_type": "markdown",
   "metadata": {},
   "source": [
    "Вспомогательные функции"
   ]
  },
  {
   "cell_type": "code",
   "execution_count": 15,
   "metadata": {},
   "outputs": [],
   "source": [
    "def get_classification_report(y_train_true, y_train_pred, y_test_true, y_test_pred):\n",
    "    print('TRAIN\\n\\n' + classification_report(y_train_true, y_train_pred))\n",
    "    print('TEST\\n\\n' + classification_report(y_test_true, y_test_pred))\n",
    "    print('CONFUSION MATRIX\\n')\n",
    "    print(pd.crosstab(y_test_true, y_test_pred))"
   ]
  },
  {
   "cell_type": "code",
   "execution_count": 16,
   "metadata": {},
   "outputs": [],
   "source": [
    "def balance_df_by_target(df, target_name):\n",
    "\n",
    "    target_counts = df[target_name].value_counts()\n",
    "\n",
    "    major_class_name = target_counts.argmax()\n",
    "    minor_class_name = target_counts.argmin()\n",
    "\n",
    "    disbalance_coeff = int(target_counts[major_class_name] / target_counts[minor_class_name]) - 1\n",
    "\n",
    "    for i in range(disbalance_coeff):\n",
    "        sample = df[df[target_name] == minor_class_name].sample(target_counts[minor_class_name])\n",
    "        df = df.append(sample, ignore_index=True)\n",
    "\n",
    "    return df.sample(frac=1)"
   ]
  },
  {
   "cell_type": "markdown",
   "metadata": {},
   "source": [
    "Корреляция признаков"
   ]
  },
  {
   "cell_type": "code",
   "execution_count": 17,
   "metadata": {},
   "outputs": [
    {
     "data": {
      "image/png": "[encoded data removed]",
      "text/plain": [
       "<Figure size 720x576 with 1 Axes>"
      ]
     },
     "metadata": {},
     "output_type": "display_data"
    }
   ],
   "source": [
    "NEW_FEATURE_NAMES = ['Annual_Income_is_NaN']\n",
    "\n",
    "corr_with_target = train[BASE_FEATURE_NAMES + \n",
    "                            NEW_FEATURE_NAMES +\n",
    "                            [TARGET_NAME]].corr().iloc[:-1, -1].sort_values(ascending=False)\n",
    "\n",
    "plt.figure(figsize=(10, 8))\n",
    "\n",
    "sns.barplot(x=corr_with_target.values, y=corr_with_target.index)\n",
    "\n",
    "plt.title('Correlation with target variable')\n",
    "plt.show()"
   ]
  },
  {
   "cell_type": "code",
   "execution_count": null,
   "metadata": {},
   "outputs": [],
   "source": []
  },
  {
   "cell_type": "code",
   "execution_count": 18,
   "metadata": {},
   "outputs": [
    {
     "data": {
      "image/png": "[encoded data removed]",
      "text/plain": [
       "<Figure size 1008x756 with 11 Axes>"
      ]
     },
     "metadata": {},
     "output_type": "display_data"
    }
   ],
   "source": [
    "# Количество людей, разделенных по стажу, которые возращают и не возвращают кредит\n",
    "\n",
    "g = sns.catplot(\"Credit Default\", col=\"Years in current job\", col_wrap=5,\n",
    "                data=train,\n",
    "                kind=\"count\", height=3.5, aspect=.8, \n",
    "                palette='tab20')\n",
    "\n",
    "plt.show()"
   ]
  },
  {
   "cell_type": "markdown",
   "metadata": {},
   "source": [
    "Разделение тренировочного датасета"
   ]
  },
  {
   "cell_type": "code",
   "execution_count": 19,
   "metadata": {},
   "outputs": [],
   "source": [
    "X = train[BASE_FEATURE_NAMES]\n",
    "y = train[TARGET_NAME]\n",
    "\n",
    "X_train, X_test, y_train, y_test = train_test_split(X, y, shuffle=True, test_size=0.30, random_state=11)"
   ]
  },
  {
   "cell_type": "markdown",
   "metadata": {},
   "source": [
    "Учет дисбаланса классов в модели"
   ]
  },
  {
   "cell_type": "code",
   "execution_count": 20,
   "metadata": {},
   "outputs": [
    {
     "data": {
      "text/plain": [
       "2.54251012145749"
      ]
     },
     "execution_count": 20,
     "metadata": {},
     "output_type": "execute_result"
    }
   ],
   "source": [
    "disbalance = y_train.value_counts()[0] / y_train.value_counts()[1]\n",
    "disbalance"
   ]
  },
  {
   "cell_type": "code",
   "execution_count": 21,
   "metadata": {},
   "outputs": [
    {
     "name": "stdout",
     "output_type": "stream",
     "text": [
      "TRAIN\n",
      "\n",
      "              precision    recall  f1-score   support\n",
      "\n",
      "           0       0.94      0.78      0.85      3768\n",
      "           1       0.60      0.87      0.71      1482\n",
      "\n",
      "    accuracy                           0.80      5250\n",
      "   macro avg       0.77      0.82      0.78      5250\n",
      "weighted avg       0.84      0.80      0.81      5250\n",
      "\n",
      "TEST\n",
      "\n",
      "              precision    recall  f1-score   support\n",
      "\n",
      "           0       0.82      0.67      0.74      1619\n",
      "           1       0.42      0.62      0.50       631\n",
      "\n",
      "    accuracy                           0.65      2250\n",
      "   macro avg       0.62      0.64      0.62      2250\n",
      "weighted avg       0.71      0.65      0.67      2250\n",
      "\n",
      "CONFUSION MATRIX\n",
      "\n",
      "col_0              0    1\n",
      "Credit Default           \n",
      "0               1083  536\n",
      "1                241  390\n"
     ]
    }
   ],
   "source": [
    "# выбор пал на catboost, потому что методом подбора моделей, учитывая категориальные признаки, лучше всего себя показывает\n",
    "# потому что по дефолту имеет огромный спектр по подбору гиперпараметров\n",
    "# я не приводил других моделей, потому что они себя не очень стабильно вели, опираясь на мою чистку данных\n",
    "\n",
    "model_catb = catb.CatBoostClassifier(class_weights=[1, disbalance], silent=True, random_state=11, cat_features=CAT_FEATURE_NAMES)\n",
    "model_catb.fit(X_train, y_train)\n",
    "\n",
    "y_train_pred = model_catb.predict(X_train)\n",
    "y_test_pred = model_catb.predict(X_test)\n",
    "\n",
    "get_classification_report(y_train, y_train_pred, y_test, y_test_pred)"
   ]
  },
  {
   "cell_type": "markdown",
   "metadata": {},
   "source": [
    "Подбор оптимальных параметров модели"
   ]
  },
  {
   "cell_type": "code",
   "execution_count": 22,
   "metadata": {},
   "outputs": [],
   "source": [
    "model_catb = catb.CatBoostClassifier(class_weights=[1, disbalance], silent=True, random_state=11, cat_features=CAT_FEATURE_NAMES)"
   ]
  },
  {
   "cell_type": "code",
   "execution_count": 23,
   "metadata": {},
   "outputs": [],
   "source": [
    "params = {'n_estimators':[100, 200, 500, 700, 1000, 1200, 1500],\n",
    "          'max_depth':[3, 5, 7]}"
   ]
  },
  {
   "cell_type": "code",
   "execution_count": 24,
   "metadata": {},
   "outputs": [],
   "source": [
    "cv=KFold(n_splits=5, random_state=11, shuffle=True)"
   ]
  },
  {
   "cell_type": "code",
   "execution_count": 25,
   "metadata": {},
   "outputs": [
    {
     "name": "stdout",
     "output_type": "stream",
     "text": [
      "Wall time: 7min 41s\n"
     ]
    },
    {
     "data": {
      "text/plain": [
       "RandomizedSearchCV(cv=KFold(n_splits=5, random_state=11, shuffle=True),\n",
       "                   estimator=<catboost.core.CatBoostClassifier object at 0x000001DA84C86F08>,\n",
       "                   n_jobs=-1,\n",
       "                   param_distributions={'max_depth': [3, 5, 7],\n",
       "                                        'n_estimators': [100, 200, 500, 700,\n",
       "                                                         1000, 1200, 1500]},\n",
       "                   scoring='f1')"
      ]
     },
     "execution_count": 25,
     "metadata": {},
     "output_type": "execute_result"
    }
   ],
   "source": [
    "%%time\n",
    "\n",
    "rs = RandomizedSearchCV(model_catb, params, scoring='f1', cv=cv, n_jobs=-1)\n",
    "rs.fit(X, y)"
   ]
  },
  {
   "cell_type": "code",
   "execution_count": 26,
   "metadata": {
    "scrolled": true
   },
   "outputs": [
    {
     "data": {
      "text/plain": [
       "{'n_estimators': 1500, 'max_depth': 3}"
      ]
     },
     "execution_count": 26,
     "metadata": {},
     "output_type": "execute_result"
    }
   ],
   "source": [
    "rs.best_params_"
   ]
  },
  {
   "cell_type": "code",
   "execution_count": 27,
   "metadata": {},
   "outputs": [
    {
     "data": {
      "text/plain": [
       "0.5123296099029215"
      ]
     },
     "execution_count": 27,
     "metadata": {},
     "output_type": "execute_result"
    }
   ],
   "source": [
    "rs.best_score_"
   ]
  },
  {
   "cell_type": "markdown",
   "metadata": {},
   "source": [
    "Итоговая модель"
   ]
  },
  {
   "cell_type": "code",
   "execution_count": 28,
   "metadata": {},
   "outputs": [
    {
     "name": "stdout",
     "output_type": "stream",
     "text": [
      "TRAIN\n",
      "\n",
      "              precision    recall  f1-score   support\n",
      "\n",
      "           0       0.88      0.65      0.75      3768\n",
      "           1       0.47      0.78      0.58      1482\n",
      "\n",
      "    accuracy                           0.68      5250\n",
      "   macro avg       0.67      0.71      0.66      5250\n",
      "weighted avg       0.76      0.68      0.70      5250\n",
      "\n",
      "TEST\n",
      "\n",
      "              precision    recall  f1-score   support\n",
      "\n",
      "           0       0.84      0.59      0.70      1619\n",
      "           1       0.41      0.72      0.52       631\n",
      "\n",
      "    accuracy                           0.63      2250\n",
      "   macro avg       0.62      0.65      0.61      2250\n",
      "weighted avg       0.72      0.63      0.65      2250\n",
      "\n",
      "CONFUSION MATRIX\n",
      "\n",
      "col_0             0    1\n",
      "Credit Default          \n",
      "0               960  659\n",
      "1               179  452\n",
      "Wall time: 8.01 s\n"
     ]
    }
   ],
   "source": [
    "%%time\n",
    "# поэкспериментировав с полученными параметрами, лучшими были 700 и 3\n",
    "\n",
    "\n",
    "\n",
    "final_model = catb.CatBoostClassifier(n_estimators=700, max_depth=3,\n",
    "                                      class_weights=[1, disbalance],\n",
    "                                      eval_metric='F1',\n",
    "                                      cat_features=CAT_FEATURE_NAMES,\n",
    "                                      silent=True, random_state=11)\n",
    "final_model.fit(X_train, y_train)\n",
    "\n",
    "y_train_pred = final_model.predict(X_train)\n",
    "y_test_pred = final_model.predict(X_test)\n",
    "\n",
    "get_classification_report(y_train, y_train_pred, y_test, y_test_pred)"
   ]
  },
  {
   "cell_type": "markdown",
   "metadata": {},
   "source": [
    "Предсказание на тестовой выборке"
   ]
  },
  {
   "cell_type": "code",
   "execution_count": 29,
   "metadata": {},
   "outputs": [
    {
     "data": {
      "text/html": [
       "<div>\n",
       "<style scoped>\n",
       "    .dataframe tbody tr th:only-of-type {\n",
       "        vertical-align: middle;\n",
       "    }\n",
       "\n",
       "    .dataframe tbody tr th {\n",
       "        vertical-align: top;\n",
       "    }\n",
       "\n",
       "    .dataframe thead th {\n",
       "        text-align: right;\n",
       "    }\n",
       "</style>\n",
       "<table border=\"1\" class=\"dataframe\">\n",
       "  <thead>\n",
       "    <tr style=\"text-align: right;\">\n",
       "      <th></th>\n",
       "      <th>Id</th>\n",
       "      <th>Credit Default</th>\n",
       "    </tr>\n",
       "  </thead>\n",
       "  <tbody>\n",
       "    <tr>\n",
       "      <th>0</th>\n",
       "      <td>0</td>\n",
       "      <td>1</td>\n",
       "    </tr>\n",
       "    <tr>\n",
       "      <th>1</th>\n",
       "      <td>1</td>\n",
       "      <td>1</td>\n",
       "    </tr>\n",
       "    <tr>\n",
       "      <th>2</th>\n",
       "      <td>2</td>\n",
       "      <td>0</td>\n",
       "    </tr>\n",
       "    <tr>\n",
       "      <th>3</th>\n",
       "      <td>3</td>\n",
       "      <td>0</td>\n",
       "    </tr>\n",
       "    <tr>\n",
       "      <th>4</th>\n",
       "      <td>4</td>\n",
       "      <td>0</td>\n",
       "    </tr>\n",
       "    <tr>\n",
       "      <th>...</th>\n",
       "      <td>...</td>\n",
       "      <td>...</td>\n",
       "    </tr>\n",
       "    <tr>\n",
       "      <th>2495</th>\n",
       "      <td>2495</td>\n",
       "      <td>0</td>\n",
       "    </tr>\n",
       "    <tr>\n",
       "      <th>2496</th>\n",
       "      <td>2496</td>\n",
       "      <td>1</td>\n",
       "    </tr>\n",
       "    <tr>\n",
       "      <th>2497</th>\n",
       "      <td>2497</td>\n",
       "      <td>1</td>\n",
       "    </tr>\n",
       "    <tr>\n",
       "      <th>2498</th>\n",
       "      <td>2498</td>\n",
       "      <td>0</td>\n",
       "    </tr>\n",
       "    <tr>\n",
       "      <th>2499</th>\n",
       "      <td>2499</td>\n",
       "      <td>1</td>\n",
       "    </tr>\n",
       "  </tbody>\n",
       "</table>\n",
       "<p>2500 rows × 2 columns</p>\n",
       "</div>"
      ],
      "text/plain": [
       "        Id  Credit Default\n",
       "0        0               1\n",
       "1        1               1\n",
       "2        2               0\n",
       "3        3               0\n",
       "4        4               0\n",
       "...    ...             ...\n",
       "2495  2495               0\n",
       "2496  2496               1\n",
       "2497  2497               1\n",
       "2498  2498               0\n",
       "2499  2499               1\n",
       "\n",
       "[2500 rows x 2 columns]"
      ]
     },
     "execution_count": 29,
     "metadata": {},
     "output_type": "execute_result"
    }
   ],
   "source": [
    "df_model = test[BASE_FEATURE_NAMES]\n",
    "\n",
    "y_pred = final_model.predict(df_model)\n",
    "\n",
    "preds_final = pd.DataFrame()\n",
    "preds_final = pd.DataFrame({'Id': np.arange(0,y_pred.shape[0]), 'Credit Default': y_pred})\n",
    "preds_final"
   ]
  },
  {
   "cell_type": "code",
   "execution_count": 30,
   "metadata": {},
   "outputs": [],
   "source": [
    "preds_final.to_csv('./Credit_default_prediction4.csv', index=False, encoding='utf-8', sep=',')"
   ]
  },
  {
   "cell_type": "code",
   "execution_count": null,
   "metadata": {},
   "outputs": [],
   "source": []
  },
  {
   "cell_type": "code",
   "execution_count": null,
   "metadata": {},
   "outputs": [],
   "source": []
  }
 ],
 "metadata": {
  "kernelspec": {
   "display_name": "Python 3",
   "language": "python",
   "name": "python3"
  },
  "language_info": {
   "codemirror_mode": {
    "name": "ipython",
    "version": 3
   },
   "file_extension": ".py",
   "mimetype": "text/x-python",
   "name": "python",
   "nbconvert_exporter": "python",
   "pygments_lexer": "ipython3",
   "version": "3.7.9"
  }
 },
 "nbformat": 4,
 "nbformat_minor": 4
}
