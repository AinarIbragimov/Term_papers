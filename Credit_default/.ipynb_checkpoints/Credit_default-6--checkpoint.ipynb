{
 "cells": [
  {
   "cell_type": "markdown",
   "metadata": {
    "_cell_guid": "b1076dfc-b9ad-4769-8c92-a6c4dae69d19",
    "_uuid": "8f2839f25d086af736a60e9eeb907d3b93b6e0e5",
    "papermill": {
     "duration": 0.05223,
     "end_time": "2020-10-12T09:15:02.597946",
     "exception": false,
     "start_time": "2020-10-12T09:15:02.545716",
     "status": "completed"
    },
    "tags": []
   },
   "source": [
    "## <center>Курсовой проект по классификации данных.<a class=\"anchor\" id=\"course_project\"></a><center>\n",
    "## <center>Course project of data classification.<a class=\"anchor\" id=\"course_project\"></a><center>\n",
    "## <center>数据分类课的检测作业.<a class=\"anchor\" id=\"course_project\"></a><center>   "
   ]
  },
  {
   "cell_type": "markdown",
   "metadata": {
    "papermill": {
     "duration": 0.05293,
     "end_time": "2020-10-12T09:15:02.701102",
     "exception": false,
     "start_time": "2020-10-12T09:15:02.648172",
     "status": "completed"
    },
    "tags": []
   },
   "source": [
    "**Задача ｜ Task ｜ 目标** \n",
    "\n",
    "Требуется, на основании имеющихся данных о клиентах банка, построить модель, используя обучающий датасет, для прогнозирования невыполнения долговых обязательств по текущему кредиту. Выполнить прогноз для примеров из тестового датасета. | Use bank's clients data  to create model for predict fullfilment of current loan. | 使用银行客户数据库建立能够有效预判客户执行贷款责任的模型。\n",
    "\n",
    "**Требования к решению ｜ Model requirement ｜ 最低标准**\n",
    "\n",
    "*Целевая метрика | Target metric | 精确率标准*\n",
    "* F1 > 0.5"
   ]
  },
  {
   "cell_type": "markdown",
   "metadata": {
    "_cell_guid": "79c7e3d0-c299-4dcb-8224-4455121ee9b0",
    "_uuid": "d629ff2d2480ee46fbb7e2d37f6b5fab8052498a",
    "collapsed": true,
    "papermill": {
     "duration": 0.047186,
     "end_time": "2020-10-12T09:15:02.802616",
     "exception": false,
     "start_time": "2020-10-12T09:15:02.755430",
     "status": "completed"
    },
    "tags": []
   },
   "source": [
    "## Олгавление:"
   ]
  },
  {
   "cell_type": "markdown",
   "metadata": {
    "papermill": {
     "duration": 0.042463,
     "end_time": "2020-10-12T09:15:02.889071",
     "exception": false,
     "start_time": "2020-10-12T09:15:02.846608",
     "status": "completed"
    },
    "tags": []
   },
   "source": [
    "1. Импорт библиотек | Import libraries | 导入函数库\n",
    "2. Функций | Functions | 函数\n",
    "3. Обзор обучающего датасета | Train data Overview | 学习数据库\n",
    "4. Обработка выбросов | Handling Outliers | 数据处理\n",
    "5. Обработка пропусков | Fill empty data | 处理空值\n",
    "6. Анализ данных | Data Analyse | 数据分析\n",
    "7. Балансировка классов | Balance Classes | 平衡数据\n",
    "8. Модель и настройка гиперпараметров | Model and parameters | 模型与模型设置\n",
    "9. Проверка качества, борьба с переобучением | Control Quality and over learning | 质量检查与控制学习过多\n",
    "10. Интерпретация результатов | Analyse Result | 结果分析"
   ]
  },
  {
   "cell_type": "markdown",
   "metadata": {
    "papermill": {
     "duration": 0.040327,
     "end_time": "2020-10-12T09:15:02.969356",
     "exception": false,
     "start_time": "2020-10-12T09:15:02.929029",
     "status": "completed"
    },
    "tags": []
   },
   "source": [
    "## 1. Импорт библиотек | Import libraries | 导入函数库"
   ]
  },
  {
   "cell_type": "code",
   "execution_count": 1,
   "metadata": {
    "execution": {
     "iopub.execute_input": "2020-10-12T09:15:03.077070Z",
     "iopub.status.busy": "2020-10-12T09:15:03.076167Z",
     "iopub.status.idle": "2020-10-12T09:15:04.934109Z",
     "shell.execute_reply": "2020-10-12T09:15:04.934645Z"
    },
    "papermill": {
     "duration": 1.913946,
     "end_time": "2020-10-12T09:15:04.934859",
     "exception": false,
     "start_time": "2020-10-12T09:15:03.020913",
     "status": "completed"
    },
    "tags": []
   },
   "outputs": [],
   "source": [
    "import pandas as pd\n",
    "import matplotlib.pyplot as plt\n",
    "import seaborn as sns\n",
    "import numpy as np\n",
    "import random\n",
    "from scipy.stats import norm\n",
    "from scipy import stats\n",
    "\n",
    "from sklearn.preprocessing import StandardScaler\n",
    "from sklearn.ensemble import RandomForestRegressor\n",
    "from sklearn.model_selection import train_test_split, GridSearchCV, ShuffleSplit, cross_val_score, learning_curve, StratifiedKFold\n",
    "from sklearn.metrics import (roc_auc_score, roc_curve, auc, confusion_matrix,r2_score,\n",
    "                            accuracy_score, classification_report, plot_confusion_matrix,\n",
    "                            plot_precision_recall_curve, precision_recall_curve,plot_roc_curve, precision_score, recall_score, f1_score)\n",
    "\n",
    "from sklearn.ensemble import RandomForestClassifier\n",
    "from sklearn.model_selection import RandomizedSearchCV\n",
    "from catboost import CatBoostClassifier\n",
    "from sklearn.ensemble import GradientBoostingClassifier\n",
    "\n",
    "pd.set_option(\"display.max_columns\",200)\n",
    "pd.set_option(\"display.max_rows\",500)\n",
    "%matplotlib inline"
   ]
  },
  {
   "cell_type": "markdown",
   "metadata": {
    "papermill": {
     "duration": 0.096726,
     "end_time": "2020-10-12T09:15:05.075321",
     "exception": false,
     "start_time": "2020-10-12T09:15:04.978595",
     "status": "completed"
    },
    "tags": []
   },
   "source": [
    "## 2. Функции | Function Overview | 函数"
   ]
  },
  {
   "cell_type": "code",
   "execution_count": 2,
   "metadata": {
    "execution": {
     "iopub.execute_input": "2020-10-12T09:15:05.220865Z",
     "iopub.status.busy": "2020-10-12T09:15:05.219806Z",
     "iopub.status.idle": "2020-10-12T09:15:05.223781Z",
     "shell.execute_reply": "2020-10-12T09:15:05.222616Z"
    },
    "papermill": {
     "duration": 0.076719,
     "end_time": "2020-10-12T09:15:05.223993",
     "exception": false,
     "start_time": "2020-10-12T09:15:05.147274",
     "status": "completed"
    },
    "tags": []
   },
   "outputs": [],
   "source": [
    "def get_classification_report(y_train_true, y_train_pred, y_test_true, y_test_pred):\n",
    "    print('TRAIN\\n\\n' + classification_report(y_train_true, y_train_pred))\n",
    "    print('TEST\\n\\n' + classification_report(y_test_true, y_test_pred))\n",
    "    print('CONFUSION MATRIX\\n')\n",
    "    print(pd.crosstab(y_test_true, y_test_pred))"
   ]
  },
  {
   "cell_type": "code",
   "execution_count": 3,
   "metadata": {
    "execution": {
     "iopub.execute_input": "2020-10-12T09:15:05.325621Z",
     "iopub.status.busy": "2020-10-12T09:15:05.324813Z",
     "iopub.status.idle": "2020-10-12T09:15:05.328552Z",
     "shell.execute_reply": "2020-10-12T09:15:05.328020Z"
    },
    "papermill": {
     "duration": 0.053101,
     "end_time": "2020-10-12T09:15:05.328684",
     "exception": false,
     "start_time": "2020-10-12T09:15:05.275583",
     "status": "completed"
    },
    "tags": []
   },
   "outputs": [],
   "source": [
    "def show_feature_importances(feature_names, feature_importances, get_top=None):\n",
    "    feature_importances = pd.DataFrame({'feature': feature_names, 'importance': feature_importances})\n",
    "    feature_importances = feature_importances.sort_values('importance', ascending=False)\n",
    "       \n",
    "    plt.figure(figsize = (20, len(feature_importances) * 0.355))\n",
    "    \n",
    "    sns.barplot(feature_importances['importance'], feature_importances['feature'])\n",
    "    \n",
    "    plt.xlabel('Importance')\n",
    "    plt.title('Importance of features')\n",
    "    plt.show()\n",
    "    \n",
    "    if get_top is not None:\n",
    "        return feature_importances['feature'][:get_top].tolist()"
   ]
  },
  {
   "cell_type": "code",
   "execution_count": 4,
   "metadata": {
    "execution": {
     "iopub.execute_input": "2020-10-12T09:15:05.430776Z",
     "iopub.status.busy": "2020-10-12T09:15:05.425489Z",
     "iopub.status.idle": "2020-10-12T09:15:05.438058Z",
     "shell.execute_reply": "2020-10-12T09:15:05.437348Z"
    },
    "papermill": {
     "duration": 0.065456,
     "end_time": "2020-10-12T09:15:05.438176",
     "exception": false,
     "start_time": "2020-10-12T09:15:05.372720",
     "status": "completed"
    },
    "tags": []
   },
   "outputs": [],
   "source": [
    "def show_proba_calibration_plots(y_predicted_probs, y_true_labels):\n",
    "    preds_with_true_labels = np.array(list(zip(y_predicted_probs, y_true_labels)))\n",
    "\n",
    "    thresholds = []\n",
    "    precisions = []\n",
    "    recalls = []\n",
    "    f1_scores = []\n",
    "\n",
    "    for threshold in np.linspace(0.1, 0.9, 9):\n",
    "        thresholds.append(threshold)\n",
    "        precisions.append(precision_score(y_true_labels, list(map(int, y_predicted_probs > threshold))))\n",
    "        recalls.append(recall_score(y_true_labels, list(map(int, y_predicted_probs > threshold))))\n",
    "        f1_scores.append(f1_score(y_true_labels, list(map(int, y_predicted_probs > threshold))))\n",
    "\n",
    "    scores_table = pd.DataFrame({'f1':f1_scores,\n",
    "                                 'precision':precisions,\n",
    "                                 'recall':recalls,\n",
    "                                 'probability':thresholds}).sort_values('f1', ascending=False).round(3)\n",
    "  \n",
    "    figure = plt.figure(figsize = (15, 5))\n",
    "\n",
    "    plt1 = figure.add_subplot(121)\n",
    "    plt1.plot(thresholds, precisions, label='Precision', linewidth=4)\n",
    "    plt1.plot(thresholds, recalls, label='Recall', linewidth=4)\n",
    "    plt1.plot(thresholds, f1_scores, label='F1', linewidth=4)\n",
    "    plt1.set_ylabel('Scores')\n",
    "    plt1.set_xlabel('Probability threshold')\n",
    "    plt1.set_title('Probabilities threshold calibration')\n",
    "    plt1.legend(bbox_to_anchor=(0.25, 0.25))   \n",
    "    plt1.table(cellText = scores_table.values,\n",
    "               colLabels = scores_table.columns, \n",
    "               colLoc = 'center', cellLoc = 'center', loc = 'bottom', bbox = [0, -1.3, 1, 1])\n",
    "\n",
    "    plt2 = figure.add_subplot(122)\n",
    "    plt2.hist(preds_with_true_labels[preds_with_true_labels[:, 1] == 0][:, 0], \n",
    "              label='Another class', color='royalblue', alpha=1)\n",
    "    plt2.hist(preds_with_true_labels[preds_with_true_labels[:, 1] == 1][:, 0], \n",
    "              label='Main class', color='darkcyan', alpha=0.8)\n",
    "    plt2.set_ylabel('Number of examples')\n",
    "    plt2.set_xlabel('Probabilities')\n",
    "    plt2.set_title('Probability histogram')\n",
    "    plt2.legend(bbox_to_anchor=(1, 1))\n",
    "\n",
    "    plt.show()"
   ]
  },
  {
   "cell_type": "code",
   "execution_count": 5,
   "metadata": {
    "execution": {
     "iopub.execute_input": "2020-10-12T09:15:05.530638Z",
     "iopub.status.busy": "2020-10-12T09:15:05.529849Z",
     "iopub.status.idle": "2020-10-12T09:15:05.536038Z",
     "shell.execute_reply": "2020-10-12T09:15:05.535328Z"
    },
    "papermill": {
     "duration": 0.057166,
     "end_time": "2020-10-12T09:15:05.536159",
     "exception": false,
     "start_time": "2020-10-12T09:15:05.478993",
     "status": "completed"
    },
    "tags": []
   },
   "outputs": [],
   "source": [
    "def show_learning_curve_plot(estimator, X, y, cv=3, n_jobs=-1, train_sizes=np.linspace(.1, 1.0, 5)):\n",
    "\n",
    "    train_sizes, train_scores, test_scores = learning_curve(estimator, X, y, \n",
    "                                                            cv=cv, \n",
    "                                                            scoring='f1',\n",
    "                                                            train_sizes=train_sizes, \n",
    "                                                            n_jobs=n_jobs)\n",
    "    train_scores_mean = np.mean(train_scores, axis=1)\n",
    "    train_scores_std = np.std(train_scores, axis=1)\n",
    "    test_scores_mean = np.mean(test_scores, axis=1)\n",
    "    test_scores_std = np.std(test_scores, axis=1)\n",
    "\n",
    "    plt.figure(figsize=(15,8))\n",
    "    plt.fill_between(train_sizes, train_scores_mean - train_scores_std,\n",
    "                     train_scores_mean + train_scores_std, alpha=0.1, color=\"r\")\n",
    "    plt.fill_between(train_sizes, test_scores_mean - test_scores_std,\n",
    "                     test_scores_mean + test_scores_std, alpha=0.1, color=\"g\")\n",
    "    plt.plot(train_sizes, train_scores_mean, 'o-', color=\"r\",\n",
    "             label=\"Training score\")\n",
    "    plt.plot(train_sizes, test_scores_mean, 'o-', color=\"g\",\n",
    "             label=\"Cross-validation score\")\n",
    "\n",
    "    plt.title(f\"Learning curves ({type(estimator).__name__})\")\n",
    "    plt.xlabel(\"Training examples\")\n",
    "    plt.ylabel(\"Score\")     \n",
    "    plt.legend(loc=\"best\")\n",
    "    plt.grid()\n",
    "    plt.show()"
   ]
  },
  {
   "cell_type": "code",
   "execution_count": 6,
   "metadata": {
    "execution": {
     "iopub.execute_input": "2020-10-12T09:15:05.632972Z",
     "iopub.status.busy": "2020-10-12T09:15:05.631983Z",
     "iopub.status.idle": "2020-10-12T09:15:05.635867Z",
     "shell.execute_reply": "2020-10-12T09:15:05.635141Z"
    },
    "papermill": {
     "duration": 0.058641,
     "end_time": "2020-10-12T09:15:05.635994",
     "exception": false,
     "start_time": "2020-10-12T09:15:05.577353",
     "status": "completed"
    },
    "tags": []
   },
   "outputs": [],
   "source": [
    "def fix_outlier(df):\n",
    "    df = preprocess_outlier(df, 'Annual Income', threshold=8000000)\n",
    "    df = preprocess_outlier(df, 'Tax Liens', threshold=7)\n",
    "    df = preprocess_outlier(df, 'Number of Open Accounts', threshold=40)\n",
    "    df = preprocess_outlier(df, 'Years of Credit History', threshold=50)\n",
    "    df = preprocess_outlier(df, 'Maximum Open Credit', threshold=50000000)\n",
    "    df = preprocess_outlier(df, 'Number of Credit Problems', threshold=5)\n",
    "    df = preprocess_outlier(df, 'Months since last delinquent', threshold=48)\n",
    "    df = preprocess_outlier(df, 'Current Loan Amount', threshold= 40000000)\n",
    "    df = preprocess_outlier(df, 'Current Credit Balance', threshold=400000)\n",
    "    df = preprocess_outlier(df, 'Monthly Debt', threshold=80000)\n",
    "    df = preprocess_outlier(df, 'Credit Score', threshold=1000)\n",
    "    \n",
    "    return df"
   ]
  },
  {
   "cell_type": "code",
   "execution_count": 7,
   "metadata": {
    "execution": {
     "iopub.execute_input": "2020-10-12T09:15:05.724763Z",
     "iopub.status.busy": "2020-10-12T09:15:05.724077Z",
     "iopub.status.idle": "2020-10-12T09:15:05.728158Z",
     "shell.execute_reply": "2020-10-12T09:15:05.727511Z"
    },
    "papermill": {
     "duration": 0.050554,
     "end_time": "2020-10-12T09:15:05.728281",
     "exception": false,
     "start_time": "2020-10-12T09:15:05.677727",
     "status": "completed"
    },
    "tags": []
   },
   "outputs": [],
   "source": [
    "def fill_data(df):\n",
    "    for i in df:\n",
    "        column_mode = df[i].mode()[0]\n",
    "        df[i] = df[i].fillna(column_mode)\n",
    "    \n",
    "    return df"
   ]
  },
  {
   "cell_type": "code",
   "execution_count": 8,
   "metadata": {
    "execution": {
     "iopub.execute_input": "2020-10-12T09:15:05.820175Z",
     "iopub.status.busy": "2020-10-12T09:15:05.819468Z",
     "iopub.status.idle": "2020-10-12T09:15:05.823071Z",
     "shell.execute_reply": "2020-10-12T09:15:05.823546Z"
    },
    "papermill": {
     "duration": 0.054271,
     "end_time": "2020-10-12T09:15:05.823709",
     "exception": false,
     "start_time": "2020-10-12T09:15:05.769438",
     "status": "completed"
    },
    "tags": []
   },
   "outputs": [],
   "source": [
    "def fix_monthly_debt(df):\n",
    "    # Def No 1\n",
    "    # Для работы с этим датасетом, начнем c 'Monthly Debt'. Так как она может занять ключевое место в редактировании данных.\n",
    "    # Используя Коэффициент «платеж/доход» - мы расчитаем и заполнем пустые поля 'Annual Income', от которых пересчитаем 'Current Loan Amoun'.\n",
    "    # Сначала исправим 'Term'\n",
    "    df.loc[(df['Current Loan Amount'] > (df['Monthly Debt'] * 12 * 25)) & (df['Current Loan Amount'] != 99999999.0), 'Term'] = 'Long Term'\n",
    "    # Далее повысим платежи по таким кредитам чтобы срок кредита был равен половине от самого долго срока 25 лет\n",
    "    df.loc[(df['Current Loan Amount'] > (df['Monthly Debt'] * 12 * 25)) & (df['Current Loan Amount'] != 99999999.0), 'Monthly Debt'] =\\\n",
    "    df['Current Loan Amount'] / 12.5 / 12\n",
    "    # Так же избавимся от таких кредитов которые взяты на которкий срок но платежи по ним небудут выплачены за 12 месяцев\n",
    "    df.loc[(df['Current Loan Amount'] > (df['Monthly Debt'] * 12)) & (df['Current Loan Amount'] != 99999999.0) & (df['Term'] == 'Short Term'), 'Monthly Debt'] = df['Current Loan Amount'] / 12\n",
    "    \n",
    "    return df"
   ]
  },
  {
   "cell_type": "code",
   "execution_count": 9,
   "metadata": {
    "execution": {
     "iopub.execute_input": "2020-10-12T09:15:05.917797Z",
     "iopub.status.busy": "2020-10-12T09:15:05.916823Z",
     "iopub.status.idle": "2020-10-12T09:15:05.919246Z",
     "shell.execute_reply": "2020-10-12T09:15:05.919787Z"
    },
    "papermill": {
     "duration": 0.053924,
     "end_time": "2020-10-12T09:15:05.919967",
     "exception": false,
     "start_time": "2020-10-12T09:15:05.866043",
     "status": "completed"
    },
    "tags": []
   },
   "outputs": [],
   "source": [
    "def preprocess_outlier(df, col, threshold):\n",
    "    df.loc[df[col] > threshold, col] = np.nan\n",
    "    return df"
   ]
  },
  {
   "cell_type": "code",
   "execution_count": 10,
   "metadata": {
    "execution": {
     "iopub.execute_input": "2020-10-12T09:15:06.017005Z",
     "iopub.status.busy": "2020-10-12T09:15:06.016280Z",
     "iopub.status.idle": "2020-10-12T09:15:06.021692Z",
     "shell.execute_reply": "2020-10-12T09:15:06.019645Z"
    },
    "papermill": {
     "duration": 0.060804,
     "end_time": "2020-10-12T09:15:06.021903",
     "exception": false,
     "start_time": "2020-10-12T09:15:05.961099",
     "status": "completed"
    },
    "tags": []
   },
   "outputs": [],
   "source": [
    "def fix_annual_income(df, coefficient=40):\n",
    "    # No 2\n",
    "    # Функция для подсчета \"пустых\" значений 'Annual Income' из Коэффициент «платеж/доход», стандартоне значения платеж = доход 40%\n",
    "    df.loc[df['Annual Income'].isnull() == True, 'Annual Income'] = (df['Monthly Debt']  * ( 1 + coefficient / (100 + coefficient)) ) * (1 + (df['Tax Liens'] / (100 + df['Tax Liens']) ) )     \n",
    "#     df['real_annual_income'] = df['Annual Income'] * (1 - df['Tax Liens'] / (df['Tax Liens'] + 100))\n",
    "    # Позже в пункте 1.16. обнаружено сильное расхождение от нашего критерия «платеж/доход»\n",
    "    # Для отработки версии далее преобразуем эти данные\n",
    "#     df.loc[(df['Monthly Debt'] > df['real_annual_income'] / 12 * (1 - coefficient/(100 + coefficient)) * 2), 'Monthly Debt'] = df['real_annual_income'] / 12 * (1 - coefficient / (100 + coefficient)) \n",
    "    \n",
    "    return df"
   ]
  },
  {
   "cell_type": "code",
   "execution_count": 11,
   "metadata": {
    "execution": {
     "iopub.execute_input": "2020-10-12T09:15:06.127725Z",
     "iopub.status.busy": "2020-10-12T09:15:06.126671Z",
     "iopub.status.idle": "2020-10-12T09:15:06.131268Z",
     "shell.execute_reply": "2020-10-12T09:15:06.130529Z"
    },
    "papermill": {
     "duration": 0.062827,
     "end_time": "2020-10-12T09:15:06.131390",
     "exception": false,
     "start_time": "2020-10-12T09:15:06.068563",
     "status": "completed"
    },
    "tags": []
   },
   "outputs": [],
   "source": [
    "def imputer_rfr(data, target_col):\n",
    "    data = data.copy()\n",
    "    \n",
    "    features = data.columns\n",
    "    \n",
    "    data = data[features]\n",
    "    \n",
    "    train = data[~data[target_col].isna()]\n",
    "    predict_data = data[data[target_col].isna()]\n",
    "    \n",
    "    X = train.drop(columns=target_col)\n",
    "    y = train[target_col]\n",
    "    \n",
    "    X_train, X_test, y_train, y_test = train_test_split(X, y,\n",
    "                                                        test_size=0.2,\n",
    "                                                        shuffle=True,\n",
    "                                                        random_state=32\n",
    "                                                       )\n",
    "    \n",
    "    model = RandomForestRegressor(n_estimators=100,\n",
    "                                 max_depth=10,\n",
    "                                 random_state=42,\n",
    "                                 verbose=1)\n",
    "    \n",
    "    model.fit(X_train, y_train)\n",
    "    \n",
    "    pred_train = model.predict(X_train)\n",
    "    pred_test = model.predict(X_test)\n",
    "    \n",
    "    print(f\"r2 on train:{r2_score(y_train, pred_train)}\")\n",
    "    print(f\"r2 on test:{r2_score(y_test, pred_test)}\")\n",
    "    \n",
    "    pred = model.predict(predict_data.drop(columns=target_col))\n",
    "    \n",
    "    data.loc[data[target_col].isna(), target_col] = list(pred)\n",
    "    \n",
    "    return model, data"
   ]
  },
  {
   "cell_type": "code",
   "execution_count": 12,
   "metadata": {
    "execution": {
     "iopub.execute_input": "2020-10-12T09:15:06.226934Z",
     "iopub.status.busy": "2020-10-12T09:15:06.225923Z",
     "iopub.status.idle": "2020-10-12T09:15:06.229175Z",
     "shell.execute_reply": "2020-10-12T09:15:06.228567Z"
    },
    "papermill": {
     "duration": 0.055792,
     "end_time": "2020-10-12T09:15:06.229285",
     "exception": false,
     "start_time": "2020-10-12T09:15:06.173493",
     "status": "completed"
    },
    "tags": []
   },
   "outputs": [],
   "source": [
    "def classifier_rfr(data, target_col):\n",
    "    data = data.copy()\n",
    "    \n",
    "    features = data.columns\n",
    "    \n",
    "    data = data[features]\n",
    "    \n",
    "    train = data[~data[target_col].isna()]\n",
    "    predict_data = data[data[target_col].isna()]\n",
    "    \n",
    "    X = train.drop(columns=target_col)\n",
    "    y = train[target_col]\n",
    "    \n",
    "    X_train, X_test, y_train, y_test = train_test_split(X, y,\n",
    "                                                        test_size=0.2,\n",
    "                                                        shuffle=True,\n",
    "                                                        random_state=32\n",
    "                                                       )\n",
    "    \n",
    "    model = RandomForestClassifier(n_estimators=100,\n",
    "                                 max_depth=3,\n",
    "                                 random_state=42,\n",
    "                                 verbose=1)\n",
    "    \n",
    "    model.fit(X_train, y_train)\n",
    "    \n",
    "    pred_train = model.predict(X_train)\n",
    "    pred_test = model.predict(X_test)    \n",
    "    get_classification_report(y_train, pred_train, y_test, pred_test)\n",
    "    pred = model.predict(predict_data.drop(columns=target_col))\n",
    "    \n",
    "    data.loc[data[target_col].isna(), target_col] = list(pred)\n",
    "    \n",
    "    return model, data"
   ]
  },
  {
   "cell_type": "code",
   "execution_count": 13,
   "metadata": {
    "execution": {
     "iopub.execute_input": "2020-10-12T09:15:06.322867Z",
     "iopub.status.busy": "2020-10-12T09:15:06.321896Z",
     "iopub.status.idle": "2020-10-12T09:15:06.325519Z",
     "shell.execute_reply": "2020-10-12T09:15:06.324798Z"
    },
    "papermill": {
     "duration": 0.052302,
     "end_time": "2020-10-12T09:15:06.325648",
     "exception": false,
     "start_time": "2020-10-12T09:15:06.273346",
     "status": "completed"
    },
    "tags": []
   },
   "outputs": [],
   "source": [
    "def add_real_annual_income(df):\n",
    "    # No 3\n",
    "    # Это более точный показатель дохода уже за вычетом налоговой нагрузки. \n",
    "    df['real_annual_income'] = df['Annual Income'] * (1 - df['Tax Liens'] / (df['Tax Liens'] + 100))\n",
    "    \n",
    "    \n",
    "    return df\n",
    "# Перемещена в функцию fix_annual_income"
   ]
  },
  {
   "cell_type": "code",
   "execution_count": 14,
   "metadata": {
    "execution": {
     "iopub.execute_input": "2020-10-12T09:15:06.419016Z",
     "iopub.status.busy": "2020-10-12T09:15:06.417758Z",
     "iopub.status.idle": "2020-10-12T09:15:06.420530Z",
     "shell.execute_reply": "2020-10-12T09:15:06.419863Z"
    },
    "papermill": {
     "duration": 0.052109,
     "end_time": "2020-10-12T09:15:06.420656",
     "exception": false,
     "start_time": "2020-10-12T09:15:06.368547",
     "status": "completed"
    },
    "tags": []
   },
   "outputs": [],
   "source": [
    "def add_real_annual_income(df):\n",
    "    # No 3\n",
    "    # Это более точный показатель дохода уже за вычетом налоговой нагрузки. \n",
    "    df['real_annual_income'] = df['Annual Income'] * (1 - df['Tax Liens'] / (df['Tax Liens'] + 100))\n",
    "    \n",
    "    \n",
    "    return df"
   ]
  },
  {
   "cell_type": "code",
   "execution_count": 15,
   "metadata": {
    "execution": {
     "iopub.execute_input": "2020-10-12T09:15:06.515190Z",
     "iopub.status.busy": "2020-10-12T09:15:06.514302Z",
     "iopub.status.idle": "2020-10-12T09:15:06.518600Z",
     "shell.execute_reply": "2020-10-12T09:15:06.518038Z"
    },
    "papermill": {
     "duration": 0.056164,
     "end_time": "2020-10-12T09:15:06.518821",
     "exception": false,
     "start_time": "2020-10-12T09:15:06.462657",
     "status": "completed"
    },
    "tags": []
   },
   "outputs": [],
   "source": [
    "def fix_years_in_current_job(df):\n",
    "    # No 4\n",
    "    # Уменьшаем кол-во групп 'Years in current job'\n",
    "    year_mode = df['Years in current job'].mode().astype(str)[0]\n",
    "    df['Years in current job'] = df['Years in current job'].fillna(year_mode)\n",
    "\n",
    "#    Решение № 1 : разбить по группам\n",
    "    df.loc[(df['Years in current job'] == '< 1 year') | (df['Years in current job'] == '1 year') ,  'Years in current job'] = '1 or less year' \n",
    "    df.loc [(df['Years in current job'] == '2 years') | (df['Years in current job'] == '3 years') | (df['Years in current job'] == '4 years'),  'Years in current job'] = '2-4 less years'\n",
    "    df.loc[(df['Years in current job'] == '5 years') | (df['Years in current job'] == '6 years') | (df['Years in current job'] == '7 years'),  'Years in current job'] = '5-7 years'\n",
    "    df.loc[(df['Years in current job'] == '8 years') | (df['Years in current job'] == '9 years') ,  'Years in current job'] = '8-9 years'\n",
    "    \n",
    "    return df"
   ]
  },
  {
   "cell_type": "code",
   "execution_count": 16,
   "metadata": {
    "execution": {
     "iopub.execute_input": "2020-10-12T09:15:06.619633Z",
     "iopub.status.busy": "2020-10-12T09:15:06.618843Z",
     "iopub.status.idle": "2020-10-12T09:15:06.624202Z",
     "shell.execute_reply": "2020-10-12T09:15:06.624784Z"
    },
    "papermill": {
     "duration": 0.061844,
     "end_time": "2020-10-12T09:15:06.625272",
     "exception": false,
     "start_time": "2020-10-12T09:15:06.563428",
     "status": "completed"
    },
    "tags": []
   },
   "outputs": [],
   "source": [
    "def add_total_credit_amount(df):\n",
    "    #No 4.1\n",
    "    # Создадим новый признак полная сумма кредита\n",
    "    df['total_credit_amount'] = df['Current Credit Balance'] + df['Current Loan Amount']\n",
    "    \n",
    "    return df"
   ]
  },
  {
   "cell_type": "code",
   "execution_count": 17,
   "metadata": {
    "execution": {
     "iopub.execute_input": "2020-10-12T09:15:06.726016Z",
     "iopub.status.busy": "2020-10-12T09:15:06.725300Z",
     "iopub.status.idle": "2020-10-12T09:15:06.730921Z",
     "shell.execute_reply": "2020-10-12T09:15:06.730073Z"
    },
    "papermill": {
     "duration": 0.057907,
     "end_time": "2020-10-12T09:15:06.731058",
     "exception": false,
     "start_time": "2020-10-12T09:15:06.673151",
     "status": "completed"
    },
    "tags": []
   },
   "outputs": [],
   "source": [
    "def fix_credits(df):\n",
    "    # No 5 \n",
    "    # В этой функции мы исправляем значения 'total_credit_amount', 'Current Loan Amount', 'Current Credit Balance'\n",
    "    # Шаг 1: для кредитов по которым total_credit_amount > больше 25 лет ежемесячныйх  платежей по 'Monthly Debt', установим значение \n",
    "    # Рановное сумме 'Monthly Debt' за 25 лет.\n",
    "    df.loc[df['total_credit_amount'] > (df['Monthly Debt'] * 12 * 25), 'total_credit_amount'] = (df['Monthly Debt'] * 12 * 25)\n",
    "    # Шаг 2: В нашей задаче нет ничего про первый взнос, это конечно может быть любая сумма, или даже частичная оплата, так что ниже исправление можно пока закоментировать\n",
    "#     df.loc[df['Monthly Debt'] > (df['Current Credit Balance']), 'Current Credit Balance'] = df['Monthly Debt']\n",
    "    df.loc[df['Current Credit Balance'] < 1, 'Current Credit Balance'] = 1\n",
    "    # Шаг 3: После преобразования выше будет множество значений которые 'Current Loan Amount' > 'total_credit_amount', исправим это.\n",
    "    df.loc[df['Current Loan Amount'] > df['total_credit_amount'], 'Current Loan Amount'] = df['total_credit_amount'] - df['Current Credit Balance']\n",
    "    \n",
    "    return df"
   ]
  },
  {
   "cell_type": "code",
   "execution_count": 18,
   "metadata": {
    "execution": {
     "iopub.execute_input": "2020-10-12T09:15:06.831105Z",
     "iopub.status.busy": "2020-10-12T09:15:06.830309Z",
     "iopub.status.idle": "2020-10-12T09:15:06.833324Z",
     "shell.execute_reply": "2020-10-12T09:15:06.833971Z"
    },
    "papermill": {
     "duration": 0.05512,
     "end_time": "2020-10-12T09:15:06.834138",
     "exception": false,
     "start_time": "2020-10-12T09:15:06.779018",
     "status": "completed"
    },
    "tags": []
   },
   "outputs": [],
   "source": [
    "def fix_years_of_credit_history(df):\n",
    "    # No 6\n",
    "    # Функция уменьшает срок кредитной истории для людей которые могли бы пересечь максимальный возраст для кредитования 75 лет.\n",
    "    df.loc[(df['Years of Credit History'] + 18 + df['Current Loan Amount'] / (df['Monthly Debt'] * 12)) > 65, 'Years of Credit History'] = df['Years of Credit History'] - 10\n",
    "    \n",
    "    return df"
   ]
  },
  {
   "cell_type": "code",
   "execution_count": 19,
   "metadata": {
    "execution": {
     "iopub.execute_input": "2020-10-12T09:15:06.926447Z",
     "iopub.status.busy": "2020-10-12T09:15:06.925614Z",
     "iopub.status.idle": "2020-10-12T09:15:06.929287Z",
     "shell.execute_reply": "2020-10-12T09:15:06.928612Z"
    },
    "papermill": {
     "duration": 0.052695,
     "end_time": "2020-10-12T09:15:06.929430",
     "exception": false,
     "start_time": "2020-10-12T09:15:06.876735",
     "status": "completed"
    },
    "tags": []
   },
   "outputs": [],
   "source": [
    "def fix_maximun_open_credit(df):\n",
    "    # No 7\n",
    "    # Функция изменит значения 'Maximum Open Credit' на 'total_credit_amount' если последний больше первого.\n",
    "    df.loc[df['total_credit_amount'] > df['Maximum Open Credit'], 'Maximum Open Credit'] = df['total_credit_amount']\n",
    "    \n",
    "    return df"
   ]
  },
  {
   "cell_type": "code",
   "execution_count": 20,
   "metadata": {
    "execution": {
     "iopub.execute_input": "2020-10-12T09:15:07.032560Z",
     "iopub.status.busy": "2020-10-12T09:15:07.031261Z",
     "iopub.status.idle": "2020-10-12T09:15:07.036457Z",
     "shell.execute_reply": "2020-10-12T09:15:07.035737Z"
    },
    "papermill": {
     "duration": 0.063444,
     "end_time": "2020-10-12T09:15:07.036583",
     "exception": false,
     "start_time": "2020-10-12T09:15:06.973139",
     "status": "completed"
    },
    "tags": []
   },
   "outputs": [],
   "source": [
    "def fix_month_since_last_delinquent(df):\n",
    "    # No 8\n",
    "    # Шаг 1: Все те кто имел 'Number of Credit Problems' != 0, а 'Months since last delinquent' = 0 или NaN , добавит mean()  в 'Months since last delinquent'\n",
    "    mean_by_column_1 = df['Months since last delinquent'].mean()\n",
    "    df.loc[(df['Number of Credit Problems'] != 0) & \n",
    "           ( (df['Months since last delinquent'] == 0) | \n",
    "                                                     (df['Months since last delinquent'].isnull() == True) ) ,\n",
    "           'Months since last delinquent'] = mean_by_column_1 # 524 клиента для train_df, 3557 клиента осталось с NaN\n",
    "    \n",
    "    # Шаг 2: если человек заплатил по кредиту меньше чем 'Monthly Debt' , то он просрочил свой первый платеж\n",
    "    df.loc[df['Current Credit Balance'] < df['Monthly Debt'],'Months since last delinquent'] = 1 # Осталось 3492 клиента с NaN\n",
    "    \n",
    "    # Шаг 3: если человек был банкротом он точно просрочил свой кредит \n",
    "    mean_by_column_1 = df['Months since last delinquent'].mean()\n",
    "    df.loc[(df['Bankruptcies'] != 0) & (df['Months since last delinquent'].isnull() == True), 'Months since last delinquent'] = mean_by_column_1\n",
    "    \n",
    "    # Шаг 9: До тех пор пока не будут придуманы шаги по логическому заполнению 'Months since last delinquent' будет заполнять 0, то есть клинеты никогда не просрачивали кредит\n",
    "    df['Months since last delinquent'] = df['Months since last delinquent'].fillna(0)\n",
    "    \n",
    "    return df"
   ]
  },
  {
   "cell_type": "code",
   "execution_count": 21,
   "metadata": {
    "execution": {
     "iopub.execute_input": "2020-10-12T09:15:07.137433Z",
     "iopub.status.busy": "2020-10-12T09:15:07.136699Z",
     "iopub.status.idle": "2020-10-12T09:15:07.140155Z",
     "shell.execute_reply": "2020-10-12T09:15:07.139519Z"
    },
    "papermill": {
     "duration": 0.056685,
     "end_time": "2020-10-12T09:15:07.140285",
     "exception": false,
     "start_time": "2020-10-12T09:15:07.083600",
     "status": "completed"
    },
    "tags": []
   },
   "outputs": [],
   "source": [
    "def fix_number_of_credit_problems_and_bankruptcies(df):   \n",
    "    # No 9\n",
    "    # Функция для изменения состояния 'Number of Credit Problems' там где они есть\n",
    "    df['Bankruptcies'] = df['Bankruptcies'].fillna(0)\n",
    "    \n",
    "    # Шаг 1 : выявить все неучтенные 'Months since last delinquent' и 'Bankruptcies'\n",
    "    \n",
    "    df.loc[(df['Number of Credit Problems'] == 0) & \n",
    "             ((df['Months since last delinquent'] != 0) |\n",
    "              (df['Bankruptcies'] != 0) ), 'Number of Credit Problems'] = 1\n",
    "    \n",
    "    return df"
   ]
  },
  {
   "cell_type": "code",
   "execution_count": 22,
   "metadata": {
    "execution": {
     "iopub.execute_input": "2020-10-12T09:15:07.242263Z",
     "iopub.status.busy": "2020-10-12T09:15:07.241253Z",
     "iopub.status.idle": "2020-10-12T09:15:07.245199Z",
     "shell.execute_reply": "2020-10-12T09:15:07.244552Z"
    },
    "papermill": {
     "duration": 0.060298,
     "end_time": "2020-10-12T09:15:07.245315",
     "exception": false,
     "start_time": "2020-10-12T09:15:07.185017",
     "status": "completed"
    },
    "tags": []
   },
   "outputs": [],
   "source": [
    "def fix_term(df):\n",
    "    # No 10 \n",
    "    # Шаг 0 : повторим действи функции номер 4 для тех значений которые изменились при коректировке 'Current Loan Amount' и \n",
    "    # 'Current Credit Balance'\n",
    "    df.loc[df['total_credit_amount'] != (df['Current Loan Amount'] + df['Current Credit Balance']), 'total_credit_amount'] = \\\n",
    "    (df['Current Loan Amount'] + df['Current Credit Balance'])\n",
    "    \n",
    "    # Шаг 1 : Функция исправит все значения Long Term когда кредит взят меньше чем на год.\n",
    "    df.loc[(df['total_credit_amount'] / df['Monthly Debt']) <= 12, 'Term'] = 'Short Term'\n",
    "    \n",
    "    # Шаг 2 : Функция изменит все значения Shorn Term когда кредит больше чем на год\n",
    "    df.loc[(df['total_credit_amount'] / df['Monthly Debt']) > 12, 'Term'] = 'Long Term'\n",
    "    \n",
    "    return df"
   ]
  },
  {
   "cell_type": "code",
   "execution_count": 23,
   "metadata": {
    "execution": {
     "iopub.execute_input": "2020-10-12T09:15:07.342271Z",
     "iopub.status.busy": "2020-10-12T09:15:07.341280Z",
     "iopub.status.idle": "2020-10-12T09:15:07.344161Z",
     "shell.execute_reply": "2020-10-12T09:15:07.344621Z"
    },
    "papermill": {
     "duration": 0.053271,
     "end_time": "2020-10-12T09:15:07.344790",
     "exception": false,
     "start_time": "2020-10-12T09:15:07.291519",
     "status": "completed"
    },
    "tags": []
   },
   "outputs": [],
   "source": [
    "def fix_credit_score(df):\n",
    "    # No 11\n",
    "    # Шаг 1 : Меняем значения 'Credit Score' > 1000, т.к. эти значения больеш остальный на много\n",
    "    df.loc[df['Credit Score'] > 1000, 'Credit Score'] = df['Credit Score'] / 10\n",
    "    \n",
    "    # Шаг 2 : заполнить пустые значения\n",
    "    df_mean = df['Credit Score'].mean()\n",
    "    df['Credit Score'] = df['Credit Score'].fillna(df_mean)\n",
    "    # Можно добавить рейтиг тем которые не имеют ноль в \"Number of Credit Problems\" и \"Bankruptcies\",\n",
    "    # И понизить ео тем у кого там что то есть, но пока оставим все как есть.\n",
    "    \n",
    "    return df"
   ]
  },
  {
   "cell_type": "code",
   "execution_count": 24,
   "metadata": {
    "execution": {
     "iopub.execute_input": "2020-10-12T09:15:07.439562Z",
     "iopub.status.busy": "2020-10-12T09:15:07.438831Z",
     "iopub.status.idle": "2020-10-12T09:15:07.441880Z",
     "shell.execute_reply": "2020-10-12T09:15:07.441234Z"
    },
    "papermill": {
     "duration": 0.05322,
     "end_time": "2020-10-12T09:15:07.441995",
     "exception": false,
     "start_time": "2020-10-12T09:15:07.388775",
     "status": "completed"
    },
    "tags": []
   },
   "outputs": [],
   "source": [
    "def fix_home_ownership(df):\n",
    "    # No 12\n",
    "    # Уменьшаем кол-во групп 'Home Ownership'\n",
    "    df.loc[df['Home Ownership'] == 'Have Mortgage', 'Home Ownership'] = 'Home Mortgage'\n",
    "    return df"
   ]
  },
  {
   "cell_type": "code",
   "execution_count": 25,
   "metadata": {
    "execution": {
     "iopub.execute_input": "2020-10-12T09:15:07.539226Z",
     "iopub.status.busy": "2020-10-12T09:15:07.538217Z",
     "iopub.status.idle": "2020-10-12T09:15:07.541729Z",
     "shell.execute_reply": "2020-10-12T09:15:07.541064Z"
    },
    "papermill": {
     "duration": 0.056835,
     "end_time": "2020-10-12T09:15:07.541857",
     "exception": false,
     "start_time": "2020-10-12T09:15:07.485022",
     "status": "completed"
    },
    "tags": []
   },
   "outputs": [],
   "source": [
    "def fix_years_in_current_job(df):\n",
    "    # No 13 \n",
    "    # Уменьшаем кол-во групп 'Years in current job'\n",
    "    year_mode = df['Years in current job'].mode().astype(str)[0]\n",
    "    df['Years in current job'] = df['Years in current job'].fillna(year_mode)\n",
    "\n",
    "#    Решение № 1 : разбить по группам\n",
    "    df.loc[(df['Years in current job'] == '< 1 year') | (df['Years in current job'] == '1 year') |  (df['Years in current job'] == '2 years') | (df['Years in current job'] == '3 years') | (df['Years in current job'] == '4 years'),  'Years in current job'] = '4 or less years'\n",
    "    df.loc[(df['Years in current job'] == '5 years') | (df['Years in current job'] == '6 years') | (df['Years in current job'] == '7 years'),  'Years in current job'] = '5-7 years'\n",
    "    df.loc[(df['Years in current job'] == '8 years') | (df['Years in current job'] == '9 years') ,  'Years in current job'] = '8-9 years'\n",
    "  \n",
    "    \n",
    "    # Решение 2 : присвоить цифровые значения\n",
    "    \n",
    "#     values = df['Years in current job']\n",
    "#     for i in range(0,len(values)):\n",
    "        \n",
    "#         if '+ years' in str(values[i]):\n",
    "#             values[i] = str(values[i]).replace('years', '')\n",
    "            \n",
    "#         if '+' in str(values[i]):\n",
    "#             values[i] = str(values[i]).replace('+', '')\n",
    "            \n",
    "#         if 'year' in str(values[i]):\n",
    "#             values[i] = str(values[i]).replace('year', '')\n",
    "            \n",
    "#         if '< 1' in str(values[i]):\n",
    "#             values[i] = str(values[i]).replace('< 1', '0.5')\n",
    "#         df['Years in current job'][i] = values[i]\n",
    "        \n",
    "#         if 's' in str(values[i]):\n",
    "#             values[i] = str(values[i]).replace('s', '')\n",
    "            \n",
    "        \n",
    "#         if ' ' in str(values[i]):\n",
    "#             values[i] = str(values[i]).replace(' ', '')\n",
    "        \n",
    "        \n",
    "#         df['Years in current job'][i] = values[i]\n",
    "    \n",
    "    \n",
    "#     df['Years in current job'] = values.astype(float)\n",
    "    \n",
    "    return df"
   ]
  },
  {
   "cell_type": "code",
   "execution_count": 26,
   "metadata": {
    "execution": {
     "iopub.execute_input": "2020-10-12T09:15:07.640410Z",
     "iopub.status.busy": "2020-10-12T09:15:07.639490Z",
     "iopub.status.idle": "2020-10-12T09:15:07.643109Z",
     "shell.execute_reply": "2020-10-12T09:15:07.642189Z"
    },
    "papermill": {
     "duration": 0.057245,
     "end_time": "2020-10-12T09:15:07.643254",
     "exception": false,
     "start_time": "2020-10-12T09:15:07.586009",
     "status": "completed"
    },
    "tags": []
   },
   "outputs": [],
   "source": [
    "def fix_purpose(df):\n",
    "    # No 14\n",
    "    # Уменьшаем кол-во групп 'Purpose'\n",
    "    df.loc[df['Purpose'] == 'take a trip', 'Purpose'] = 'vacation'\n",
    "    df.loc[df['Purpose'] == 'renewable energy', 'Purpose'] = 'business loan'\n",
    "    df.loc[df['Purpose'] == 'small business', 'Purpose'] = 'business loan'\n",
    "    df.loc[df['Purpose'] == 'educational expenses', 'Purpose'] = 'major purchase'\n",
    "    df.loc[df['Purpose'] == 'medical bills', 'Purpose'] = 'major purchase'\n",
    "    df.loc[df['Purpose'] == 'wedding', 'Purpose'] = 'major purchase'\n",
    "    df.loc[df['Purpose'] == 'moving', 'Purpose'] = 'other'\n",
    "    \n",
    "    return df"
   ]
  },
  {
   "cell_type": "code",
   "execution_count": 27,
   "metadata": {
    "execution": {
     "iopub.execute_input": "2020-10-12T09:15:07.735975Z",
     "iopub.status.busy": "2020-10-12T09:15:07.735026Z",
     "iopub.status.idle": "2020-10-12T09:15:07.738026Z",
     "shell.execute_reply": "2020-10-12T09:15:07.737430Z"
    },
    "papermill": {
     "duration": 0.050974,
     "end_time": "2020-10-12T09:15:07.738137",
     "exception": false,
     "start_time": "2020-10-12T09:15:07.687163",
     "status": "completed"
    },
    "tags": []
   },
   "outputs": [],
   "source": [
    "def drop_col(df):\n",
    "#     df = df.drop('Number of Open Accounts', axis=1)\n",
    "#     df = df.drop('Purpose', axis=1)\n",
    "#     df = df.drop('Years in current job', axis=1)\n",
    "#     df = df.drop('Home Ownership', axis=1)\n",
    "    return df"
   ]
  },
  {
   "cell_type": "code",
   "execution_count": 28,
   "metadata": {
    "execution": {
     "iopub.execute_input": "2020-10-12T09:15:07.836341Z",
     "iopub.status.busy": "2020-10-12T09:15:07.835363Z",
     "iopub.status.idle": "2020-10-12T09:15:07.839186Z",
     "shell.execute_reply": "2020-10-12T09:15:07.838431Z"
    },
    "papermill": {
     "duration": 0.057167,
     "end_time": "2020-10-12T09:15:07.839311",
     "exception": false,
     "start_time": "2020-10-12T09:15:07.782144",
     "status": "completed"
    },
    "tags": []
   },
   "outputs": [],
   "source": [
    "def fix_all(df):\n",
    "    # Финальная функция \n",
    "    df = fix_monthly_debt(df) # №1\n",
    "    df = fix_annual_income(df, coefficient=50) # №2\n",
    "    df = add_real_annual_income(df) # №3 \n",
    "    df = add_total_credit_amount(df) # №4\n",
    "    df = fix_credits(df) # №5 \n",
    "#     df = df.reset_index(drop=True)\n",
    "    df = fix_years_of_credit_history(df) # №6 \n",
    "    df = fix_maximun_open_credit(df) # №7 \n",
    "    df = fix_month_since_last_delinquent(df) # №8\n",
    "    df = fix_number_of_credit_problems_and_bankruptcies(df)  # №9 \n",
    "    df = fix_term(df) # №10\n",
    "    df = fix_credit_score(df) # №11\n",
    "    df = fix_home_ownership(df) # №12\n",
    "    df = df.drop('Years in current job', axis=1)\n",
    "#     df = fix_years_in_current_job(df) # №13\n",
    "    df = fix_purpose(df) # №14\n",
    "    df = drop_col(df)\n",
    "    \n",
    "    df = pd.get_dummies(df)\n",
    "    return df"
   ]
  },
  {
   "cell_type": "code",
   "execution_count": 29,
   "metadata": {
    "execution": {
     "iopub.execute_input": "2020-10-12T09:15:07.936888Z",
     "iopub.status.busy": "2020-10-12T09:15:07.935922Z",
     "iopub.status.idle": "2020-10-12T09:15:07.939361Z",
     "shell.execute_reply": "2020-10-12T09:15:07.938850Z"
    },
    "papermill": {
     "duration": 0.055743,
     "end_time": "2020-10-12T09:15:07.939505",
     "exception": false,
     "start_time": "2020-10-12T09:15:07.883762",
     "status": "completed"
    },
    "tags": []
   },
   "outputs": [],
   "source": [
    "def drop_col_2(df):\n",
    "    df = df.drop('Purpose_buy house', axis=1)\n",
    "    df = df.drop('Purpose_vacation', axis=1)\n",
    "    df = df.drop('Bankruptcies', axis=1)\n",
    "    df = df.drop('Years in current job_5-7 years', axis=1)\n",
    "    df = df.drop('Purpose_other', axis=1)\n",
    "    df = df.drop('Months since last delinquent', axis=1)\n",
    "    df = df.drop('Purpose_major purchase', axis=1)\n",
    "    df = df.drop('Years in current job_4 or less years', axis=1)\n",
    "    return df"
   ]
  },
  {
   "cell_type": "code",
   "execution_count": 30,
   "metadata": {
    "execution": {
     "iopub.execute_input": "2020-10-12T09:15:08.044463Z",
     "iopub.status.busy": "2020-10-12T09:15:08.043251Z",
     "iopub.status.idle": "2020-10-12T09:15:08.052118Z",
     "shell.execute_reply": "2020-10-12T09:15:08.051447Z"
    },
    "papermill": {
     "duration": 0.067865,
     "end_time": "2020-10-12T09:15:08.052292",
     "exception": false,
     "start_time": "2020-10-12T09:15:07.984427",
     "status": "completed"
    },
    "tags": []
   },
   "outputs": [],
   "source": [
    "def final(df):\n",
    "    copy_df = df.copy()\n",
    "    df = fix_outlier(df)\n",
    "    df = fill_data(df)\n",
    "    df = fix_all(df)\n",
    "    \n",
    "    \n",
    "    feature_name = 'Annual Income'\n",
    "    df[feature_name] = copy_df[feature_name]\n",
    "    df = preprocess_outlier(df, feature_name, threshold=8000000)\n",
    "    annual_income_predictor, df = imputer_rfr(df, feature_name)\n",
    "    \n",
    "    \n",
    "    feature_name = 'Number of Credit Problems'\n",
    "    df = preprocess_outlier(df, feature_name, threshold=5)\n",
    "    df.loc[df[feature_name].isna() == True, feature_name] = 1\n",
    "    \n",
    "    feature_name = 'Credit Score'\n",
    "    df[feature_name] = copy_df[feature_name]\n",
    "    df = preprocess_outlier(df, feature_name, threshold=1000)\n",
    "    cs_predictor, df = imputer_rfr(df, feature_name)\n",
    "    \n",
    "    feature_name = 'Months since last delinquent'\n",
    "    df[feature_name] = copy_df[feature_name]\n",
    "    df = preprocess_outlier(df, feature_name, threshold=48)\n",
    "    msld_predictor, df = imputer_rfr(df, feature_name)\n",
    "    \n",
    "    feature_name = 'Years in current job'\n",
    "    df[feature_name] = copy_df[feature_name]\n",
    "    years_in_current_job_predictor, df = classifier_rfr(df, feature_name)\n",
    "    df = fix_years_in_current_job(df)\n",
    "    \n",
    "    df = pd.get_dummies(df)\n",
    "    df = drop_col_2(df)\n",
    "\n",
    "    return df"
   ]
  },
  {
   "cell_type": "markdown",
   "metadata": {
    "papermill": {
     "duration": 0.044611,
     "end_time": "2020-10-12T09:15:08.192762",
     "exception": false,
     "start_time": "2020-10-12T09:15:08.148151",
     "status": "completed"
    },
    "tags": []
   },
   "source": [
    "## 3. Обзор обучающего датасета | Train data Overview | 学习数据库"
   ]
  },
  {
   "cell_type": "code",
   "execution_count": 31,
   "metadata": {
    "execution": {
     "iopub.execute_input": "2020-10-12T09:15:08.292764Z",
     "iopub.status.busy": "2020-10-12T09:15:08.292011Z",
     "iopub.status.idle": "2020-10-12T09:15:08.374869Z",
     "shell.execute_reply": "2020-10-12T09:15:08.373513Z"
    },
    "papermill": {
     "duration": 0.134962,
     "end_time": "2020-10-12T09:15:08.375026",
     "exception": false,
     "start_time": "2020-10-12T09:15:08.240064",
     "status": "completed"
    },
    "tags": []
   },
   "outputs": [
    {
     "name": "stdout",
     "output_type": "stream",
     "text": [
      "<class 'pandas.core.frame.DataFrame'>\n",
      "RangeIndex: 7500 entries, 0 to 7499\n",
      "Data columns (total 17 columns):\n",
      " #   Column                        Non-Null Count  Dtype  \n",
      "---  ------                        --------------  -----  \n",
      " 0   Home Ownership                7500 non-null   object \n",
      " 1   Annual Income                 5943 non-null   float64\n",
      " 2   Years in current job          7129 non-null   object \n",
      " 3   Tax Liens                     7500 non-null   float64\n",
      " 4   Number of Open Accounts       7500 non-null   float64\n",
      " 5   Years of Credit History       7500 non-null   float64\n",
      " 6   Maximum Open Credit           7500 non-null   float64\n",
      " 7   Number of Credit Problems     7500 non-null   float64\n",
      " 8   Months since last delinquent  3419 non-null   float64\n",
      " 9   Bankruptcies                  7486 non-null   float64\n",
      " 10  Purpose                       7500 non-null   object \n",
      " 11  Term                          7500 non-null   object \n",
      " 12  Current Loan Amount           7500 non-null   float64\n",
      " 13  Current Credit Balance        7500 non-null   float64\n",
      " 14  Monthly Debt                  7500 non-null   float64\n",
      " 15  Credit Score                  5943 non-null   float64\n",
      " 16  Credit Default                7500 non-null   int64  \n",
      "dtypes: float64(12), int64(1), object(4)\n",
      "memory usage: 996.2+ KB\n"
     ]
    }
   ],
   "source": [
    "train_df = pd.read_csv('train.csv')\n",
    "train_df.info()"
   ]
  },
  {
   "cell_type": "markdown",
   "metadata": {
    "papermill": {
     "duration": 0.048572,
     "end_time": "2020-10-12T09:15:08.471058",
     "exception": false,
     "start_time": "2020-10-12T09:15:08.422486",
     "status": "completed"
    },
    "tags": []
   },
   "source": [
    "Пропуски в данных 'Annual Income', 'Years in current job', 'Months since last delinquen', 'Bankruptcies', 'Credit Score' <br>\n",
    "Nan in columns 'Annual Income', 'Years in current job', 'Months since last delinquen', 'Bankruptcies', 'Credit Score' <br>\n",
    "这些列有Nan值 'Annual Income', 'Years in current job', 'Months since last delinquen', 'Bankruptcies', 'Credit Score'"
   ]
  },
  {
   "cell_type": "code",
   "execution_count": 32,
   "metadata": {
    "execution": {
     "iopub.execute_input": "2020-10-12T09:15:08.579179Z",
     "iopub.status.busy": "2020-10-12T09:15:08.578472Z",
     "iopub.status.idle": "2020-10-12T09:15:08.587137Z",
     "shell.execute_reply": "2020-10-12T09:15:08.586303Z"
    },
    "papermill": {
     "duration": 0.066603,
     "end_time": "2020-10-12T09:15:08.587278",
     "exception": false,
     "start_time": "2020-10-12T09:15:08.520675",
     "status": "completed"
    },
    "tags": []
   },
   "outputs": [
    {
     "data": {
      "text/plain": [
       "7580"
      ]
     },
     "execution_count": 32,
     "metadata": {},
     "output_type": "execute_result"
    }
   ],
   "source": [
    "train_df.isna().sum().sum()"
   ]
  },
  {
   "cell_type": "code",
   "execution_count": 33,
   "metadata": {
    "execution": {
     "iopub.execute_input": "2020-10-12T09:15:08.687162Z",
     "iopub.status.busy": "2020-10-12T09:15:08.686277Z",
     "iopub.status.idle": "2020-10-12T09:15:08.691507Z",
     "shell.execute_reply": "2020-10-12T09:15:08.690500Z"
    },
    "papermill": {
     "duration": 0.058254,
     "end_time": "2020-10-12T09:15:08.691683",
     "exception": false,
     "start_time": "2020-10-12T09:15:08.633429",
     "status": "completed"
    },
    "tags": []
   },
   "outputs": [
    {
     "data": {
      "text/plain": [
       "(7500, 17)"
      ]
     },
     "execution_count": 33,
     "metadata": {},
     "output_type": "execute_result"
    }
   ],
   "source": [
    "train_df.shape"
   ]
  },
  {
   "cell_type": "code",
   "execution_count": 34,
   "metadata": {
    "execution": {
     "iopub.execute_input": "2020-10-12T09:15:08.798277Z",
     "iopub.status.busy": "2020-10-12T09:15:08.797326Z",
     "iopub.status.idle": "2020-10-12T09:15:08.802385Z",
     "shell.execute_reply": "2020-10-12T09:15:08.801756Z"
    },
    "papermill": {
     "duration": 0.058826,
     "end_time": "2020-10-12T09:15:08.802520",
     "exception": false,
     "start_time": "2020-10-12T09:15:08.743694",
     "status": "completed"
    },
    "tags": []
   },
   "outputs": [
    {
     "data": {
      "text/plain": [
       "6.316666666666666"
      ]
     },
     "execution_count": 34,
     "metadata": {},
     "output_type": "execute_result"
    }
   ],
   "source": [
    "invalid_data_rate = 7580 / (7500 * 16) *100\n",
    "invalid_data_rate"
   ]
  },
  {
   "cell_type": "code",
   "execution_count": 35,
   "metadata": {
    "execution": {
     "iopub.execute_input": "2020-10-12T09:15:08.903801Z",
     "iopub.status.busy": "2020-10-12T09:15:08.903097Z",
     "iopub.status.idle": "2020-10-12T09:15:08.923213Z",
     "shell.execute_reply": "2020-10-12T09:15:08.922481Z"
    },
    "papermill": {
     "duration": 0.073381,
     "end_time": "2020-10-12T09:15:08.923339",
     "exception": false,
     "start_time": "2020-10-12T09:15:08.849958",
     "status": "completed"
    },
    "tags": []
   },
   "outputs": [],
   "source": [
    "test_df = pd.read_csv('test.csv')"
   ]
  },
  {
   "cell_type": "code",
   "execution_count": 36,
   "metadata": {
    "execution": {
     "iopub.execute_input": "2020-10-12T09:15:09.026002Z",
     "iopub.status.busy": "2020-10-12T09:15:09.024738Z",
     "iopub.status.idle": "2020-10-12T09:15:09.030027Z",
     "shell.execute_reply": "2020-10-12T09:15:09.029292Z"
    },
    "papermill": {
     "duration": 0.05981,
     "end_time": "2020-10-12T09:15:09.030174",
     "exception": false,
     "start_time": "2020-10-12T09:15:08.970364",
     "status": "completed"
    },
    "tags": []
   },
   "outputs": [
    {
     "data": {
      "text/plain": [
       "(2500, 16)"
      ]
     },
     "execution_count": 36,
     "metadata": {},
     "output_type": "execute_result"
    }
   ],
   "source": [
    "test_df.shape"
   ]
  },
  {
   "cell_type": "code",
   "execution_count": 37,
   "metadata": {
    "execution": {
     "iopub.execute_input": "2020-10-12T09:15:09.144162Z",
     "iopub.status.busy": "2020-10-12T09:15:09.143344Z",
     "iopub.status.idle": "2020-10-12T09:15:09.149633Z",
     "shell.execute_reply": "2020-10-12T09:15:09.148835Z"
    },
    "papermill": {
     "duration": 0.063607,
     "end_time": "2020-10-12T09:15:09.149773",
     "exception": false,
     "start_time": "2020-10-12T09:15:09.086166",
     "status": "completed"
    },
    "tags": []
   },
   "outputs": [
    {
     "data": {
      "text/plain": [
       "2473"
      ]
     },
     "execution_count": 37,
     "metadata": {},
     "output_type": "execute_result"
    }
   ],
   "source": [
    "test_df.isna().sum().sum()"
   ]
  },
  {
   "cell_type": "code",
   "execution_count": 38,
   "metadata": {
    "execution": {
     "iopub.execute_input": "2020-10-12T09:15:09.261525Z",
     "iopub.status.busy": "2020-10-12T09:15:09.260580Z",
     "iopub.status.idle": "2020-10-12T09:15:09.266568Z",
     "shell.execute_reply": "2020-10-12T09:15:09.267146Z"
    },
    "papermill": {
     "duration": 0.065971,
     "end_time": "2020-10-12T09:15:09.267297",
     "exception": false,
     "start_time": "2020-10-12T09:15:09.201326",
     "status": "completed"
    },
    "tags": []
   },
   "outputs": [
    {
     "data": {
      "text/plain": [
       "6.1825"
      ]
     },
     "execution_count": 38,
     "metadata": {},
     "output_type": "execute_result"
    }
   ],
   "source": [
    "invalid_data_rate = 2473 / (2500 * 16) * 100\n",
    "invalid_data_rate"
   ]
  },
  {
   "cell_type": "code",
   "execution_count": 39,
   "metadata": {
    "execution": {
     "iopub.execute_input": "2020-10-12T09:15:09.376073Z",
     "iopub.status.busy": "2020-10-12T09:15:09.374894Z",
     "iopub.status.idle": "2020-10-12T09:15:09.379730Z",
     "shell.execute_reply": "2020-10-12T09:15:09.380252Z"
    },
    "papermill": {
     "duration": 0.064185,
     "end_time": "2020-10-12T09:15:09.380421",
     "exception": false,
     "start_time": "2020-10-12T09:15:09.316236",
     "status": "completed"
    },
    "tags": []
   },
   "outputs": [
    {
     "data": {
      "text/plain": [
       "0    5387\n",
       "1    2113\n",
       "Name: Credit Default, dtype: int64"
      ]
     },
     "execution_count": 39,
     "metadata": {},
     "output_type": "execute_result"
    }
   ],
   "source": [
    "train_df['Credit Default'].value_counts()"
   ]
  },
  {
   "cell_type": "code",
   "execution_count": 40,
   "metadata": {
    "execution": {
     "iopub.execute_input": "2020-10-12T09:15:09.489970Z",
     "iopub.status.busy": "2020-10-12T09:15:09.488982Z",
     "iopub.status.idle": "2020-10-12T09:15:09.496593Z",
     "shell.execute_reply": "2020-10-12T09:15:09.495921Z"
    },
    "papermill": {
     "duration": 0.065556,
     "end_time": "2020-10-12T09:15:09.496727",
     "exception": false,
     "start_time": "2020-10-12T09:15:09.431171",
     "status": "completed"
    },
    "tags": []
   },
   "outputs": [
    {
     "data": {
      "text/plain": [
       "2.549455750118315"
      ]
     },
     "execution_count": 40,
     "metadata": {},
     "output_type": "execute_result"
    }
   ],
   "source": [
    "disbalance = train_df['Credit Default'].value_counts()[0] / train_df['Credit Default'].value_counts()[1]\n",
    "disbalance"
   ]
  },
  {
   "cell_type": "markdown",
   "metadata": {
    "papermill": {
     "duration": 0.049211,
     "end_time": "2020-10-12T09:15:09.597587",
     "exception": false,
     "start_time": "2020-10-12T09:15:09.548376",
     "status": "completed"
    },
    "tags": []
   },
   "source": [
    "В два с половиной раза больше клиентов, которые платят по кредиту - это хорошо (для банка). И нехватает 6% данных - это плохо. <br>\n",
    "Bank has 2.5 fold more clients who pay in time for credit - this is good (for Bank). Data doesn't have 6% of values - this is bad. <br>\n",
    "银行支付贷款的客户比不履行义务的多2.5倍，这对银行来说是个好事情。数据库缺少6%数据，这是对模型的准确性很不好。"
   ]
  },
  {
   "cell_type": "code",
   "execution_count": 41,
   "metadata": {
    "execution": {
     "iopub.execute_input": "2020-10-12T09:15:09.700600Z",
     "iopub.status.busy": "2020-10-12T09:15:09.699549Z",
     "iopub.status.idle": "2020-10-12T09:15:09.763623Z",
     "shell.execute_reply": "2020-10-12T09:15:09.762937Z"
    },
    "papermill": {
     "duration": 0.118374,
     "end_time": "2020-10-12T09:15:09.763753",
     "exception": false,
     "start_time": "2020-10-12T09:15:09.645379",
     "status": "completed"
    },
    "tags": []
   },
   "outputs": [
    {
     "data": {
      "text/plain": [
       "Annual Income                   1.418047e+06\n",
       "Tax Liens                       2.598849e-02\n",
       "Number of Open Accounts         1.104214e+01\n",
       "Years of Credit History         1.840817e+01\n",
       "Maximum Open Credit             1.088422e+06\n",
       "Number of Credit Problems       1.637275e-01\n",
       "Months since last delinquent    3.465681e+01\n",
       "Bankruptcies                    1.167938e-01\n",
       "Current Loan Amount             1.640219e+07\n",
       "Current Credit Balance          2.937194e+05\n",
       "Monthly Debt                    1.817643e+04\n",
       "Credit Score                    7.235779e+02\n",
       "Credit Default                  0.000000e+00\n",
       "dtype: float64"
      ]
     },
     "execution_count": 41,
     "metadata": {},
     "output_type": "execute_result"
    }
   ],
   "source": [
    "train_df[train_df['Credit Default'] == 0].mean()"
   ]
  },
  {
   "cell_type": "code",
   "execution_count": 42,
   "metadata": {
    "execution": {
     "iopub.execute_input": "2020-10-12T09:15:09.883083Z",
     "iopub.status.busy": "2020-10-12T09:15:09.872110Z",
     "iopub.status.idle": "2020-10-12T09:15:09.888313Z",
     "shell.execute_reply": "2020-10-12T09:15:09.888826Z"
    },
    "papermill": {
     "duration": 0.075454,
     "end_time": "2020-10-12T09:15:09.888991",
     "exception": false,
     "start_time": "2020-10-12T09:15:09.813537",
     "status": "completed"
    },
    "tags": []
   },
   "outputs": [
    {
     "data": {
      "text/plain": [
       "Annual Income                   1.224243e+06\n",
       "Tax Liens                       4.070043e-02\n",
       "Number of Open Accounts         1.135731e+01\n",
       "Years of Credit History         1.808623e+01\n",
       "Maximum Open Credit             5.798982e+05\n",
       "Number of Credit Problems       1.859915e-01\n",
       "Months since last delinquent    3.478128e+01\n",
       "Bankruptcies                    1.180654e-01\n",
       "Current Loan Amount             3.266510e+05\n",
       "Current Credit Balance          2.799256e+05\n",
       "Monthly Debt                    1.866635e+04\n",
       "Credit Score                    2.327549e+03\n",
       "Credit Default                  1.000000e+00\n",
       "dtype: float64"
      ]
     },
     "execution_count": 42,
     "metadata": {},
     "output_type": "execute_result"
    }
   ],
   "source": [
    "train_df[train_df['Credit Default'] == 1].mean()"
   ]
  },
  {
   "cell_type": "markdown",
   "metadata": {
    "papermill": {
     "duration": 0.051899,
     "end_time": "2020-10-12T09:15:09.996567",
     "exception": false,
     "start_time": "2020-10-12T09:15:09.944668",
     "status": "completed"
    },
    "tags": []
   },
   "source": [
    "Клиенты не выполняющие кледитные обязательства в среднем имеют меньший \"Annual Income\", больший \"Tax Liens\", больше \"Number of Open Accounts\", меньше \"Years of Credit History\", им выдают меньше \"Maximum Open Credit\", у них больше \"Number of Credit Problems\", странно что в среднем показатель \"Months since last delinquent\" почти равны - это говорит что в общем то эти две категории могут с одинаковой долей вероятности задержать платеж, чаще банкротятся \"Bankruptcies\", больше \"Current Loan Amount\" и меньше \"Current Credit Balance\" - что говорит о том что есть разница в оплате на этапах жизни кредита, у них больше \"Monthly Debt\", и больше \"Credit Score\" - но это скорее всего ошибка в данных. \n",
    "<br>\n",
    "Clients who doesn't pay for credits has lower \"Annual Income\", higher \"Tax Liens\", more \"Number of Open Accounts\", less \"Years of Credit History\", they can take less \"Maximum Open Credit\", more \"Number of Credit Problems\", strange that \"Months since last delinquent\" is very similar - it means all clients in general have same probability to fail to pay in time, more often  \"Bankruptcies\",  higher \"Current Loan Amount\" and less \"Current Credit Balance\" - it means period of credit life have influence for payment, higher \"Monthly Debt\", and higher \"Credit Score\" - it must be a mistake.\n",
    "<br>\n",
    "错过付贷款时间的客户比准时支付贷款的客户平均有更低的\"Annual Income\"，更高的\"Tax Liens\",更多\"Number of Open Accounts\",更少\"Years of Credit History\", 银行给他们更低·\"Maximum Open Credit\", 他们有更多\"Number of Credit Problems\",有意思的事客户之间\"Months since last delinquent\"几乎没有差别，这意味着延期支付概率几乎是一样的，更频繁\"Bankruptcies\"，更大的\"Current Loan Amount\"和更小的\"Current Credit Balance\"，这意味着在不同贷款的生命期间内有不同的错过支付时期的概率，更高的\"Monthly Debt\",更高的\"Credit Score\"，这应该是数据里面有错误。"
   ]
  },
  {
   "cell_type": "markdown",
   "metadata": {
    "papermill": {
     "duration": 0.051112,
     "end_time": "2020-10-12T09:15:10.110700",
     "exception": false,
     "start_time": "2020-10-12T09:15:10.059588",
     "status": "completed"
    },
    "tags": []
   },
   "source": [
    "## 4. Обработка выбросов | Handling Outliers | 数据处理"
   ]
  },
  {
   "cell_type": "code",
   "execution_count": 43,
   "metadata": {
    "execution": {
     "iopub.execute_input": "2020-10-12T09:15:10.216700Z",
     "iopub.status.busy": "2020-10-12T09:15:10.216022Z",
     "iopub.status.idle": "2020-10-12T09:15:13.197615Z",
     "shell.execute_reply": "2020-10-12T09:15:13.198145Z"
    },
    "papermill": {
     "duration": 3.038156,
     "end_time": "2020-10-12T09:15:13.198288",
     "exception": false,
     "start_time": "2020-10-12T09:15:10.160132",
     "status": "completed"
    },
    "tags": []
   },
   "outputs": [
    {
     "data": {
      "image/png": "[encoded data removed]",
      "text/plain": [
       "<Figure size 1440x1080 with 12 Axes>"
      ]
     },
     "metadata": {
      "needs_background": "light"
     },
     "output_type": "display_data"
    }
   ],
   "source": [
    "train_df[['Annual Income','Tax Liens','Number of Open Accounts','Years of Credit History',\n",
    "          'Maximum Open Credit','Number of Credit Problems','Months since last delinquent',\n",
    "          'Bankruptcies','Current Loan Amount', 'Current Credit Balance',\n",
    "         'Monthly Debt', 'Credit Score']].hist(bins=50, figsize=(20,15))\n",
    "plt.show()"
   ]
  },
  {
   "cell_type": "code",
   "execution_count": 44,
   "metadata": {
    "execution": {
     "iopub.execute_input": "2020-10-12T09:15:13.311301Z",
     "iopub.status.busy": "2020-10-12T09:15:13.310553Z",
     "iopub.status.idle": "2020-10-12T09:15:13.324701Z",
     "shell.execute_reply": "2020-10-12T09:15:13.323946Z"
    },
    "papermill": {
     "duration": 0.074605,
     "end_time": "2020-10-12T09:15:13.324829",
     "exception": false,
     "start_time": "2020-10-12T09:15:13.250224",
     "status": "completed"
    },
    "tags": []
   },
   "outputs": [],
   "source": [
    "train_df = fix_outlier(train_df)"
   ]
  },
  {
   "cell_type": "code",
   "execution_count": 45,
   "metadata": {
    "execution": {
     "iopub.execute_input": "2020-10-12T09:15:13.457282Z",
     "iopub.status.busy": "2020-10-12T09:15:13.451151Z",
     "iopub.status.idle": "2020-10-12T09:15:16.590247Z",
     "shell.execute_reply": "2020-10-12T09:15:16.589586Z"
    },
    "papermill": {
     "duration": 3.213363,
     "end_time": "2020-10-12T09:15:16.590508",
     "exception": false,
     "start_time": "2020-10-12T09:15:13.377145",
     "status": "completed"
    },
    "tags": []
   },
   "outputs": [
    {
     "data": {
      "image/png": "[encoded data removed]",
      "text/plain": [
       "<Figure size 1440x1080 with 12 Axes>"
      ]
     },
     "metadata": {
      "needs_background": "light"
     },
     "output_type": "display_data"
    }
   ],
   "source": [
    "train_df[['Annual Income','Tax Liens','Number of Open Accounts','Years of Credit History',\n",
    "          'Maximum Open Credit','Number of Credit Problems','Months since last delinquent',\n",
    "          'Bankruptcies','Current Loan Amount', 'Current Credit Balance',\n",
    "         'Monthly Debt', 'Credit Score']].hist(bins=50, figsize=(20,15))\n",
    "plt.show()"
   ]
  },
  {
   "cell_type": "markdown",
   "metadata": {
    "papermill": {
     "duration": 0.055539,
     "end_time": "2020-10-12T09:15:16.704253",
     "exception": false,
     "start_time": "2020-10-12T09:15:16.648714",
     "status": "completed"
    },
    "tags": []
   },
   "source": [
    "## 5. Обработка пропусков | Fill empty data | 处理空值"
   ]
  },
  {
   "cell_type": "code",
   "execution_count": 46,
   "metadata": {
    "execution": {
     "iopub.execute_input": "2020-10-12T09:15:16.822547Z",
     "iopub.status.busy": "2020-10-12T09:15:16.821826Z",
     "iopub.status.idle": "2020-10-12T09:15:16.851634Z",
     "shell.execute_reply": "2020-10-12T09:15:16.850668Z"
    },
    "papermill": {
     "duration": 0.093085,
     "end_time": "2020-10-12T09:15:16.851806",
     "exception": false,
     "start_time": "2020-10-12T09:15:16.758721",
     "status": "completed"
    },
    "tags": []
   },
   "outputs": [
    {
     "name": "stdout",
     "output_type": "stream",
     "text": [
      "<class 'pandas.core.frame.DataFrame'>\n",
      "RangeIndex: 7500 entries, 0 to 7499\n",
      "Data columns (total 17 columns):\n",
      " #   Column                        Non-Null Count  Dtype  \n",
      "---  ------                        --------------  -----  \n",
      " 0   Home Ownership                7500 non-null   object \n",
      " 1   Annual Income                 7500 non-null   float64\n",
      " 2   Years in current job          7500 non-null   object \n",
      " 3   Tax Liens                     7500 non-null   float64\n",
      " 4   Number of Open Accounts       7500 non-null   float64\n",
      " 5   Years of Credit History       7500 non-null   float64\n",
      " 6   Maximum Open Credit           7500 non-null   float64\n",
      " 7   Number of Credit Problems     7500 non-null   float64\n",
      " 8   Months since last delinquent  7500 non-null   float64\n",
      " 9   Bankruptcies                  7500 non-null   float64\n",
      " 10  Purpose                       7500 non-null   object \n",
      " 11  Term                          7500 non-null   object \n",
      " 12  Current Loan Amount           7500 non-null   float64\n",
      " 13  Current Credit Balance        7500 non-null   float64\n",
      " 14  Monthly Debt                  7500 non-null   float64\n",
      " 15  Credit Score                  7500 non-null   float64\n",
      " 16  Credit Default                7500 non-null   int64  \n",
      "dtypes: float64(12), int64(1), object(4)\n",
      "memory usage: 996.2+ KB\n"
     ]
    }
   ],
   "source": [
    "train_df = fill_data(train_df)\n",
    "train_df.info()"
   ]
  },
  {
   "cell_type": "markdown",
   "metadata": {
    "papermill": {
     "duration": 0.054718,
     "end_time": "2020-10-12T09:15:16.961580",
     "exception": false,
     "start_time": "2020-10-12T09:15:16.906862",
     "status": "completed"
    },
    "tags": []
   },
   "source": [
    "На первом этапе заполним данные модой, чтобы после можно было для каждого признака рассчитать значения. <br>\n",
    "First fill empty data with mode() and next calculate each column values. <br>\n",
    "首先用mode()填充空值，下一步单独计算列值。"
   ]
  },
  {
   "cell_type": "markdown",
   "metadata": {
    "papermill": {
     "duration": 0.069125,
     "end_time": "2020-10-12T09:15:17.089356",
     "exception": false,
     "start_time": "2020-10-12T09:15:17.020231",
     "status": "completed"
    },
    "tags": []
   },
   "source": [
    "Наиболее проблемные признаки | Most bad values | 最差的指标：<br>\n",
    "&ensp;&ensp; Annual Income, Months since last delinquent, Credit Score, Years in current job"
   ]
  },
  {
   "cell_type": "code",
   "execution_count": 47,
   "metadata": {
    "execution": {
     "iopub.execute_input": "2020-10-12T09:15:17.215616Z",
     "iopub.status.busy": "2020-10-12T09:15:17.214618Z",
     "iopub.status.idle": "2020-10-12T09:15:28.074706Z",
     "shell.execute_reply": "2020-10-12T09:15:28.075225Z"
    },
    "papermill": {
     "duration": 10.930449,
     "end_time": "2020-10-12T09:15:28.075389",
     "exception": false,
     "start_time": "2020-10-12T09:15:17.144940",
     "status": "completed"
    },
    "tags": []
   },
   "outputs": [
    {
     "name": "stderr",
     "output_type": "stream",
     "text": [
      "[Parallel(n_jobs=1)]: Using backend SequentialBackend with 1 concurrent workers.\n",
      "[Parallel(n_jobs=1)]: Done 100 out of 100 | elapsed:    6.6s finished\n",
      "[Parallel(n_jobs=1)]: Using backend SequentialBackend with 1 concurrent workers.\n",
      "[Parallel(n_jobs=1)]: Done 100 out of 100 | elapsed:    0.2s finished\n",
      "[Parallel(n_jobs=1)]: Using backend SequentialBackend with 1 concurrent workers.\n",
      "[Parallel(n_jobs=1)]: Done 100 out of 100 | elapsed:    0.0s finished\n",
      "[Parallel(n_jobs=1)]: Using backend SequentialBackend with 1 concurrent workers.\n",
      "[Parallel(n_jobs=1)]: Done 100 out of 100 | elapsed:    0.0s finished\n"
     ]
    },
    {
     "name": "stdout",
     "output_type": "stream",
     "text": [
      "r2 on train:0.9999497045421786\n",
      "r2 on test:0.9998931580567493\n"
     ]
    },
    {
     "name": "stderr",
     "output_type": "stream",
     "text": [
      "[Parallel(n_jobs=1)]: Using backend SequentialBackend with 1 concurrent workers.\n",
      "[Parallel(n_jobs=1)]: Done 100 out of 100 | elapsed:   15.2s finished\n",
      "[Parallel(n_jobs=1)]: Using backend SequentialBackend with 1 concurrent workers.\n",
      "[Parallel(n_jobs=1)]: Done 100 out of 100 | elapsed:    0.1s finished\n",
      "[Parallel(n_jobs=1)]: Using backend SequentialBackend with 1 concurrent workers.\n",
      "[Parallel(n_jobs=1)]: Done 100 out of 100 | elapsed:    0.0s finished\n",
      "[Parallel(n_jobs=1)]: Using backend SequentialBackend with 1 concurrent workers.\n"
     ]
    },
    {
     "name": "stdout",
     "output_type": "stream",
     "text": [
      "r2 on train:0.6241644699605731\n",
      "r2 on test:0.18760337300733199\n"
     ]
    },
    {
     "name": "stderr",
     "output_type": "stream",
     "text": [
      "[Parallel(n_jobs=1)]: Done 100 out of 100 | elapsed:    0.0s finished\n",
      "[Parallel(n_jobs=1)]: Using backend SequentialBackend with 1 concurrent workers.\n",
      "[Parallel(n_jobs=1)]: Done 100 out of 100 | elapsed:    5.7s finished\n",
      "[Parallel(n_jobs=1)]: Using backend SequentialBackend with 1 concurrent workers.\n",
      "[Parallel(n_jobs=1)]: Done 100 out of 100 | elapsed:    0.0s finished\n",
      "[Parallel(n_jobs=1)]: Using backend SequentialBackend with 1 concurrent workers.\n",
      "[Parallel(n_jobs=1)]: Done 100 out of 100 | elapsed:    0.0s finished\n",
      "[Parallel(n_jobs=1)]: Using backend SequentialBackend with 1 concurrent workers.\n"
     ]
    },
    {
     "name": "stdout",
     "output_type": "stream",
     "text": [
      "r2 on train:0.4583076517064074\n",
      "r2 on test:0.015273110943094692\n"
     ]
    },
    {
     "name": "stderr",
     "output_type": "stream",
     "text": [
      "[Parallel(n_jobs=1)]: Done 100 out of 100 | elapsed:    0.1s finished\n",
      "[Parallel(n_jobs=1)]: Using backend SequentialBackend with 1 concurrent workers.\n",
      "[Parallel(n_jobs=1)]: Done 100 out of 100 | elapsed:    2.5s finished\n",
      "[Parallel(n_jobs=1)]: Using backend SequentialBackend with 1 concurrent workers.\n",
      "[Parallel(n_jobs=1)]: Done 100 out of 100 | elapsed:    0.2s finished\n",
      "[Parallel(n_jobs=1)]: Using backend SequentialBackend with 1 concurrent workers.\n",
      "[Parallel(n_jobs=1)]: Done 100 out of 100 | elapsed:    0.0s finished\n",
      "C:\\Users\\User\\Anaconda3\\lib\\site-packages\\sklearn\\metrics\\_classification.py:1221: UndefinedMetricWarning: Precision and F-score are ill-defined and being set to 0.0 in labels with no predicted samples. Use `zero_division` parameter to control this behavior.\n",
      "  _warn_prf(average, modifier, msg_start, len(result))\n"
     ]
    },
    {
     "name": "stdout",
     "output_type": "stream",
     "text": [
      "TRAIN\n",
      "\n",
      "              precision    recall  f1-score   support\n",
      "\n",
      "      1 year       0.00      0.00      0.00       406\n",
      "   10+ years       0.34      1.00      0.50      1889\n",
      "     2 years       0.26      0.01      0.03       560\n",
      "     3 years       0.00      0.00      0.00       502\n",
      "     4 years       0.00      0.00      0.00       374\n",
      "     5 years       0.00      0.00      0.00       404\n",
      "     6 years       0.00      0.00      0.00       332\n",
      "     7 years       0.00      0.00      0.00       299\n",
      "     8 years       0.00      0.00      0.00       266\n",
      "     9 years       0.00      0.00      0.00       204\n",
      "    < 1 year       0.50      0.04      0.08       467\n",
      "\n",
      "    accuracy                           0.34      5703\n",
      "   macro avg       0.10      0.10      0.06      5703\n",
      "weighted avg       0.18      0.34      0.18      5703\n",
      "\n",
      "TEST\n",
      "\n",
      "              precision    recall  f1-score   support\n",
      "\n",
      "      1 year       0.00      0.00      0.00        98\n",
      "   10+ years       0.31      1.00      0.48       443\n",
      "     2 years       0.38      0.02      0.04       145\n",
      "     3 years       0.00      0.00      0.00       118\n",
      "     4 years       0.00      0.00      0.00        95\n",
      "     5 years       0.00      0.00      0.00       112\n",
      "     6 years       0.00      0.00      0.00        94\n",
      "     7 years       0.00      0.00      0.00        97\n",
      "     8 years       0.00      0.00      0.00        73\n",
      "     9 years       0.00      0.00      0.00        55\n",
      "    < 1 year       0.12      0.01      0.02        96\n",
      "\n",
      "    accuracy                           0.31      1426\n",
      "   macro avg       0.07      0.09      0.05      1426\n",
      "weighted avg       0.14      0.31      0.15      1426\n",
      "\n",
      "CONFUSION MATRIX\n",
      "\n",
      "col_0                 10+ years  2 years  < 1 year\n",
      "Years in current job                              \n",
      "1 year                       97        0         1\n",
      "10+ years                   443        0         0\n",
      "2 years                     140        3         2\n",
      "3 years                     114        1         3\n",
      "4 years                      94        0         1\n",
      "5 years                     112        0         0\n",
      "6 years                      94        0         0\n",
      "7 years                      96        1         0\n",
      "8 years                      73        0         0\n",
      "9 years                      55        0         0\n",
      "< 1 year                     92        3         1\n"
     ]
    },
    {
     "name": "stderr",
     "output_type": "stream",
     "text": [
      "[Parallel(n_jobs=1)]: Using backend SequentialBackend with 1 concurrent workers.\n",
      "[Parallel(n_jobs=1)]: Done 100 out of 100 | elapsed:    0.0s finished\n",
      "[Parallel(n_jobs=1)]: Using backend SequentialBackend with 1 concurrent workers.\n",
      "[Parallel(n_jobs=1)]: Done 100 out of 100 | elapsed:    5.2s finished\n",
      "[Parallel(n_jobs=1)]: Using backend SequentialBackend with 1 concurrent workers.\n",
      "[Parallel(n_jobs=1)]: Done 100 out of 100 | elapsed:    0.0s finished\n",
      "[Parallel(n_jobs=1)]: Using backend SequentialBackend with 1 concurrent workers.\n",
      "[Parallel(n_jobs=1)]: Done 100 out of 100 | elapsed:    0.0s finished\n",
      "[Parallel(n_jobs=1)]: Using backend SequentialBackend with 1 concurrent workers.\n",
      "[Parallel(n_jobs=1)]: Done 100 out of 100 | elapsed:    0.0s finished\n"
     ]
    },
    {
     "name": "stdout",
     "output_type": "stream",
     "text": [
      "r2 on train:0.9996624925046039\n",
      "r2 on test:0.9998310060103406\n"
     ]
    },
    {
     "name": "stderr",
     "output_type": "stream",
     "text": [
      "[Parallel(n_jobs=1)]: Using backend SequentialBackend with 1 concurrent workers.\n",
      "[Parallel(n_jobs=1)]: Done 100 out of 100 | elapsed:    3.2s finished\n",
      "[Parallel(n_jobs=1)]: Using backend SequentialBackend with 1 concurrent workers.\n",
      "[Parallel(n_jobs=1)]: Done 100 out of 100 | elapsed:    0.0s finished\n",
      "[Parallel(n_jobs=1)]: Using backend SequentialBackend with 1 concurrent workers.\n",
      "[Parallel(n_jobs=1)]: Done 100 out of 100 | elapsed:    0.0s finished\n",
      "[Parallel(n_jobs=1)]: Using backend SequentialBackend with 1 concurrent workers.\n",
      "[Parallel(n_jobs=1)]: Done 100 out of 100 | elapsed:    0.0s finished\n"
     ]
    },
    {
     "name": "stdout",
     "output_type": "stream",
     "text": [
      "r2 on train:0.7405005907075586\n",
      "r2 on test:0.15633606633366337\n"
     ]
    },
    {
     "name": "stderr",
     "output_type": "stream",
     "text": [
      "[Parallel(n_jobs=1)]: Using backend SequentialBackend with 1 concurrent workers.\n",
      "[Parallel(n_jobs=1)]: Done 100 out of 100 | elapsed:    1.9s finished\n",
      "[Parallel(n_jobs=1)]: Using backend SequentialBackend with 1 concurrent workers.\n",
      "[Parallel(n_jobs=1)]: Done 100 out of 100 | elapsed:    0.0s finished\n",
      "[Parallel(n_jobs=1)]: Using backend SequentialBackend with 1 concurrent workers.\n",
      "[Parallel(n_jobs=1)]: Done 100 out of 100 | elapsed:    0.0s finished\n",
      "[Parallel(n_jobs=1)]: Using backend SequentialBackend with 1 concurrent workers.\n",
      "[Parallel(n_jobs=1)]: Done 100 out of 100 | elapsed:    0.0s finished\n"
     ]
    },
    {
     "name": "stdout",
     "output_type": "stream",
     "text": [
      "r2 on train:0.6999679367212837\n",
      "r2 on test:-0.03515697402691975\n"
     ]
    },
    {
     "name": "stderr",
     "output_type": "stream",
     "text": [
      "[Parallel(n_jobs=1)]: Using backend SequentialBackend with 1 concurrent workers.\n",
      "[Parallel(n_jobs=1)]: Done 100 out of 100 | elapsed:    1.0s finished\n",
      "[Parallel(n_jobs=1)]: Using backend SequentialBackend with 1 concurrent workers.\n",
      "[Parallel(n_jobs=1)]: Done 100 out of 100 | elapsed:    0.0s finished\n",
      "[Parallel(n_jobs=1)]: Using backend SequentialBackend with 1 concurrent workers.\n",
      "[Parallel(n_jobs=1)]: Done 100 out of 100 | elapsed:    0.0s finished\n",
      "C:\\Users\\User\\Anaconda3\\lib\\site-packages\\sklearn\\metrics\\_classification.py:1221: UndefinedMetricWarning: Precision and F-score are ill-defined and being set to 0.0 in labels with no predicted samples. Use `zero_division` parameter to control this behavior.\n",
      "  _warn_prf(average, modifier, msg_start, len(result))\n"
     ]
    },
    {
     "name": "stdout",
     "output_type": "stream",
     "text": [
      "TRAIN\n",
      "\n",
      "              precision    recall  f1-score   support\n",
      "\n",
      "      1 year       0.00      0.00      0.00       124\n",
      "   10+ years       0.35      1.00      0.51       637\n",
      "     2 years       0.00      0.00      0.00       182\n",
      "     3 years       0.00      0.00      0.00       172\n",
      "     4 years       0.00      0.00      0.00       126\n",
      "     5 years       0.00      0.00      0.00       135\n",
      "     6 years       0.00      0.00      0.00       107\n",
      "     7 years       0.00      0.00      0.00       115\n",
      "     8 years       0.00      0.00      0.00        88\n",
      "     9 years       0.00      0.00      0.00        83\n",
      "    < 1 year       0.35      0.20      0.25       162\n",
      "\n",
      "    accuracy                           0.35      1931\n",
      "   macro avg       0.06      0.11      0.07      1931\n",
      "weighted avg       0.14      0.35      0.19      1931\n",
      "\n",
      "TEST\n",
      "\n",
      "              precision    recall  f1-score   support\n",
      "\n",
      "      1 year       0.00      0.00      0.00        29\n",
      "   10+ years       0.38      0.99      0.54       173\n",
      "     2 years       0.00      0.00      0.00        30\n",
      "     3 years       0.00      0.00      0.00        56\n",
      "     4 years       0.00      0.00      0.00        26\n",
      "     5 years       0.00      0.00      0.00        34\n",
      "     6 years       0.00      0.00      0.00        30\n",
      "     7 years       0.00      0.00      0.00        25\n",
      "     8 years       0.00      0.00      0.00        19\n",
      "     9 years       0.00      0.00      0.00        16\n",
      "    < 1 year       0.25      0.16      0.19        45\n",
      "\n",
      "    accuracy                           0.37       483\n",
      "   macro avg       0.06      0.10      0.07       483\n",
      "weighted avg       0.16      0.37      0.21       483\n",
      "\n",
      "CONFUSION MATRIX\n",
      "\n",
      "col_0                 10+ years  < 1 year\n",
      "Years in current job                     \n",
      "1 year                       27         2\n",
      "10+ years                   171         2\n",
      "2 years                      27         3\n",
      "3 years                      49         7\n",
      "4 years                      24         2\n",
      "5 years                      33         1\n",
      "6 years                      29         1\n",
      "7 years                      24         1\n",
      "8 years                      18         1\n",
      "9 years                      15         1\n",
      "< 1 year                     38         7\n"
     ]
    },
    {
     "name": "stderr",
     "output_type": "stream",
     "text": [
      "[Parallel(n_jobs=1)]: Using backend SequentialBackend with 1 concurrent workers.\n",
      "[Parallel(n_jobs=1)]: Done 100 out of 100 | elapsed:    0.0s finished\n"
     ]
    }
   ],
   "source": [
    "train_df = pd.read_csv('train.csv')\n",
    "test_df = pd.read_csv('test.csv')\n",
    "origin_train = pd.read_csv('train.csv')\n",
    "origin_test = pd.read_csv('test.csv')\n",
    "train_df = final(train_df)\n",
    "test_df = final(test_df)"
   ]
  },
  {
   "cell_type": "markdown",
   "metadata": {
    "papermill": {
     "duration": 0.060206,
     "end_time": "2020-10-12T09:15:28.197547",
     "exception": false,
     "start_time": "2020-10-12T09:15:28.137341",
     "status": "completed"
    },
    "tags": []
   },
   "source": [
    "## 6. Анализ данных | Data Analyse | 数据分析"
   ]
  },
  {
   "cell_type": "code",
   "execution_count": 48,
   "metadata": {
    "execution": {
     "iopub.execute_input": "2020-10-12T09:15:28.321937Z",
     "iopub.status.busy": "2020-10-12T09:15:28.321078Z",
     "iopub.status.idle": "2020-10-12T09:15:28.324569Z",
     "shell.execute_reply": "2020-10-12T09:15:28.323884Z"
    },
    "papermill": {
     "duration": 0.067955,
     "end_time": "2020-10-12T09:15:28.324692",
     "exception": false,
     "start_time": "2020-10-12T09:15:28.256737",
     "status": "completed"
    },
    "tags": []
   },
   "outputs": [],
   "source": [
    "TARGET_NAME = 'Credit Default'\n",
    "BASE_FEATURE_NAMES = train_df.columns.tolist()\n",
    "BASE_FEATURE_NAMES.remove(TARGET_NAME)"
   ]
  },
  {
   "cell_type": "code",
   "execution_count": 49,
   "metadata": {
    "execution": {
     "iopub.execute_input": "2020-10-12T09:15:28.454302Z",
     "iopub.status.busy": "2020-10-12T09:15:28.453472Z",
     "iopub.status.idle": "2020-10-12T09:15:28.901632Z",
     "shell.execute_reply": "2020-10-12T09:15:28.900982Z"
    },
    "papermill": {
     "duration": 0.518506,
     "end_time": "2020-10-12T09:15:28.901748",
     "exception": false,
     "start_time": "2020-10-12T09:15:28.383242",
     "status": "completed"
    },
    "tags": []
   },
   "outputs": [
    {
     "data": {
      "image/png": "[encoded data removed]",
      "text/plain": [
       "<Figure size 720x576 with 1 Axes>"
      ]
     },
     "metadata": {
      "needs_background": "light"
     },
     "output_type": "display_data"
    }
   ],
   "source": [
    "corr_with_target = train_df[BASE_FEATURE_NAMES + [TARGET_NAME]].corr().iloc[:-1, -1].sort_values(ascending=False)\n",
    "\n",
    "plt.figure(figsize=(10, 8))\n",
    "\n",
    "sns.barplot(x=corr_with_target.values, y=corr_with_target.index)\n",
    "\n",
    "plt.title('Correlation with target variable')\n",
    "plt.show()"
   ]
  },
  {
   "cell_type": "markdown",
   "metadata": {
    "papermill": {
     "duration": 0.062237,
     "end_time": "2020-10-12T09:15:29.025094",
     "exception": false,
     "start_time": "2020-10-12T09:15:28.962857",
     "status": "completed"
    },
    "tags": []
   },
   "source": [
    "## 7. Балансировка классов | Balance Classes | 平衡数据"
   ]
  },
  {
   "cell_type": "code",
   "execution_count": 50,
   "metadata": {
    "execution": {
     "iopub.execute_input": "2020-10-12T09:15:29.154509Z",
     "iopub.status.busy": "2020-10-12T09:15:29.153792Z",
     "iopub.status.idle": "2020-10-12T09:15:29.182939Z",
     "shell.execute_reply": "2020-10-12T09:15:29.182245Z"
    },
    "papermill": {
     "duration": 0.097171,
     "end_time": "2020-10-12T09:15:29.183127",
     "exception": false,
     "start_time": "2020-10-12T09:15:29.085956",
     "status": "completed"
    },
    "tags": []
   },
   "outputs": [],
   "source": [
    "train_df = pd.read_csv('train.csv')\n",
    "test_df = pd.read_csv('test.csv')\n",
    "test_df['Credit Default'] = 3\n",
    "# train_df.append(test_df)\n",
    "# train_df = final(train_df)\n",
    "# trian_df = train_df.loc[train_df['Credit Default'] != 3]"
   ]
  },
  {
   "cell_type": "code",
   "execution_count": 51,
   "metadata": {
    "execution": {
     "iopub.execute_input": "2020-10-12T09:15:29.312859Z",
     "iopub.status.busy": "2020-10-12T09:15:29.311792Z",
     "iopub.status.idle": "2020-10-12T09:15:32.727852Z",
     "shell.execute_reply": "2020-10-12T09:15:32.728551Z"
    },
    "papermill": {
     "duration": 3.485611,
     "end_time": "2020-10-12T09:15:32.728730",
     "exception": false,
     "start_time": "2020-10-12T09:15:29.243119",
     "status": "completed"
    },
    "tags": []
   },
   "outputs": [
    {
     "name": "stderr",
     "output_type": "stream",
     "text": [
      "[Parallel(n_jobs=1)]: Using backend SequentialBackend with 1 concurrent workers.\n",
      "[Parallel(n_jobs=1)]: Done 100 out of 100 | elapsed:    5.3s finished\n",
      "[Parallel(n_jobs=1)]: Using backend SequentialBackend with 1 concurrent workers.\n",
      "[Parallel(n_jobs=1)]: Done 100 out of 100 | elapsed:    0.1s finished\n",
      "[Parallel(n_jobs=1)]: Using backend SequentialBackend with 1 concurrent workers.\n",
      "[Parallel(n_jobs=1)]: Done 100 out of 100 | elapsed:    0.0s finished\n",
      "[Parallel(n_jobs=1)]: Using backend SequentialBackend with 1 concurrent workers.\n",
      "[Parallel(n_jobs=1)]: Done 100 out of 100 | elapsed:    0.0s finished\n"
     ]
    },
    {
     "name": "stdout",
     "output_type": "stream",
     "text": [
      "r2 on train:0.9998131915545868\n",
      "r2 on test:0.9997264102737422\n"
     ]
    },
    {
     "name": "stderr",
     "output_type": "stream",
     "text": [
      "[Parallel(n_jobs=1)]: Using backend SequentialBackend with 1 concurrent workers.\n",
      "[Parallel(n_jobs=1)]: Done 100 out of 100 | elapsed:    4.4s finished\n",
      "[Parallel(n_jobs=1)]: Using backend SequentialBackend with 1 concurrent workers.\n",
      "[Parallel(n_jobs=1)]: Done 100 out of 100 | elapsed:    0.0s finished\n",
      "[Parallel(n_jobs=1)]: Using backend SequentialBackend with 1 concurrent workers.\n",
      "[Parallel(n_jobs=1)]: Done 100 out of 100 | elapsed:    0.0s finished\n",
      "[Parallel(n_jobs=1)]: Using backend SequentialBackend with 1 concurrent workers.\n",
      "[Parallel(n_jobs=1)]: Done 100 out of 100 | elapsed:    0.0s finished\n"
     ]
    },
    {
     "name": "stdout",
     "output_type": "stream",
     "text": [
      "r2 on train:0.7350404861865776\n",
      "r2 on test:0.3009717705623445\n"
     ]
    },
    {
     "name": "stderr",
     "output_type": "stream",
     "text": [
      "[Parallel(n_jobs=1)]: Using backend SequentialBackend with 1 concurrent workers.\n",
      "[Parallel(n_jobs=1)]: Done 100 out of 100 | elapsed:    1.6s finished\n",
      "[Parallel(n_jobs=1)]: Using backend SequentialBackend with 1 concurrent workers.\n",
      "[Parallel(n_jobs=1)]: Done 100 out of 100 | elapsed:    0.0s finished\n",
      "[Parallel(n_jobs=1)]: Using backend SequentialBackend with 1 concurrent workers.\n",
      "[Parallel(n_jobs=1)]: Done 100 out of 100 | elapsed:    0.0s finished\n",
      "[Parallel(n_jobs=1)]: Using backend SequentialBackend with 1 concurrent workers.\n",
      "[Parallel(n_jobs=1)]: Done 100 out of 100 | elapsed:    0.0s finished\n"
     ]
    },
    {
     "name": "stdout",
     "output_type": "stream",
     "text": [
      "r2 on train:0.6386989575223525\n",
      "r2 on test:0.03357623661764653\n"
     ]
    },
    {
     "name": "stderr",
     "output_type": "stream",
     "text": [
      "[Parallel(n_jobs=1)]: Using backend SequentialBackend with 1 concurrent workers.\n",
      "[Parallel(n_jobs=1)]: Done 100 out of 100 | elapsed:    0.5s finished\n",
      "[Parallel(n_jobs=1)]: Using backend SequentialBackend with 1 concurrent workers.\n",
      "[Parallel(n_jobs=1)]: Done 100 out of 100 | elapsed:    0.0s finished\n",
      "[Parallel(n_jobs=1)]: Using backend SequentialBackend with 1 concurrent workers.\n",
      "[Parallel(n_jobs=1)]: Done 100 out of 100 | elapsed:    0.0s finished\n",
      "C:\\Users\\User\\Anaconda3\\lib\\site-packages\\sklearn\\metrics\\_classification.py:1221: UndefinedMetricWarning: Precision and F-score are ill-defined and being set to 0.0 in labels with no predicted samples. Use `zero_division` parameter to control this behavior.\n",
      "  _warn_prf(average, modifier, msg_start, len(result))\n"
     ]
    },
    {
     "name": "stdout",
     "output_type": "stream",
     "text": [
      "TRAIN\n",
      "\n",
      "              precision    recall  f1-score   support\n",
      "\n",
      "      1 year       0.00      0.00      0.00       176\n",
      "   10+ years       0.32      1.00      0.49       752\n",
      "     2 years       0.50      0.02      0.04       236\n",
      "     3 years       0.00      0.00      0.00       199\n",
      "     4 years       0.00      0.00      0.00       155\n",
      "     5 years       0.00      0.00      0.00       164\n",
      "     6 years       0.00      0.00      0.00       142\n",
      "     7 years       0.00      0.00      0.00       139\n",
      "     8 years       0.00      0.00      0.00       119\n",
      "     9 years       0.00      0.00      0.00        81\n",
      "    < 1 year       0.57      0.02      0.04       181\n",
      "\n",
      "    accuracy                           0.32      2344\n",
      "   macro avg       0.13      0.09      0.05      2344\n",
      "weighted avg       0.20      0.32      0.16      2344\n",
      "\n",
      "TEST\n",
      "\n",
      "              precision    recall  f1-score   support\n",
      "\n",
      "      1 year       0.00      0.00      0.00        43\n",
      "   10+ years       0.33      1.00      0.50       192\n",
      "     2 years       0.00      0.00      0.00        57\n",
      "     3 years       0.00      0.00      0.00        52\n",
      "     4 years       0.00      0.00      0.00        34\n",
      "     5 years       0.00      0.00      0.00        41\n",
      "     6 years       0.00      0.00      0.00        38\n",
      "     7 years       0.00      0.00      0.00        31\n",
      "     8 years       0.00      0.00      0.00        30\n",
      "     9 years       0.00      0.00      0.00        22\n",
      "    < 1 year       0.00      0.00      0.00        46\n",
      "\n",
      "    accuracy                           0.33       586\n",
      "   macro avg       0.03      0.09      0.05       586\n",
      "weighted avg       0.11      0.33      0.16       586\n",
      "\n",
      "CONFUSION MATRIX\n",
      "\n",
      "col_0                 10+ years  2 years  < 1 year\n",
      "Years in current job                              \n",
      "1 year                       42        1         0\n",
      "10+ years                   192        0         0\n",
      "2 years                      56        0         1\n",
      "3 years                      51        0         1\n",
      "4 years                      33        1         0\n",
      "5 years                      41        0         0\n",
      "6 years                      38        0         0\n",
      "7 years                      30        1         0\n",
      "8 years                      30        0         0\n",
      "9 years                      22        0         0\n",
      "< 1 year                     44        2         0\n"
     ]
    },
    {
     "name": "stderr",
     "output_type": "stream",
     "text": [
      "[Parallel(n_jobs=1)]: Using backend SequentialBackend with 1 concurrent workers.\n",
      "[Parallel(n_jobs=1)]: Done 100 out of 100 | elapsed:    0.0s finished\n"
     ]
    }
   ],
   "source": [
    "# new_df = train_df.loc[train_df['Credit Default'] == 1]\n",
    "# train_df = train_df.append(new_df)\n",
    "# new_df = train_df.reset_index(drop=True)\n",
    "new_df = train_df.loc[train_df['Credit Default'] == 1]\n",
    "train_df = train_df.loc[train_df['Credit Default'] == 0][:1000]\n",
    "new_df = new_df.append(train_df)\n",
    "new_df = final(new_df)"
   ]
  },
  {
   "cell_type": "code",
   "execution_count": 52,
   "metadata": {
    "execution": {
     "iopub.execute_input": "2020-10-12T09:15:32.860216Z",
     "iopub.status.busy": "2020-10-12T09:15:32.859614Z",
     "iopub.status.idle": "2020-10-12T09:15:32.872040Z",
     "shell.execute_reply": "2020-10-12T09:15:32.872571Z"
    },
    "papermill": {
     "duration": 0.080641,
     "end_time": "2020-10-12T09:15:32.872718",
     "exception": false,
     "start_time": "2020-10-12T09:15:32.792077",
     "status": "completed"
    },
    "tags": []
   },
   "outputs": [
    {
     "name": "stdout",
     "output_type": "stream",
     "text": [
      "<class 'pandas.core.frame.DataFrame'>\n",
      "Int64Index: 3113 entries, 1 to 1380\n",
      "Data columns (total 24 columns):\n",
      " #   Column                          Non-Null Count  Dtype  \n",
      "---  ------                          --------------  -----  \n",
      " 0   Annual Income                   3113 non-null   float64\n",
      " 1   Tax Liens                       3113 non-null   float64\n",
      " 2   Number of Open Accounts         3113 non-null   float64\n",
      " 3   Years of Credit History         3113 non-null   float64\n",
      " 4   Maximum Open Credit             3113 non-null   float64\n",
      " 5   Number of Credit Problems       3113 non-null   float64\n",
      " 6   Current Loan Amount             3113 non-null   float64\n",
      " 7   Current Credit Balance          3113 non-null   float64\n",
      " 8   Monthly Debt                    3113 non-null   float64\n",
      " 9   Credit Score                    3113 non-null   float64\n",
      " 10  Credit Default                  3113 non-null   int64  \n",
      " 11  real_annual_income              3113 non-null   float64\n",
      " 12  total_credit_amount             3113 non-null   float64\n",
      " 13  Home Ownership_Home Mortgage    3113 non-null   uint8  \n",
      " 14  Home Ownership_Own Home         3113 non-null   uint8  \n",
      " 15  Home Ownership_Rent             3113 non-null   uint8  \n",
      " 16  Purpose_business loan           3113 non-null   uint8  \n",
      " 17  Purpose_buy a car               3113 non-null   uint8  \n",
      " 18  Purpose_debt consolidation      3113 non-null   uint8  \n",
      " 19  Purpose_home improvements       3113 non-null   uint8  \n",
      " 20  Term_Long Term                  3113 non-null   uint8  \n",
      " 21  Term_Short Term                 3113 non-null   uint8  \n",
      " 22  Years in current job_10+ years  3113 non-null   uint8  \n",
      " 23  Years in current job_8-9 years  3113 non-null   uint8  \n",
      "dtypes: float64(12), int64(1), uint8(11)\n",
      "memory usage: 453.9 KB\n"
     ]
    }
   ],
   "source": [
    "new_df.info()"
   ]
  },
  {
   "cell_type": "markdown",
   "metadata": {
    "papermill": {
     "duration": 0.066703,
     "end_time": "2020-10-12T09:15:33.002373",
     "exception": false,
     "start_time": "2020-10-12T09:15:32.935670",
     "status": "completed"
    },
    "tags": []
   },
   "source": [
    "## 8. Модель и настройка гиперпараметров | Model and parameters | 模型与模型设置"
   ]
  },
  {
   "cell_type": "code",
   "execution_count": 53,
   "metadata": {
    "execution": {
     "iopub.execute_input": "2020-10-12T09:15:33.138518Z",
     "iopub.status.busy": "2020-10-12T09:15:33.137795Z",
     "iopub.status.idle": "2020-10-12T09:15:33.162288Z",
     "shell.execute_reply": "2020-10-12T09:15:33.161730Z"
    },
    "papermill": {
     "duration": 0.096004,
     "end_time": "2020-10-12T09:15:33.162436",
     "exception": false,
     "start_time": "2020-10-12T09:15:33.066432",
     "status": "completed"
    },
    "tags": []
   },
   "outputs": [
    {
     "data": {
      "text/plain": [
       "((1556, 23), (1557, 23))"
      ]
     },
     "execution_count": 53,
     "metadata": {},
     "output_type": "execute_result"
    }
   ],
   "source": [
    "features = list(new_df.loc[:, (new_df.columns != 'Id')].corrwith(\n",
    "    new_df['Credit Default']).abs().sort_values(ascending=False)[1:].index)\n",
    "\n",
    "target = 'Credit Default'\n",
    "\n",
    "X = new_df[features]\n",
    "y = new_df[target]\n",
    "\n",
    "X_train, X_test, y_train, y_test = train_test_split(X, y, test_size=0.5, shuffle=True, random_state=41)\n",
    "X_train.shape, X_test.shape"
   ]
  },
  {
   "cell_type": "markdown",
   "metadata": {
    "papermill": {
     "duration": 0.074133,
     "end_time": "2020-10-12T09:15:33.301274",
     "exception": false,
     "start_time": "2020-10-12T09:15:33.227141",
     "status": "completed"
    },
    "tags": []
   },
   "source": [
    "params = {'border_count': [10,20],\n",
    "  'max_ctr_complexity': [1],\n",
    "  'depth': [9],\n",
    "  'iterations': [600],\n",
    "  'bagging_temperature': [0.03],\n",
    "  'random_strength': [0.8],\n",
    "  'learning_rate': [0.3,0.4]}<br><br>\n",
    "grid_search_result = model.grid_search(params,\n",
    "                                           X,\n",
    "                                           y,\n",
    "                                           cv=5,\n",
    "                                           partition_random_seed=3,\n",
    "                                           stratified=True)<br><br>\n",
    "best params: \n",
    "<br>'border_count': 20,\n",
    "<br>  'max_ctr_complexity': 1,\n",
    "<br>  'depth': 9,\n",
    "<br>   'iterations': 600,\n",
    "  <br> 'bagging_temperature': 0.03,\n",
    "  <br> 'random_strength': 0.8,\n",
    "  <br> 'learning_rate': 0.4"
   ]
  },
  {
   "cell_type": "code",
   "execution_count": 54,
   "metadata": {
    "execution": {
     "iopub.execute_input": "2020-10-12T09:15:33.454987Z",
     "iopub.status.busy": "2020-10-12T09:15:33.444628Z",
     "iopub.status.idle": "2020-10-12T09:15:33.687700Z",
     "shell.execute_reply": "2020-10-12T09:15:33.686955Z"
    },
    "papermill": {
     "duration": 0.323151,
     "end_time": "2020-10-12T09:15:33.687824",
     "exception": false,
     "start_time": "2020-10-12T09:15:33.364673",
     "status": "completed"
    },
    "tags": []
   },
   "outputs": [],
   "source": [
    "model = CatBoostClassifier(\n",
    "                            border_count=5, \n",
    "                            max_ctr_complexity=1, \n",
    "                            depth=1, \n",
    "                            iterations=125,\n",
    "                            bagging_temperature=0.03, \n",
    "                            random_strength=0.5, \n",
    "                            l2_leaf_reg=32,\n",
    "                            learning_rate=0.03,\n",
    "                            od_type = \"Iter\",\n",
    "                            od_wait = 100,\n",
    "                            eval_metric='F1',\n",
    "                           auto_class_weights='Balanced',\n",
    "                           silent=True,\n",
    ")\n",
    "                            \n",
    "\n",
    "# params = {'border_count': [10],\n",
    "#           'max_ctr_complexity': [1],\n",
    "#           'depth': [1],\n",
    "#           'iterations': [300],\n",
    "#           'bagging_temperature': [0.03],\n",
    "#           'random_strength': [0.5],\n",
    "#           'learning_rate': [0.3],\n",
    "#           'l2_leaf_reg':[5]}\n",
    "\n",
    "# grid_search_result = model.grid_search(params,\n",
    "#                                        X,\n",
    "#                                        y,\n",
    "#                                        cv=5,\n",
    "#                                        partition_random_seed=3,\n",
    "#                                        stratified=True)\n",
    "\n",
    "\n",
    "\n",
    "model.fit(X_train, y_train, early_stopping_rounds=5)\n",
    "y_train_pred = model.predict(X_train)\n",
    "y_test_pred = model.predict(X_test)\n",
    "y_test_pred_probs = model.predict_proba(X_test)"
   ]
  },
  {
   "cell_type": "code",
   "execution_count": 55,
   "metadata": {
    "execution": {
     "iopub.execute_input": "2020-10-12T09:15:33.822005Z",
     "iopub.status.busy": "2020-10-12T09:15:33.821329Z",
     "iopub.status.idle": "2020-10-12T09:15:33.825627Z",
     "shell.execute_reply": "2020-10-12T09:15:33.826141Z"
    },
    "papermill": {
     "duration": 0.073673,
     "end_time": "2020-10-12T09:15:33.826306",
     "exception": false,
     "start_time": "2020-10-12T09:15:33.752633",
     "status": "completed"
    },
    "tags": []
   },
   "outputs": [],
   "source": [
    "# grid_search_result"
   ]
  },
  {
   "cell_type": "code",
   "execution_count": 56,
   "metadata": {
    "execution": {
     "iopub.execute_input": "2020-10-12T09:15:33.957824Z",
     "iopub.status.busy": "2020-10-12T09:15:33.957109Z",
     "iopub.status.idle": "2020-10-12T09:15:33.959784Z",
     "shell.execute_reply": "2020-10-12T09:15:33.959266Z"
    },
    "papermill": {
     "duration": 0.070149,
     "end_time": "2020-10-12T09:15:33.959905",
     "exception": false,
     "start_time": "2020-10-12T09:15:33.889756",
     "status": "completed"
    },
    "tags": []
   },
   "outputs": [],
   "source": [
    "# get_classification_report(y_train, y_train_pred, y_test, y_test_pred)"
   ]
  },
  {
   "cell_type": "markdown",
   "metadata": {
    "papermill": {
     "duration": 0.068466,
     "end_time": "2020-10-12T09:15:34.094785",
     "exception": false,
     "start_time": "2020-10-12T09:15:34.026319",
     "status": "completed"
    },
    "tags": []
   },
   "source": [
    "### 9. Проверка качества, борьба с переобучением | Control Quality and over learning | 质量检查与控制学习过多"
   ]
  },
  {
   "cell_type": "code",
   "execution_count": 57,
   "metadata": {
    "execution": {
     "iopub.execute_input": "2020-10-12T09:15:34.228341Z",
     "iopub.status.busy": "2020-10-12T09:15:34.227722Z",
     "iopub.status.idle": "2020-10-12T09:15:34.230275Z",
     "shell.execute_reply": "2020-10-12T09:15:34.230794Z"
    },
    "papermill": {
     "duration": 0.071002,
     "end_time": "2020-10-12T09:15:34.230950",
     "exception": false,
     "start_time": "2020-10-12T09:15:34.159948",
     "status": "completed"
    },
    "tags": []
   },
   "outputs": [],
   "source": [
    "# show_learning_curve_plot(model, X, y)"
   ]
  },
  {
   "cell_type": "code",
   "execution_count": 58,
   "metadata": {
    "execution": {
     "iopub.execute_input": "2020-10-12T09:15:34.368195Z",
     "iopub.status.busy": "2020-10-12T09:15:34.367186Z",
     "iopub.status.idle": "2020-10-12T09:15:35.103182Z",
     "shell.execute_reply": "2020-10-12T09:15:35.102542Z"
    },
    "papermill": {
     "duration": 0.807402,
     "end_time": "2020-10-12T09:15:35.103301",
     "exception": false,
     "start_time": "2020-10-12T09:15:34.295899",
     "status": "completed"
    },
    "tags": []
   },
   "outputs": [
    {
     "name": "stderr",
     "output_type": "stream",
     "text": [
      "C:\\Users\\User\\Anaconda3\\lib\\site-packages\\sklearn\\metrics\\_classification.py:1221: UndefinedMetricWarning: Precision is ill-defined and being set to 0.0 due to no predicted samples. Use `zero_division` parameter to control this behavior.\n",
      "  _warn_prf(average, modifier, msg_start, len(result))\n"
     ]
    },
    {
     "data": {
      "image/png": "[encoded data removed]",
      "text/plain": [
       "<Figure size 1080x360 with 2 Axes>"
      ]
     },
     "metadata": {
      "needs_background": "light"
     },
     "output_type": "display_data"
    }
   ],
   "source": [
    "show_proba_calibration_plots(y_test_pred_probs[:, 1], y_test)"
   ]
  },
  {
   "cell_type": "markdown",
   "metadata": {
    "papermill": {
     "duration": 0.066826,
     "end_time": "2020-10-12T09:15:35.237355",
     "exception": false,
     "start_time": "2020-10-12T09:15:35.170529",
     "status": "completed"
    },
    "tags": []
   },
   "source": [
    "## 10. Интерпретация результатов | Analyse Result | 结果分析"
   ]
  },
  {
   "cell_type": "code",
   "execution_count": 59,
   "metadata": {
    "execution": {
     "iopub.execute_input": "2020-10-12T09:15:35.381024Z",
     "iopub.status.busy": "2020-10-12T09:15:35.379962Z",
     "iopub.status.idle": "2020-10-12T09:15:38.442875Z",
     "shell.execute_reply": "2020-10-12T09:15:38.443436Z"
    },
    "papermill": {
     "duration": 3.139132,
     "end_time": "2020-10-12T09:15:38.443599",
     "exception": false,
     "start_time": "2020-10-12T09:15:35.304467",
     "status": "completed"
    },
    "tags": []
   },
   "outputs": [
    {
     "name": "stderr",
     "output_type": "stream",
     "text": [
      "[Parallel(n_jobs=1)]: Using backend SequentialBackend with 1 concurrent workers.\n",
      "[Parallel(n_jobs=1)]: Done 100 out of 100 | elapsed:    1.2s finished\n",
      "[Parallel(n_jobs=1)]: Using backend SequentialBackend with 1 concurrent workers.\n",
      "[Parallel(n_jobs=1)]: Done 100 out of 100 | elapsed:    0.0s finished\n",
      "[Parallel(n_jobs=1)]: Using backend SequentialBackend with 1 concurrent workers.\n",
      "[Parallel(n_jobs=1)]: Done 100 out of 100 | elapsed:    0.0s finished\n",
      "[Parallel(n_jobs=1)]: Using backend SequentialBackend with 1 concurrent workers.\n",
      "[Parallel(n_jobs=1)]: Done 100 out of 100 | elapsed:    0.0s finished\n",
      "[Parallel(n_jobs=1)]: Using backend SequentialBackend with 1 concurrent workers.\n"
     ]
    },
    {
     "name": "stdout",
     "output_type": "stream",
     "text": [
      "r2 on train:0.9996624925046039\n",
      "r2 on test:0.9998310060103406\n"
     ]
    },
    {
     "name": "stderr",
     "output_type": "stream",
     "text": [
      "[Parallel(n_jobs=1)]: Done 100 out of 100 | elapsed:    1.0s finished\n",
      "[Parallel(n_jobs=1)]: Using backend SequentialBackend with 1 concurrent workers.\n",
      "[Parallel(n_jobs=1)]: Done 100 out of 100 | elapsed:    0.0s finished\n",
      "[Parallel(n_jobs=1)]: Using backend SequentialBackend with 1 concurrent workers.\n",
      "[Parallel(n_jobs=1)]: Done 100 out of 100 | elapsed:    0.0s finished\n",
      "[Parallel(n_jobs=1)]: Using backend SequentialBackend with 1 concurrent workers.\n",
      "[Parallel(n_jobs=1)]: Done 100 out of 100 | elapsed:    0.0s finished\n",
      "[Parallel(n_jobs=1)]: Using backend SequentialBackend with 1 concurrent workers.\n"
     ]
    },
    {
     "name": "stdout",
     "output_type": "stream",
     "text": [
      "r2 on train:0.7405005907075586\n",
      "r2 on test:0.15633606633366337\n"
     ]
    },
    {
     "name": "stderr",
     "output_type": "stream",
     "text": [
      "[Parallel(n_jobs=1)]: Done 100 out of 100 | elapsed:    0.5s finished\n",
      "[Parallel(n_jobs=1)]: Using backend SequentialBackend with 1 concurrent workers.\n",
      "[Parallel(n_jobs=1)]: Done 100 out of 100 | elapsed:    0.0s finished\n",
      "[Parallel(n_jobs=1)]: Using backend SequentialBackend with 1 concurrent workers.\n",
      "[Parallel(n_jobs=1)]: Done 100 out of 100 | elapsed:    0.0s finished\n",
      "[Parallel(n_jobs=1)]: Using backend SequentialBackend with 1 concurrent workers.\n",
      "[Parallel(n_jobs=1)]: Done 100 out of 100 | elapsed:    0.0s finished\n",
      "[Parallel(n_jobs=1)]: Using backend SequentialBackend with 1 concurrent workers.\n"
     ]
    },
    {
     "name": "stdout",
     "output_type": "stream",
     "text": [
      "r2 on train:0.6999679367212837\n",
      "r2 on test:-0.03515697402691975\n",
      "TRAIN\n",
      "\n",
      "              precision    recall  f1-score   support\n",
      "\n",
      "      1 year       0.00      0.00      0.00       124\n",
      "   10+ years       0.35      1.00      0.51       637\n",
      "     2 years       0.00      0.00      0.00       182\n",
      "     3 years       0.00      0.00      0.00       172\n",
      "     4 years       0.00      0.00      0.00       126\n",
      "     5 years       0.00      0.00      0.00       135\n",
      "     6 years       0.00      0.00      0.00       107\n",
      "     7 years       0.00      0.00      0.00       115\n",
      "     8 years       0.00      0.00      0.00        88\n",
      "     9 years       0.00      0.00      0.00        83\n",
      "    < 1 year       0.35      0.20      0.25       162\n",
      "\n",
      "    accuracy                           0.35      1931\n",
      "   macro avg       0.06      0.11      0.07      1931\n",
      "weighted avg       0.14      0.35      0.19      1931\n",
      "\n",
      "TEST\n",
      "\n",
      "              precision    recall  f1-score   support\n",
      "\n",
      "      1 year       0.00      0.00      0.00        29\n",
      "   10+ years       0.38      0.99      0.54       173\n",
      "     2 years       0.00      0.00      0.00        30\n",
      "     3 years       0.00      0.00      0.00        56\n",
      "     4 years       0.00      0.00      0.00        26\n",
      "     5 years       0.00      0.00      0.00        34\n",
      "     6 years       0.00      0.00      0.00        30\n",
      "     7 years       0.00      0.00      0.00        25\n",
      "     8 years       0.00      0.00      0.00        19\n",
      "     9 years       0.00      0.00      0.00        16\n",
      "    < 1 year       0.25      0.16      0.19        45\n",
      "\n",
      "    accuracy                           0.37       483\n",
      "   macro avg       0.06      0.10      0.07       483\n",
      "weighted avg       0.16      0.37      0.21       483\n",
      "\n",
      "CONFUSION MATRIX\n",
      "\n",
      "col_0                 10+ years  < 1 year\n",
      "Years in current job                     \n",
      "1 year                       27         2\n",
      "10+ years                   171         2\n",
      "2 years                      27         3\n",
      "3 years                      49         7\n",
      "4 years                      24         2\n",
      "5 years                      33         1\n",
      "6 years                      29         1\n",
      "7 years                      24         1\n",
      "8 years                      18         1\n",
      "9 years                      15         1\n",
      "< 1 year                     38         7\n"
     ]
    },
    {
     "name": "stderr",
     "output_type": "stream",
     "text": [
      "[Parallel(n_jobs=1)]: Done 100 out of 100 | elapsed:    0.2s finished\n",
      "[Parallel(n_jobs=1)]: Using backend SequentialBackend with 1 concurrent workers.\n",
      "[Parallel(n_jobs=1)]: Done 100 out of 100 | elapsed:    0.0s finished\n",
      "[Parallel(n_jobs=1)]: Using backend SequentialBackend with 1 concurrent workers.\n",
      "[Parallel(n_jobs=1)]: Done 100 out of 100 | elapsed:    0.0s finished\n",
      "C:\\Users\\User\\Anaconda3\\lib\\site-packages\\sklearn\\metrics\\_classification.py:1221: UndefinedMetricWarning: Precision and F-score are ill-defined and being set to 0.0 in labels with no predicted samples. Use `zero_division` parameter to control this behavior.\n",
      "  _warn_prf(average, modifier, msg_start, len(result))\n",
      "[Parallel(n_jobs=1)]: Using backend SequentialBackend with 1 concurrent workers.\n",
      "[Parallel(n_jobs=1)]: Done 100 out of 100 | elapsed:    0.0s finished\n"
     ]
    }
   ],
   "source": [
    "test_df = pd.read_csv('test.csv')\n",
    "test_df = final(test_df)"
   ]
  },
  {
   "cell_type": "code",
   "execution_count": 60,
   "metadata": {
    "execution": {
     "iopub.execute_input": "2020-10-12T09:15:38.592619Z",
     "iopub.status.busy": "2020-10-12T09:15:38.591846Z",
     "iopub.status.idle": "2020-10-12T09:15:38.764887Z",
     "shell.execute_reply": "2020-10-12T09:15:38.765637Z"
    },
    "papermill": {
     "duration": 0.250737,
     "end_time": "2020-10-12T09:15:38.765876",
     "exception": false,
     "start_time": "2020-10-12T09:15:38.515139",
     "status": "completed"
    },
    "tags": []
   },
   "outputs": [
    {
     "data": {
      "text/plain": [
       "<AxesSubplot:>"
      ]
     },
     "execution_count": 60,
     "metadata": {},
     "output_type": "execute_result"
    },
    {
     "data": {
      "image/png": "[encoded data removed]",
      "text/plain": [
       "<Figure size 432x288 with 1 Axes>"
      ]
     },
     "metadata": {
      "needs_background": "light"
     },
     "output_type": "display_data"
    }
   ],
   "source": [
    "final_prediction = model.predict_proba(test_df)\n",
    "pd.Series(final_prediction[:,1]).hist()"
   ]
  },
  {
   "cell_type": "code",
   "execution_count": 61,
   "metadata": {
    "execution": {
     "iopub.execute_input": "2020-10-12T09:15:38.923568Z",
     "iopub.status.busy": "2020-10-12T09:15:38.922875Z",
     "iopub.status.idle": "2020-10-12T09:15:38.926582Z",
     "shell.execute_reply": "2020-10-12T09:15:38.926021Z"
    },
    "papermill": {
     "duration": 0.081804,
     "end_time": "2020-10-12T09:15:38.926714",
     "exception": false,
     "start_time": "2020-10-12T09:15:38.844910",
     "status": "completed"
    },
    "tags": []
   },
   "outputs": [],
   "source": [
    "prediction = np.where(final_prediction[:,1] >= 0.4, 1, 0)"
   ]
  },
  {
   "cell_type": "code",
   "execution_count": 62,
   "metadata": {
    "execution": {
     "iopub.execute_input": "2020-10-12T09:15:39.080332Z",
     "iopub.status.busy": "2020-10-12T09:15:39.079160Z",
     "iopub.status.idle": "2020-10-12T09:15:39.095210Z",
     "shell.execute_reply": "2020-10-12T09:15:39.094292Z"
    },
    "papermill": {
     "duration": 0.097321,
     "end_time": "2020-10-12T09:15:39.095385",
     "exception": false,
     "start_time": "2020-10-12T09:15:38.998064",
     "status": "completed"
    },
    "tags": []
   },
   "outputs": [
    {
     "data": {
      "text/plain": [
       "1    1653\n",
       "0     847\n",
       "Name: Credit Default, dtype: int64"
      ]
     },
     "execution_count": 62,
     "metadata": {},
     "output_type": "execute_result"
    }
   ],
   "source": [
    "submit = pd.read_csv('sample_submission.csv')\n",
    "submit['Credit Default'] = prediction\n",
    "submit['Credit Default'].value_counts()"
   ]
  },
  {
   "cell_type": "code",
   "execution_count": 63,
   "metadata": {
    "execution": {
     "iopub.execute_input": "2020-10-12T09:15:39.250230Z",
     "iopub.status.busy": "2020-10-12T09:15:39.249474Z",
     "iopub.status.idle": "2020-10-12T09:15:39.549983Z",
     "shell.execute_reply": "2020-10-12T09:15:39.549248Z"
    },
    "papermill": {
     "duration": 0.375377,
     "end_time": "2020-10-12T09:15:39.550101",
     "exception": false,
     "start_time": "2020-10-12T09:15:39.174724",
     "status": "completed"
    },
    "tags": []
   },
   "outputs": [],
   "source": [
    "submit.to_csv('Credit_default_prediction6.csv', index=False, encoding='utf-8', sep=',')"
   ]
  },
  {
   "cell_type": "code",
   "execution_count": null,
   "metadata": {},
   "outputs": [],
   "source": []
  }
 ],
 "metadata": {
  "kernelspec": {
   "display_name": "Python 3",
   "language": "python",
   "name": "python3"
  },
  "language_info": {
   "codemirror_mode": {
    "name": "ipython",
    "version": 3
   },
   "file_extension": ".py",
   "mimetype": "text/x-python",
   "name": "python",
   "nbconvert_exporter": "python",
   "pygments_lexer": "ipython3",
   "version": "3.7.9"
  },
  "papermill": {
   "duration": 42.329523,
   "end_time": "2020-10-12T09:15:39.730099",
   "environment_variables": {},
   "exception": null,
   "input_path": "__notebook__.ipynb",
   "output_path": "__notebook__.ipynb",
   "parameters": {},
   "start_time": "2020-10-12T09:14:57.400576",
   "version": "2.1.0"
  }
 },
 "nbformat": 4,
 "nbformat_minor": 4
}
